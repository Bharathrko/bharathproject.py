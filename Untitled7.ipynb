{
 "cells": [
  {
   "cell_type": "code",
   "execution_count": 1,
   "id": "9d147b1e",
   "metadata": {},
   "outputs": [],
   "source": [
    "a=15\n",
    "if(a>16):\n",
    "    print(\"a is lesser\")"
   ]
  },
  {
   "cell_type": "code",
   "execution_count": 3,
   "id": "1f90870b",
   "metadata": {},
   "outputs": [
    {
     "name": "stdout",
     "output_type": "stream",
     "text": [
      "a is lesser\n"
     ]
    }
   ],
   "source": [
    "a=10\n",
    "if(a>15):\n",
    "    print(\"a is greater\")\n",
    "else:\n",
    "    print(\"a is lesser\")"
   ]
  },
  {
   "cell_type": "code",
   "execution_count": 13,
   "id": "930307db",
   "metadata": {},
   "outputs": [
    {
     "name": "stdout",
     "output_type": "stream",
     "text": [
      "this is not correct\n"
     ]
    }
   ],
   "source": [
    "x=40\n",
    "if(x==60):\n",
    "    if(x<50):\n",
    "        print(\"x is lesser\")\n",
    "    else:\n",
    "        print(\"x is greater\")\n",
    "else:\n",
    "    print(\"this is not correct\")"
   ]
  },
  {
   "cell_type": "code",
   "execution_count": 14,
   "id": "252385c8",
   "metadata": {},
   "outputs": [
    {
     "name": "stdout",
     "output_type": "stream",
     "text": [
      "it is 20\n"
     ]
    }
   ],
   "source": [
    "x=20\n",
    "if(x==10):\n",
    "    print(\"it is 10\")\n",
    "elif(x==20):\n",
    "    print(\"it is 20\")\n",
    "elif(x==30):\n",
    "    print(\"it is 30\")"
   ]
  },
  {
   "cell_type": "code",
   "execution_count": 20,
   "id": "49cfeac6",
   "metadata": {},
   "outputs": [
    {
     "name": "stdout",
     "output_type": "stream",
     "text": [
      "false\n"
     ]
    }
   ],
   "source": [
    "x=10\n",
    "print(\"true\") if x>15 else print(\"false\")"
   ]
  },
  {
   "cell_type": "code",
   "execution_count": 21,
   "id": "59f8665c",
   "metadata": {},
   "outputs": [
    {
     "name": "stdout",
     "output_type": "stream",
     "text": [
      "suresh\n",
      "bharath\n",
      "pavithra\n"
     ]
    }
   ],
   "source": [
    "#for\n",
    "dilip=[\"suresh\",\"bharath\",\"pavithra\"]\n",
    "for x in dilip:\n",
    "    print(x)"
   ]
  },
  {
   "cell_type": "code",
   "execution_count": 26,
   "id": "c4c66226",
   "metadata": {
    "scrolled": true
   },
   "outputs": [
    {
     "name": "stdout",
     "output_type": "stream",
     "text": [
      "b\n",
      "h\n",
      "a\n",
      "r\n",
      "a\n",
      "t\n",
      "h\n",
      " \n",
      "p\n",
      "a\n",
      "v\n",
      "i\n",
      "t\n",
      "h\n",
      "r\n",
      "a\n"
     ]
    }
   ],
   "source": [
    "s=\"bharath pavithra\"\n",
    "for x in s:\n",
    "    print(x)"
   ]
  },
  {
   "cell_type": "code",
   "execution_count": 43,
   "id": "befe8ed0",
   "metadata": {},
   "outputs": [
    {
     "name": "stdout",
     "output_type": "stream",
     "text": [
      "Letter is B\n",
      "Letter is H\n",
      "Letter is R\n",
      "Letter is T\n",
      "Letter is H\n",
      "Letter is  \n",
      "Letter is U\n",
      "Letter is M\n",
      "Letter is R\n"
     ]
    }
   ],
   "source": [
    "for b in \"BHARATH KUMAR\":\n",
    "    if b==\"A\" or b==\"K\": \n",
    "        continue\n",
    "    print(\"Letter is\",b)"
   ]
  },
  {
   "cell_type": "code",
   "execution_count": 47,
   "id": "ffc9173f",
   "metadata": {},
   "outputs": [
    {
     "name": "stdout",
     "output_type": "stream",
     "text": [
      "letter is C\n",
      "letter is H\n",
      "letter is O\n",
      "letter is L\n"
     ]
    }
   ],
   "source": [
    "for b in \"CHOLAMANDALAM FINANCE\":\n",
    "    if b==\"A\" or b==\"N\":\n",
    "        break\n",
    "    print(\"letter is\",b)"
   ]
  },
  {
   "cell_type": "code",
   "execution_count": 48,
   "id": "bf95e936",
   "metadata": {},
   "outputs": [],
   "source": [
    "for l in \"CHOLAMANDALAM\":\n",
    "    pass"
   ]
  },
  {
   "cell_type": "code",
   "execution_count": 52,
   "id": "309ffc9a",
   "metadata": {},
   "outputs": [
    {
     "name": "stdout",
     "output_type": "stream",
     "text": [
      "0 1 2 3 4 5 6 7 8 9 10 11 12 13 14 15 16 17 18 19 20 21 22 23 24 25 26 27 28 29 30 31 32 33 34 35 36 37 38 39 40 41 42 43 44 45 46 47 48 49 50 51 52 53 54 "
     ]
    }
   ],
   "source": [
    "for i in range(55):\n",
    "    print(i,end =\" \")"
   ]
  },
  {
   "cell_type": "code",
   "execution_count": 55,
   "id": "bc760867",
   "metadata": {},
   "outputs": [
    {
     "name": "stdout",
     "output_type": "stream",
     "text": [
      "55 56 57 58 59 "
     ]
    }
   ],
   "source": [
    "for i in range(55,60):\n",
    "    print(i,end=\" \")"
   ]
  },
  {
   "cell_type": "code",
   "execution_count": 57,
   "id": "1e837c14",
   "metadata": {},
   "outputs": [
    {
     "name": "stdout",
     "output_type": "stream",
     "text": [
      "0 1 2 3 4 5 6 7 8 9 10 11 12 13 14 15 16 17 18 19 20 21 22 23 24 25 26 27 28 29 30 31 32 33 34 35 36 37 38 39 40 41 42 43 44 45 46 47 48 49 this is for else\n"
     ]
    }
   ],
   "source": [
    "for i in range(50):\n",
    "    print(i,end=\" \")\n",
    "else:\n",
    "    print(\"this is for else\")"
   ]
  },
  {
   "cell_type": "code",
   "execution_count": 62,
   "id": "cb7995a4",
   "metadata": {},
   "outputs": [
    {
     "name": "stdout",
     "output_type": "stream",
     "text": [
      "bharath\n",
      "bharath\n",
      "bharath\n",
      "bharath\n",
      "bharath\n",
      "bharath\n",
      "bharath\n",
      "bharath\n"
     ]
    }
   ],
   "source": [
    "#while\n",
    "a=2\n",
    "while(a<10):\n",
    "    print(\"bharath\")\n",
    "    a=a+1"
   ]
  },
  {
   "cell_type": "code",
   "execution_count": 69,
   "id": "2da3a5bc",
   "metadata": {},
   "outputs": [
    {
     "name": "stdout",
     "output_type": "stream",
     "text": [
      "current letter r\n",
      "current letter t\n",
      "current letter  \n",
      "current letter k\n",
      "current letter u\n",
      "current letter m\n",
      "current letter r\n"
     ]
    }
   ],
   "source": [
    "a=2\n",
    "s=\"bharath kumar\"\n",
    "while a<len(s):\n",
    "    if s[a]==\"a\" or s[a]==\"h\":\n",
    "        a=a+1\n",
    "        continue\n",
    "    print(\"current letter\",s[a])\n",
    "    a=a+1"
   ]
  },
  {
   "cell_type": "code",
   "execution_count": 67,
   "id": "50030f19",
   "metadata": {},
   "outputs": [
    {
     "name": "stdout",
     "output_type": "stream",
     "text": [
      "current letter b\n"
     ]
    }
   ],
   "source": [
    "a=0\n",
    "s=\"bharath kumar\"\n",
    "while a<len(s):\n",
    "    if s[a]==\"a\" or s[a]==\"h\":\n",
    "        a+=1\n",
    "        break\n",
    "    print(\"current letter\",s[a])\n",
    "    a+=1"
   ]
  },
  {
   "cell_type": "code",
   "execution_count": 70,
   "id": "e44c3d27",
   "metadata": {},
   "outputs": [
    {
     "name": "stdout",
     "output_type": "stream",
     "text": [
      "enter the lower100\n",
      "enter the upper200\n",
      "100\n",
      "102\n",
      "104\n",
      "106\n",
      "108\n",
      "110\n",
      "112\n",
      "114\n",
      "116\n",
      "118\n",
      "120\n",
      "122\n",
      "124\n",
      "126\n",
      "128\n",
      "130\n",
      "132\n",
      "134\n",
      "136\n",
      "138\n",
      "140\n",
      "142\n",
      "144\n",
      "146\n",
      "148\n",
      "150\n",
      "152\n",
      "154\n",
      "156\n",
      "158\n",
      "160\n",
      "162\n",
      "164\n",
      "166\n",
      "168\n",
      "170\n",
      "172\n",
      "174\n",
      "176\n",
      "178\n",
      "180\n",
      "182\n",
      "184\n",
      "186\n",
      "188\n",
      "190\n",
      "192\n",
      "194\n",
      "196\n",
      "198\n",
      "200\n"
     ]
    }
   ],
   "source": [
    "#even numbers using for\n",
    "n1=int(input(\"enter the lower\"))\n",
    "n2=int(input(\"enter the upper\"))\n",
    "for i in range(n1,n2+1):\n",
    "    if(i%2==0):\n",
    "        print(i)"
   ]
  },
  {
   "cell_type": "code",
   "execution_count": 71,
   "id": "b2cf8bb8",
   "metadata": {},
   "outputs": [
    {
     "name": "stdout",
     "output_type": "stream",
     "text": [
      "enter the lower0\n",
      "enter the upper30\n",
      "1\n",
      "3\n",
      "5\n",
      "7\n",
      "9\n",
      "11\n",
      "13\n",
      "15\n",
      "17\n",
      "19\n",
      "21\n",
      "23\n",
      "25\n",
      "27\n",
      "29\n"
     ]
    }
   ],
   "source": [
    "#even numbers using for\n",
    "n1=int(input(\"enter the lower\"))\n",
    "n2=int(input(\"enter the upper\"))\n",
    "for i in range(n1,n2+1):\n",
    "    if(i%2!=0):\n",
    "        print(i)"
   ]
  },
  {
   "cell_type": "code",
   "execution_count": 72,
   "id": "46d02f7b",
   "metadata": {},
   "outputs": [
    {
     "name": "stdout",
     "output_type": "stream",
     "text": [
      "enter the n:11211\n",
      "it is palindrome\n"
     ]
    }
   ],
   "source": [
    "n=int(input(\"enter the n:\"))\n",
    "t=n\n",
    "a=0\n",
    "while(n>0):\n",
    "    d=n%10\n",
    "    a=a*10+d\n",
    "    n=n//10\n",
    "if(t==a):\n",
    "    print(\"it is palindrome\")\n",
    "else:\n",
    "    print(\"it is not palindrome\")"
   ]
  },
  {
   "cell_type": "code",
   "execution_count": 73,
   "id": "d8beb79d",
   "metadata": {},
   "outputs": [
    {
     "name": "stdout",
     "output_type": "stream",
     "text": [
      "enter the n:1234567\n",
      "reverse n is: 7654321\n"
     ]
    }
   ],
   "source": [
    "n=int(input(\"enter the n:\"))\n",
    "a=0\n",
    "while(n>0):\n",
    "    d=n%10\n",
    "    a=a*10+d\n",
    "    n=n//10\n",
    "print(\"reverse n is:\",a)"
   ]
  },
  {
   "cell_type": "code",
   "execution_count": 77,
   "id": "9a8361ce",
   "metadata": {},
   "outputs": [
    {
     "name": "stdout",
     "output_type": "stream",
     "text": [
      "4 X 1 = 4\n",
      "4 X 2 = 8\n",
      "4 X 3 = 12\n",
      "4 X 4 = 16\n",
      "4 X 5 = 20\n",
      "4 X 6 = 24\n",
      "4 X 7 = 28\n",
      "4 X 8 = 32\n",
      "4 X 9 = 36\n",
      "4 X 10 = 40\n",
      "4 X 11 = 44\n",
      "4 X 12 = 48\n",
      "4 X 13 = 52\n",
      "4 X 14 = 56\n",
      "4 X 15 = 60\n",
      "4 X 16 = 64\n",
      "4 X 17 = 68\n",
      "4 X 18 = 72\n",
      "4 X 19 = 76\n",
      "4 X 20 = 80\n"
     ]
    }
   ],
   "source": [
    "n = 4\n",
    "for i in range(1,21):\n",
    "    print(n,\"X\",i,\"=\",n*i)"
   ]
  },
  {
   "cell_type": "code",
   "execution_count": 81,
   "id": "b81cf0cf",
   "metadata": {},
   "outputs": [
    {
     "name": "stdout",
     "output_type": "stream",
     "text": [
      "enter the n:7\n",
      "      *******\n",
      "      ******\n",
      "      *****\n",
      "      ****\n",
      "      ***\n",
      "      **\n",
      "      *\n"
     ]
    }
   ],
   "source": [
    "n=int(input(\"enter the n:\"))\n",
    "for i in range(n,0,-1):\n",
    "    print((n-1)*' '+i*'*')"
   ]
  },
  {
   "cell_type": "code",
   "execution_count": 1,
   "id": "94a26548",
   "metadata": {},
   "outputs": [
    {
     "name": "stdout",
     "output_type": "stream",
     "text": [
      "1 \n",
      "1 2 \n",
      "1 2 3 \n",
      "1 2 3 4 \n",
      "1 2 3 4 5 \n",
      "1 2 3 4 5 6 \n",
      "1 2 3 4 5 6 7 \n",
      "1 2 3 4 5 6 7 8 \n",
      "1 2 3 4 5 6 7 8 9 \n"
     ]
    }
   ],
   "source": [
    "n=9\n",
    "for i in range(1,n+1):\n",
    "    for j in range(1,i+1):\n",
    "        print(j,end=\" \")\n",
    "    print()"
   ]
  },
  {
   "cell_type": "code",
   "execution_count": null,
   "id": "a13e20f4",
   "metadata": {},
   "outputs": [],
   "source": []
  }
 ],
 "metadata": {
  "kernelspec": {
   "display_name": "Python 3 (ipykernel)",
   "language": "python",
   "name": "python3"
  },
  "language_info": {
   "codemirror_mode": {
    "name": "ipython",
    "version": 3
   },
   "file_extension": ".py",
   "mimetype": "text/x-python",
   "name": "python",
   "nbconvert_exporter": "python",
   "pygments_lexer": "ipython3",
   "version": "3.9.13"
  }
 },
 "nbformat": 4,
 "nbformat_minor": 5
}
