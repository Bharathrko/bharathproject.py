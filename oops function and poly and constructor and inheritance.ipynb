{
 "cells": [
  {
   "cell_type": "code",
   "execution_count": 1,
   "id": "1fdf2bfe",
   "metadata": {},
   "outputs": [
    {
     "name": "stdout",
     "output_type": "stream",
     "text": [
      "name: dilip age: 25 gender: male\n",
      "dilip age is male\n"
     ]
    }
   ],
   "source": [
    "#oops\n",
    "class Bharath:\n",
    "    def __init__(self,name,age,gender):   #instance variables\n",
    "        self.name=name\n",
    "        self.age=age\n",
    "        self.gender=gender\n",
    "    def show(self):\n",
    "        print(\"name:\",self.name,\"age:\",self.age,\"gender:\",self.gender)\n",
    "    def sub(self):\n",
    "        print(self.name,\"age is\",self.gender)\n",
    "        \n",
    "b=Bharath(\"dilip\",\"25\",\"male\")\n",
    "b.show()\n",
    "b.sub()"
   ]
  },
  {
   "cell_type": "code",
   "execution_count": 2,
   "id": "42ff798a",
   "metadata": {},
   "outputs": [
    {
     "name": "stdout",
     "output_type": "stream",
     "text": [
      "student name: bharath age: 25\n",
      "college name: loyola college\n",
      "prakash 20 srm\n"
     ]
    }
   ],
   "source": [
    "class Student:\n",
    "    college_name=\"loyola college\"  #class variables\n",
    "    def __init__(self,name,age):\n",
    "        self.name=name\n",
    "        self.age=age\n",
    "        \n",
    "s=Student(\"bharath\",\"25\")\n",
    "print(\"student name:\",s.name,\"age:\",s.age) #inst var\n",
    "print(\"college name:\",s.college_name) #class var\n",
    "\n",
    "s.name=\"prakash\"\n",
    "s.age=20\n",
    "s.college_name=\"srm\"\n",
    "print(s.name,s.age,s.college_name)"
   ]
  },
  {
   "cell_type": "code",
   "execution_count": 3,
   "id": "55f1d40a",
   "metadata": {},
   "outputs": [
    {
     "name": "stdout",
     "output_type": "stream",
     "text": [
      "student pavithra 24 annai velankanni high school\n",
      "student pavithra 17 don bosco\n"
     ]
    }
   ],
   "source": [
    "class Student:\n",
    "    school_name=\"annai velankanni high school\"\n",
    "    \n",
    "    def __init__(self,name,age):\n",
    "        self.name=name\n",
    "        self.age=age\n",
    "        \n",
    "    def show(self):\n",
    "        print(\"student\",self.name,self.age,self.school_name)\n",
    "        \n",
    "    def change_age(self,new_age):\n",
    "        self.age=new_age\n",
    "        \n",
    "    @classmethod\n",
    "    def change_school_name(cls,new_name):\n",
    "        cls.school_name=new_name\n",
    "        \n",
    "stu=Student(\"pavithra\",24)\n",
    "stu.show()\n",
    "stu.change_age(17)\n",
    "stu.change_school_name(\"don bosco\")\n",
    "stu.show()"
   ]
  },
  {
   "cell_type": "code",
   "execution_count": 4,
   "id": "9b2687db",
   "metadata": {},
   "outputs": [
    {
     "name": "stdout",
     "output_type": "stream",
     "text": [
      "this is constructor\n",
      "brand name is: morpheus\n"
     ]
    }
   ],
   "source": [
    "#constructors\n",
    "class Drinks:\n",
    "    def __init__(self,name):\n",
    "        self.name=name\n",
    "        print(\"this is constructor\")\n",
    "        \n",
    "    def show(self):\n",
    "        print(\"brand name is:\",self.name)\n",
    "        \n",
    "dri=Drinks(\"morpheus\")\n",
    "dri.show()"
   ]
  },
  {
   "cell_type": "code",
   "execution_count": 5,
   "id": "529b4787",
   "metadata": {},
   "outputs": [
    {
     "name": "stdout",
     "output_type": "stream",
     "text": [
      "inside constructor\n"
     ]
    }
   ],
   "source": [
    "class Fita:      #default constructor\n",
    "    def fun(self):\n",
    "        print(\"inside constructor\")\n",
    "f1=Fita()\n",
    "f1.fun()"
   ]
  },
  {
   "cell_type": "code",
   "execution_count": 6,
   "id": "5c01bd96",
   "metadata": {},
   "outputs": [
    {
     "name": "stdout",
     "output_type": "stream",
     "text": [
      "company name: morphues brand name: brandy\n"
     ]
    }
   ],
   "source": [
    "class Drinks:\n",
    "    def __init__(self):     # non- parameterized constructor\n",
    "        self.name=\"morphues\"\n",
    "        self.brand=\"brandy\"\n",
    "        \n",
    "    def show(self):\n",
    "        print(\"company name:\",self.name,\"brand name:\",self.brand)\n",
    "d1=Drinks()\n",
    "d1.show()"
   ]
  },
  {
   "cell_type": "code",
   "execution_count": 7,
   "id": "860483d4",
   "metadata": {},
   "outputs": [
    {
     "name": "stdout",
     "output_type": "stream",
     "text": [
      "course name: python batch: weekend\n",
      "object deleted\n"
     ]
    }
   ],
   "source": [
    "class Fita:\n",
    "    def __init__(self,course_name=\"python\",batch=\"weekend\"):\n",
    "        self.course_name=course_name\n",
    "        self.batch=batch\n",
    "    def show(self):\n",
    "        print(\"course name:\",self.course_name,\"batch:\",self.batch)\n",
    "        \n",
    "    def __del__(self):\n",
    "        print(\"object deleted\")#distructor\n",
    "        \n",
    "f2=Fita()\n",
    "f2.show()\n",
    "del f2\n",
    "\n"
   ]
  },
  {
   "cell_type": "code",
   "execution_count": 8,
   "id": "deec0030",
   "metadata": {},
   "outputs": [],
   "source": [
    "#single,multiple,multi level,hirearchical,hybrid\n",
    "\n",
    "#single\n",
    "#multiple\n",
    "#multilevel\n",
    "#hierarchical\n",
    "#hybrid"
   ]
  },
  {
   "cell_type": "code",
   "execution_count": 9,
   "id": "cfd28bd1",
   "metadata": {},
   "outputs": [
    {
     "name": "stdout",
     "output_type": "stream",
     "text": [
      "best captain kholi in ipl\n",
      "this is ipl match\n"
     ]
    }
   ],
   "source": [
    "#single inheritance\n",
    "class cricket: #parent class\n",
    "    def batting(self):\n",
    "        print(\"this is ipl match\")\n",
    "        \n",
    "class kholi(cricket):\n",
    "    def bat(self):\n",
    "        print(\"best captain kholi in ipl\")\n",
    "ko=kholi()\n",
    "ko.bat()\n",
    "ko.batting()"
   ]
  },
  {
   "cell_type": "code",
   "execution_count": 10,
   "id": "7d47d9db",
   "metadata": {},
   "outputs": [
    {
     "name": "stdout",
     "output_type": "stream",
     "text": [
      "rcb batting match\n",
      "batter: no bowler: yes\n",
      "2023 ipl match\n",
      "team: chennai super kings member count: 21\n",
      "csk team captain\n",
      "name: dhoni age: 42\n"
     ]
    }
   ],
   "source": [
    "#multiple inheritance\n",
    "class Ipl:\n",
    "    def batting(self,name,age):    #parent\n",
    "        print(\"csk team captain\")\n",
    "        print(\"name:\",name,\"age:\",age)\n",
    "        \n",
    "class Csk:\n",
    "     def team(self,team_name,members):     #parent\n",
    "        print(\"2023 ipl match\")\n",
    "        print(\"team:\",team_name,\"member count:\",members)\n",
    "        \n",
    "class cricket(Ipl,Csk):\n",
    "    def match(self,bat,bowl):                  #child\n",
    "        \n",
    "        print(\"rcb batting match\")\n",
    "        print(\"batter:\",bat,\"bowler:\",bowl)\n",
    "    \n",
    "c=cricket()\n",
    "c.match(\"no\",\"yes\")\n",
    "c.team(\"chennai super kings\",\"21\")\n",
    "c.batting(\"dhoni\",42)\n",
    "        "
   ]
  },
  {
   "cell_type": "code",
   "execution_count": 11,
   "id": "63ef2190",
   "metadata": {},
   "outputs": [
    {
     "name": "stdout",
     "output_type": "stream",
     "text": [
      "this is playoff\n",
      "batter: yes bowler: no\n",
      "auction for 2023\n",
      "team: rcb price: 100cr\n",
      "this is cricket batting\n",
      "name: kohli age: 33\n",
      "auction for 2023\n",
      "team: punjab price: 33cr\n",
      "this is cricket batting\n",
      "name: sam curren age: 15.5cr\n"
     ]
    }
   ],
   "source": [
    "#multilevel a-----b------c\n",
    "class cricket:\n",
    "    def batting(self,name,age):\n",
    "        print(\"this is cricket batting\")\n",
    "        print(\"name:\",name,\"age:\",age)\n",
    "        \n",
    "class ipl(cricket):\n",
    "    def auction(self,team_name,price):\n",
    "        print(\"auction for 2023\")\n",
    "        print(\"team:\",team_name,\"price:\",price)\n",
    "        \n",
    "class teams(ipl):\n",
    "    def playoff(self,bat,bowl):\n",
    "        print(\"this is playoff\")\n",
    "        print(\"batter:\",bat,\"bowler:\",bowl)\n",
    "        \n",
    "T=teams()\n",
    "T.playoff(\"yes\",\"no\")\n",
    "T.auction(\"rcb\",\"100cr\")\n",
    "T.batting(\"kohli\",\"33\")\n",
    "\n",
    "I=ipl()\n",
    "I.auction(\"punjab\",\"33cr\")\n",
    "I.batting(\"sam curren\",\"15.5cr\")\n",
    "        "
   ]
  },
  {
   "cell_type": "code",
   "execution_count": 12,
   "id": "c36a9f22",
   "metadata": {},
   "outputs": [
    {
     "name": "stdout",
     "output_type": "stream",
     "text": [
      "auction for 2023\n",
      "team: csk price: 35\n",
      "this is cricket batting\n",
      "name: dhoni age: 45\n",
      "australian league\n",
      "team name: bharath role: batting\n",
      "this is cricket batting\n",
      "name: finch age: 35\n",
      "pakistan league\n",
      "team name: pakiiii role: bowl\n",
      "this is cricket batting\n",
      "name: baber azam age: 22\n"
     ]
    }
   ],
   "source": [
    "#hierchical\n",
    "class cricket:\n",
    "    def batting(self,name,age):\n",
    "        print(\"this is cricket batting\")\n",
    "        print(\"name:\",name,\"age:\",age)\n",
    "        \n",
    "class ipl(cricket):\n",
    "    def auction(self,team_name,price):\n",
    "        print(\"auction for 2023\")\n",
    "        print(\"team:\",team_name,\"price:\",price)\n",
    "        \n",
    "class bbl(cricket):\n",
    "    def aust(self,t_name,role):\n",
    "        print(\"australian league\")\n",
    "        print(\"team name:\",t_name,\"role:\",role)\n",
    "        \n",
    "class ps1(cricket):\n",
    "    def pak(self,t_name,role):\n",
    "        print(\"pakistan league\")\n",
    "        print(\"team name:\",t_name,\"role:\",role)\n",
    "        \n",
    "        \n",
    "india=ipl()\n",
    "india.auction(\"csk\",35)\n",
    "india.batting(\"dhoni\",\"45\")\n",
    "\n",
    "aus=bbl()\n",
    "aus.aust(\"bharath\",\"batting\")\n",
    "aus.batting(\"finch\",\"35\")\n",
    "\n",
    "pak=ps1()\n",
    "pak.pak(\"pakiiii\",\"bowl\")\n",
    "pak.batting(\"baber azam\",22)\n"
   ]
  },
  {
   "cell_type": "code",
   "execution_count": 13,
   "id": "7695679c",
   "metadata": {},
   "outputs": [
    {
     "name": "stdout",
     "output_type": "stream",
     "text": [
      "6\n",
      "13\n"
     ]
    }
   ],
   "source": [
    "#polymorphism-multiple form\n",
    "a=[4,5,6,7,8,12.6]\n",
    "print(len(a))\n",
    "b=\"bharath dilip\"\n",
    "print(len(b))"
   ]
  },
  {
   "cell_type": "code",
   "execution_count": 14,
   "id": "9c0b59ca",
   "metadata": {},
   "outputs": [
    {
     "name": "stdout",
     "output_type": "stream",
     "text": [
      "car color is white\n",
      "car speed is 750km\n",
      "bike color is black\n",
      "bike speed is 150km\n"
     ]
    }
   ],
   "source": [
    "class Bike:\n",
    "    def color(self):\n",
    "        print(\"bike color is black\")\n",
    "    def speed(self):\n",
    "        print(\"bike speed is 150km\")\n",
    "        \n",
    "class Car:\n",
    "    def color(self):\n",
    "        print(\"car color is white\")\n",
    "    def speed(self):\n",
    "        print(\"car speed is 750km\")\n",
    "        \n",
    "c=Car()\n",
    "c.color()\n",
    "c.speed()\n",
    "\n",
    "b=Bike()\n",
    "b.color()\n",
    "b.speed()\n",
    "        "
   ]
  },
  {
   "cell_type": "code",
   "execution_count": 15,
   "id": "6ee88b1f",
   "metadata": {},
   "outputs": [
    {
     "name": "stdout",
     "output_type": "stream",
     "text": [
      "name: lokesh marks: 78\n",
      "name: lokesh marks: 78\n",
      "name: lokesh marks: 78\n"
     ]
    }
   ],
   "source": [
    "#encapsulation - public & private & protected\n",
    "\n",
    "class Student:\n",
    "    def __init__(self,name,marks):\n",
    "        self.name=name\n",
    "        self.marks=marks\n",
    "    def rep(self):\n",
    "        print(\"name:\",self.name,\"marks:\",self.marks)\n",
    "        \n",
    "stu=Student(\"lokesh\",78)\n",
    "stu.rep()\n",
    "print(\"name:\",stu.name,\"marks:\",stu.marks)\n",
    "stu.rep()"
   ]
  },
  {
   "cell_type": "code",
   "execution_count": 2,
   "id": "c692785c",
   "metadata": {},
   "outputs": [
    {
     "name": "stdout",
     "output_type": "stream",
     "text": [
      "name is: bharatg\n"
     ]
    }
   ],
   "source": [
    "class Employee:\n",
    "    def __init__(self,name,salary):\n",
    "        self.name=name\n",
    "        self.__salary=salary #private data member\n",
    "emp=Employee(\"bharatg\",70000)\n",
    "print(\"name is:\",emp.name)\n",
    "#print(\"salary is :\",emp.salary)\n"
   ]
  },
  {
   "cell_type": "code",
   "execution_count": 4,
   "id": "7c82b81f",
   "metadata": {},
   "outputs": [
    {
     "name": "stdout",
     "output_type": "stream",
     "text": [
      "emp name: bharath\n",
      "salary is: 18000\n",
      "18000\n"
     ]
    }
   ],
   "source": [
    "class Employee:\n",
    "    def __init__(self):\n",
    "        self._salary=\"18000\" #protected\n",
    "class Company(Employee):\n",
    "    def __init__(self,name):\n",
    "        self.name=name\n",
    "        Employee.__init__(self)\n",
    "    def fun(self):\n",
    "        print(\"emp name:\",self.name)\n",
    "        print(\"salary is:\",self._salary)\n",
    "        \n",
    "c=Company(\"bharath\")\n",
    "c.fun()\n",
    "\n",
    "print(c._salary)\n"
   ]
  },
  {
   "cell_type": "code",
   "execution_count": null,
   "id": "0f93e81e",
   "metadata": {},
   "outputs": [],
   "source": []
  }
 ],
 "metadata": {
  "kernelspec": {
   "display_name": "Python 3 (ipykernel)",
   "language": "python",
   "name": "python3"
  },
  "language_info": {
   "codemirror_mode": {
    "name": "ipython",
    "version": 3
   },
   "file_extension": ".py",
   "mimetype": "text/x-python",
   "name": "python",
   "nbconvert_exporter": "python",
   "pygments_lexer": "ipython3",
   "version": "3.9.13"
  }
 },
 "nbformat": 4,
 "nbformat_minor": 5
}
