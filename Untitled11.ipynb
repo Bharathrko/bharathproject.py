{
 "cells": [
  {
   "cell_type": "code",
   "execution_count": 1,
   "id": "b71256e9",
   "metadata": {},
   "outputs": [
    {
     "name": "stdout",
     "output_type": "stream",
     "text": [
      "name: bharath gender: male subject: tamil\n",
      "bharath belongs to tamil\n"
     ]
    }
   ],
   "source": [
    "#oops\n",
    "class professor:\n",
    "    def __init__(self,name,gender,subject):\n",
    "        self.name=name\n",
    "        self.gender=gender\n",
    "        self.subject=subject\n",
    "    def display(self):\n",
    "        print(\"name:\",self.name,\"gender:\",self.gender,\"subject:\",self.subject)\n",
    "    def sub(self):\n",
    "        print(self.name,\"belongs to\",self.subject)\n",
    "prof=professor(\"bharath\",\"male\",\"tamil\")\n",
    "prof.display()\n",
    "prof.sub()"
   ]
  },
  {
   "cell_type": "code",
   "execution_count": 2,
   "id": "5d2f0a19",
   "metadata": {},
   "outputs": [
    {
     "name": "stdout",
     "output_type": "stream",
     "text": [
      "student: logesh 21\n",
      "college name: loyola college\n",
      "prakash 21 anna univercity\n"
     ]
    }
   ],
   "source": [
    "class Student:\n",
    "    college_name=\"loyola college\"\n",
    "    \n",
    "    def __init__(self,name,age):\n",
    "        self.name=name\n",
    "        self.age=age\n",
    "        \n",
    "S=Student(\"logesh\",21)\n",
    "print(\"student:\",S.name,S.age)\n",
    "print(\"college name:\",S.college_name)\n",
    "\n",
    "S.name=\"prakash\"\n",
    "S.age=21\n",
    "S.college_name=\"anna univercity\"\n",
    "print(S.name,S.age,S.college_name)"
   ]
  },
  {
   "cell_type": "code",
   "execution_count": 5,
   "id": "c3ad1720",
   "metadata": {},
   "outputs": [
    {
     "name": "stdout",
     "output_type": "stream",
     "text": [
      "student dilip 25 don bosco\n",
      "student dilip 15 annai velankanni\n"
     ]
    }
   ],
   "source": [
    "class Student:\n",
    "    school_name=\"don bosco\"\n",
    "    \n",
    "    def __init__(self,name,age):\n",
    "        self.name=name\n",
    "        self.age=age\n",
    "        \n",
    "    def show(self):\n",
    "        print(\"student\",self.name,self.age,self.school_name)\n",
    "    def change_age(self,new_age):\n",
    "        self.age=new_age\n",
    "        \n",
    "    @classmethod\n",
    "    def change_name(cls,new_name):\n",
    "        cls.school_name=new_name\n",
    "        \n",
    "S=Student(\"dilip\",25)\n",
    "S.show()\n",
    "S.change_age(15)\n",
    "S.change_name(\"annai velankanni\")\n",
    "S.show()\n"
   ]
  },
  {
   "cell_type": "code",
   "execution_count": 6,
   "id": "e1a9065b",
   "metadata": {},
   "outputs": [
    {
     "name": "stdout",
     "output_type": "stream",
     "text": [
      "this is constructor\n",
      "my name is: dinesh\n"
     ]
    }
   ],
   "source": [
    "class Fita:\n",
    "    def __init__(self,name):\n",
    "        print(\"this is constructor\")\n",
    "        self.name=name\n",
    "    def show(self):\n",
    "        print(\"my name is:\",self.name)\n",
    "        \n",
    "F=Fita(\"dinesh\")\n",
    "F.show()"
   ]
  },
  {
   "cell_type": "code",
   "execution_count": 7,
   "id": "830f2dd1",
   "metadata": {},
   "outputs": [
    {
     "name": "stdout",
     "output_type": "stream",
     "text": [
      "bharath is great cricket player\n"
     ]
    }
   ],
   "source": [
    "class Fita:\n",
    "    def fun(self):\n",
    "        print(\"bharath is great cricket player\")\n",
    "        \n",
    "F=Fita()\n",
    "F.fun()"
   ]
  },
  {
   "cell_type": "code",
   "execution_count": 8,
   "id": "db591012",
   "metadata": {},
   "outputs": [
    {
     "name": "stdout",
     "output_type": "stream",
     "text": [
      "course name: python batch: sunday\n"
     ]
    }
   ],
   "source": [
    "class Fita:\n",
    "    def __init__(self):\n",
    "        self.name=\"python\"\n",
    "        self.day=\"sunday\"\n",
    "    def show(self):\n",
    "        print(\"course name:\",self.name,\"batch:\",self.day)\n",
    "F2=Fita()\n",
    "F2.show()"
   ]
  },
  {
   "cell_type": "code",
   "execution_count": 24,
   "id": "cfb85daf",
   "metadata": {},
   "outputs": [
    {
     "name": "stdout",
     "output_type": "stream",
     "text": [
      "course name: python batch: weekend\n"
     ]
    }
   ],
   "source": [
    "class Fita:\n",
    "    def __init__(self,cour_name=\"python\",batch=\"weekend\"):\n",
    "        self.cour_name=cour_name\n",
    "        self.batch=batch\n",
    "    def show(self):\n",
    "        print(\"course name:\",self.cour_name,\"batch:\",self.batch)\n",
    "    def __def__(self):\n",
    "        print(\"deleted\")\n",
    "    \n",
    "F=Fita()\n",
    "F.show()\n",
    "del F\n"
   ]
  },
  {
   "cell_type": "code",
   "execution_count": 17,
   "id": "f1b52293",
   "metadata": {},
   "outputs": [
    {
     "name": "stdout",
     "output_type": "stream",
     "text": [
      "0 4\n",
      "1 5\n",
      "2 6\n",
      "3 7\n",
      "4 8\n",
      "5 8\n"
     ]
    }
   ],
   "source": [
    "x=[4,5,6,7,8,8]\n",
    "for i in range(len(x)):\n",
    "    print(i,x[i])"
   ]
  },
  {
   "cell_type": "code",
   "execution_count": 20,
   "id": "fa1552ce",
   "metadata": {},
   "outputs": [
    {
     "name": "stdout",
     "output_type": "stream",
     "text": [
      "this is kholi batting\n",
      "this is cricket batting\n"
     ]
    }
   ],
   "source": [
    "class Cricket:\n",
    "    def batting(self):\n",
    "        print(\"this is cricket batting\")\n",
    "class Kholi(Cricket):\n",
    "    def bat(self):\n",
    "        print(\"this is kholi batting\")\n",
    "        \n",
    "K=Kholi()\n",
    "K.bat()\n",
    "K.batting()"
   ]
  },
  {
   "cell_type": "code",
   "execution_count": null,
   "id": "a3077a6f",
   "metadata": {},
   "outputs": [],
   "source": []
  }
 ],
 "metadata": {
  "kernelspec": {
   "display_name": "Python 3 (ipykernel)",
   "language": "python",
   "name": "python3"
  },
  "language_info": {
   "codemirror_mode": {
    "name": "ipython",
    "version": 3
   },
   "file_extension": ".py",
   "mimetype": "text/x-python",
   "name": "python",
   "nbconvert_exporter": "python",
   "pygments_lexer": "ipython3",
   "version": "3.9.13"
  }
 },
 "nbformat": 4,
 "nbformat_minor": 5
}
