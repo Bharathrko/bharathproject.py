{
 "cells": [
  {
   "cell_type": "code",
   "execution_count": 1,
   "id": "69998558",
   "metadata": {},
   "outputs": [
    {
     "name": "stdout",
     "output_type": "stream",
     "text": [
      "['t', 'h', 'i', 's', ' ', 'i', 's', ' ', 'd', 'i', 'l', 'i', 'p', ' ', 'a', 'n', 'd', ' ', 'd', 'i', 'l', 'i', 'p', ' ', 'p', 'h', 'o', 'n', 'e', ' ', 'n', 'u', 'm', 'b', 'e', 'r', ' ', 'i', 's', ' ']\n"
     ]
    }
   ],
   "source": [
    "#regular expression(RE)\n",
    "import re\n",
    "room=\"this is dilip and dilip phone number is 9945678768\"\n",
    "R=re.findall(r\"\\D\",room)\n",
    "print(R)"
   ]
  },
  {
   "cell_type": "code",
   "execution_count": 2,
   "id": "e7e35915",
   "metadata": {},
   "outputs": [
    {
     "name": "stdout",
     "output_type": "stream",
     "text": [
      "['9', '9', '4', '5', '6', '7', '8', '7', '6', '8']\n"
     ]
    }
   ],
   "source": [
    "import re\n",
    "room=\"this is dilip and dilip phone number is 9945678768\"\n",
    "R=re.findall(r\"\\d\",room)\n",
    "print(R)"
   ]
  },
  {
   "cell_type": "code",
   "execution_count": 15,
   "id": "a9d6f2cc",
   "metadata": {},
   "outputs": [
    {
     "name": "stdout",
     "output_type": "stream",
     "text": [
      "None\n",
      "<re.Match object; span=(35, 36), match='7'>\n",
      "['7', '2', '0', '0', '2', '3', '1', '7', '2', '3']\n",
      "['Dilip', 'is', 'a', 'Miser', 'and', 'his', 'Number', 'is', '7200231723']\n",
      "Dilip*is*a*Miser*and*his*Number*is*7200231723\n"
     ]
    }
   ],
   "source": [
    "import re\n",
    "fita=\"Dilip is a Miser and his Number is 7200231723\"\n",
    "com=r\"\\W\"\n",
    "pattern=re.compile(com)\n",
    "res=pattern.match(fita)\n",
    "print(res)\n",
    "res=re.search(r\"\\d\",fita)\n",
    "print(res)\n",
    "res=re.findall(r\"\\d\",fita)\n",
    "print(res)\n",
    "res=re.split(r\"\\s\",fita)\n",
    "print(res)\n",
    "res=re.sub(r\"\\s\",\"*\",fita)\n",
    "print(res)\n"
   ]
  },
  {
   "cell_type": "code",
   "execution_count": 1,
   "id": "989a18ba",
   "metadata": {},
   "outputs": [
    {
     "name": "stdout",
     "output_type": "stream",
     "text": [
      "suresh is a chola owner \n",
      " also he is a TL\n",
      "suresh is a chola owner \n",
      " also he is a TL\n"
     ]
    }
   ],
   "source": [
    "import re\n",
    "str1=\"suresh is a chola owner \\n also he is a TL\"\n",
    "print(str1)\n",
    "ans=re.search(r\".+\",str1,re.S)\n",
    "print(ans.group())"
   ]
  },
  {
   "cell_type": "code",
   "execution_count": 21,
   "id": "ac19a1fb",
   "metadata": {},
   "outputs": [
    {
     "name": "stdout",
     "output_type": "stream",
     "text": [
      "['Bharath ']\n",
      "['120 days']\n"
     ]
    }
   ],
   "source": [
    "import re\n",
    "s1=\"Bharath learn python course and duration is 120 days\"\n",
    "ans=re.findall(r\"\\A[A-Z].*?\\s\",s1)\n",
    "print(ans)\n",
    "ans=re.findall(r\"\\d.*?\\Z\",s1)\n",
    "print(ans)"
   ]
  },
  {
   "cell_type": "code",
   "execution_count": 22,
   "id": "d725600d",
   "metadata": {},
   "outputs": [
    {
     "name": "stdout",
     "output_type": "stream",
     "text": [
      "['1', '0', '0', '0', '0']\n",
      "['10000']\n",
      "[' ', 'd', 'o', 'l', 'l', 'e', 'r', 's']\n"
     ]
    }
   ],
   "source": [
    "import re\n",
    "rate=\"10000 dollers\"\n",
    "res=re.findall(r\"\\d\",rate)\n",
    "print(res)\n",
    "res=re.findall(r\"\\d+\",rate)\n",
    "print(res)\n",
    "res=re.findall(r\"\\D\",rate)\n",
    "print(res)"
   ]
  },
  {
   "cell_type": "code",
   "execution_count": 25,
   "id": "f48f0a9e",
   "metadata": {},
   "outputs": [
    {
     "name": "stdout",
     "output_type": "stream",
     "text": [
      "['!', ' ', ' ', ' ', '*', '*', '*', '*', '*', '*']\n",
      "['bhara', 'satur']\n",
      "['b', 'h', 'a', 'r', 'a', 't', 'h', 't', 'h', 'i', 's', 'i', 's', 's', 'a', 't', 'u', 'r', 'd', 'a', 'y']\n"
     ]
    }
   ],
   "source": [
    "import re\n",
    "string=\"bharath! this is ***saturday***\"\n",
    "ans=re.findall(r\"\\W\",string)\n",
    "print(ans)\n",
    "ans=re.findall(r\"\\w{5}\",string)\n",
    "print(ans)\n",
    "ans=re.findall(r\"\\w\",string)\n",
    "print(ans)"
   ]
  },
  {
   "cell_type": "code",
   "execution_count": 28,
   "id": "4e041a60",
   "metadata": {},
   "outputs": [
    {
     "name": "stdout",
     "output_type": "stream",
     "text": [
      "dinesh \t \n",
      " kumar\n",
      "[' ', '\\t', ' ', '\\n', ' ']\n",
      "['d', 'i', 'n', 'e', 's', 'h', 'k', 'u', 'm', 'a', 'r']\n",
      "[' \\t \\n ']\n",
      "dinesh and kumar\n"
     ]
    }
   ],
   "source": [
    "import re\n",
    "string=\"dinesh \\t \\n kumar\"\n",
    "print(string)\n",
    "ans=re.findall(r\"\\s\",string)\n",
    "print(ans)\n",
    "ans=re.findall(r\"\\S\",string)\n",
    "print(ans)\n",
    "ans=re.findall(r\"\\s+\",string)\n",
    "print(ans)\n",
    "ans=re.sub(r\"\\s+\",\" \",\"dinesh and \\t kumar\")\n",
    "print(ans)"
   ]
  },
  {
   "cell_type": "code",
   "execution_count": null,
   "id": "4cd95573",
   "metadata": {},
   "outputs": [],
   "source": []
  }
 ],
 "metadata": {
  "kernelspec": {
   "display_name": "Python 3 (ipykernel)",
   "language": "python",
   "name": "python3"
  },
  "language_info": {
   "codemirror_mode": {
    "name": "ipython",
    "version": 3
   },
   "file_extension": ".py",
   "mimetype": "text/x-python",
   "name": "python",
   "nbconvert_exporter": "python",
   "pygments_lexer": "ipython3",
   "version": "3.9.13"
  }
 },
 "nbformat": 4,
 "nbformat_minor": 5
}
