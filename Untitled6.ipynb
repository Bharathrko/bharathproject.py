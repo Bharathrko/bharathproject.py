{
 "cells": [
  {
   "cell_type": "code",
   "execution_count": 1,
   "id": "b60ddb5f",
   "metadata": {},
   "outputs": [
    {
     "name": "stdout",
     "output_type": "stream",
     "text": [
      "{1: 'bharath', 2: 'pavithra', 3: 'poornima'}\n"
     ]
    }
   ],
   "source": [
    "#dict\n",
    "mydic={1:\"bharath\",2:\"pavithra\",3:\"poornima\"}\n",
    "print(mydic)"
   ]
  },
  {
   "cell_type": "code",
   "execution_count": 2,
   "id": "c0fd6ab2",
   "metadata": {},
   "outputs": [
    {
     "name": "stdout",
     "output_type": "stream",
     "text": [
      "<class 'dict'>\n"
     ]
    }
   ],
   "source": [
    "print(type(mydic))"
   ]
  },
  {
   "cell_type": "code",
   "execution_count": 3,
   "id": "6145ca19",
   "metadata": {},
   "outputs": [
    {
     "name": "stdout",
     "output_type": "stream",
     "text": [
      "{'dilip': 'pavithra', 2: [2, 4, 5, 6]}\n"
     ]
    }
   ],
   "source": [
    "mydic1={\"dilip\":\"pavithra\",2:[2,4,5,6]}\n",
    "print(mydic1)"
   ]
  },
  {
   "cell_type": "code",
   "execution_count": 5,
   "id": "b9abf57d",
   "metadata": {},
   "outputs": [
    {
     "name": "stdout",
     "output_type": "stream",
     "text": [
      "{1: 'krishna', 2: 'suresh'}\n"
     ]
    }
   ],
   "source": [
    "mydic2=dict({1:\"krishna\",2:\"suresh\"})\n",
    "print(mydic2)"
   ]
  },
  {
   "cell_type": "code",
   "execution_count": 7,
   "id": "f4983869",
   "metadata": {},
   "outputs": [
    {
     "name": "stdout",
     "output_type": "stream",
     "text": [
      "{1: 4, 3: 5}\n"
     ]
    }
   ],
   "source": [
    "mydic3=dict([(1,4),(3,5)])\n",
    "print(mydic3)"
   ]
  },
  {
   "cell_type": "code",
   "execution_count": 8,
   "id": "0d7772e1",
   "metadata": {},
   "outputs": [
    {
     "name": "stdout",
     "output_type": "stream",
     "text": [
      "<class 'dict'>\n"
     ]
    }
   ],
   "source": [
    "print(type(mydic3))"
   ]
  },
  {
   "cell_type": "code",
   "execution_count": 9,
   "id": "33d0e342",
   "metadata": {},
   "outputs": [
    {
     "name": "stdout",
     "output_type": "stream",
     "text": [
      "{1: 'this', 2: 'is', 3: 'python', 4: 'class', 5: {1: 'welcome', 2: 'coding'}}\n"
     ]
    }
   ],
   "source": [
    "mydic4={1:\"this\",2:\"is\",3:\"python\",4:\"class\",5:{1:\"welcome\",2:\"coding\"}}\n",
    "print(mydic4)"
   ]
  },
  {
   "cell_type": "code",
   "execution_count": 10,
   "id": "7068821e",
   "metadata": {},
   "outputs": [
    {
     "name": "stdout",
     "output_type": "stream",
     "text": [
      "{1: 'this', 2: 'monday', 3: 'python', 4: 'class', 5: {1: 'welcome', 2: 'coding'}}\n"
     ]
    }
   ],
   "source": [
    "mydic4[2]=\"monday\"\n",
    "print(mydic4)"
   ]
  },
  {
   "cell_type": "code",
   "execution_count": 11,
   "id": "b1215ba2",
   "metadata": {},
   "outputs": [
    {
     "name": "stdout",
     "output_type": "stream",
     "text": [
      "{1: 'this', 2: 'monday', 3: 'python', 4: 'class', 5: {1: 'pavithra', 2: 'bharath'}}\n"
     ]
    }
   ],
   "source": [
    "mydic4[5]={1:\"pavithra\",2:\"bharath\"}\n",
    "print(mydic4)"
   ]
  },
  {
   "cell_type": "code",
   "execution_count": 14,
   "id": "3247fe62",
   "metadata": {},
   "outputs": [
    {
     "name": "stdout",
     "output_type": "stream",
     "text": [
      "{1: 'pavithra', 2: 'bharath'}\n",
      "{1: 'pavithra', 2: 'bharath'}\n",
      "pavithra\n"
     ]
    }
   ],
   "source": [
    "print(mydic4[5])\n",
    "print(mydic4.get(5))\n",
    "print(mydic4[5][1])\n"
   ]
  },
  {
   "cell_type": "code",
   "execution_count": 15,
   "id": "d3fb40bc",
   "metadata": {},
   "outputs": [
    {
     "name": "stdout",
     "output_type": "stream",
     "text": [
      "5,6,7\n",
      "5,6,7\n"
     ]
    }
   ],
   "source": [
    "mydic5=input()\n",
    "print(mydic5)"
   ]
  },
  {
   "cell_type": "code",
   "execution_count": 16,
   "id": "e1110503",
   "metadata": {},
   "outputs": [
    {
     "name": "stdout",
     "output_type": "stream",
     "text": [
      "{1: 'this', 2: 'monday', 3: 'python', 4: 'class', 5: {1: 'pavithra', 2: 'bharath'}}\n"
     ]
    },
    {
     "data": {
      "text/plain": [
       "{1: 'pavithra', 2: 'bharath'}"
      ]
     },
     "execution_count": 16,
     "metadata": {},
     "output_type": "execute_result"
    }
   ],
   "source": [
    "print(mydic4)\n",
    "mydic4.pop(5,1)\n"
   ]
  },
  {
   "cell_type": "code",
   "execution_count": 17,
   "id": "05dcad25",
   "metadata": {},
   "outputs": [
    {
     "name": "stdout",
     "output_type": "stream",
     "text": [
      "{1: 'this', 2: 'monday', 3: 'python', 4: 'class'}\n"
     ]
    }
   ],
   "source": [
    "print(mydic4)"
   ]
  },
  {
   "cell_type": "code",
   "execution_count": 18,
   "id": "e8c829fa",
   "metadata": {},
   "outputs": [
    {
     "name": "stdout",
     "output_type": "stream",
     "text": [
      "{1: 'this', 2: 'monday', 3: 'python'}\n"
     ]
    }
   ],
   "source": [
    "del mydic4[4]\n",
    "print(mydic4)"
   ]
  },
  {
   "cell_type": "code",
   "execution_count": 19,
   "id": "48718037",
   "metadata": {},
   "outputs": [
    {
     "name": "stdout",
     "output_type": "stream",
     "text": [
      "{1: 4, 2: 'pavithra', 3: 5}\n"
     ]
    }
   ],
   "source": [
    "mydic6=mydic|mydic3\n",
    "print(mydic6)"
   ]
  },
  {
   "cell_type": "code",
   "execution_count": 21,
   "id": "77f3c46f",
   "metadata": {},
   "outputs": [
    {
     "name": "stdout",
     "output_type": "stream",
     "text": [
      "B is greater\n"
     ]
    }
   ],
   "source": [
    "a=5\n",
    "b=6\n",
    "if(a>b):\n",
    "    print(\"A is greater\")\n",
    "else:\n",
    "        print(\"B is greater\")\n",
    "        "
   ]
  },
  {
   "cell_type": "code",
   "execution_count": 2,
   "id": "4957b10a",
   "metadata": {},
   "outputs": [
    {
     "name": "stdout",
     "output_type": "stream",
     "text": [
      "current letter: p\n",
      "current letter: a\n",
      "current letter: v\n",
      "current letter: h\n",
      "current letter: r\n",
      "current letter: a\n",
      "current letter:  \n",
      "current letter: l\n",
      "current letter: o\n",
      "current letter: v\n",
      "current letter: e\n",
      "current letter:  \n",
      "current letter: b\n",
      "current letter: h\n",
      "current letter: a\n",
      "current letter: r\n",
      "current letter: a\n",
      "current letter: h\n"
     ]
    }
   ],
   "source": [
    "a=0\n",
    "s=\"pavithra love bharath\"\n",
    "while a<len(s):\n",
    "    if s[a]==\"i\" or s[a]==\"t\":\n",
    "        a+=1\n",
    "        continue\n",
    "    print(\"current letter:\",s[a])\n",
    "    a+=1"
   ]
  },
  {
   "cell_type": "code",
   "execution_count": 4,
   "id": "cb11f904",
   "metadata": {},
   "outputs": [
    {
     "name": "stdout",
     "output_type": "stream",
     "text": [
      "4 x 1 = 4\n",
      "4 x 2 = 8\n",
      "4 x 3 = 12\n",
      "4 x 4 = 16\n",
      "4 x 5 = 20\n",
      "4 x 6 = 24\n",
      "4 x 7 = 28\n",
      "4 x 8 = 32\n",
      "4 x 9 = 36\n",
      "4 x 10 = 40\n"
     ]
    }
   ],
   "source": [
    "n=4\n",
    "for i in range(1,11):\n",
    "    print(n,\"x\",i,\"=\",n*i)"
   ]
  },
  {
   "cell_type": "code",
   "execution_count": 10,
   "id": "a0a70296",
   "metadata": {},
   "outputs": [
    {
     "name": "stdout",
     "output_type": "stream",
     "text": [
      "0 \r\n",
      "0 1 \r\n",
      "0 1 2 \r\n",
      "0 1 2 3 \r\n",
      "0 1 2 3 4 \r\n",
      "0 1 2 3 4 5 \r\n",
      "0 1 2 3 4 5 6 \r\n",
      "0 1 2 3 4 5 6 7 \r\n",
      "0 1 2 3 4 5 6 7 8 \r\n"
     ]
    }
   ],
   "source": [
    "n=8\n",
    "for i in range(0,n+1):\n",
    "    for j in range(0,i+1):\n",
    "        print(j,end=\" \")\n",
    "    print(\"\\r\")"
   ]
  },
  {
   "cell_type": "code",
   "execution_count": null,
   "id": "82655b8f",
   "metadata": {},
   "outputs": [],
   "source": []
  }
 ],
 "metadata": {
  "kernelspec": {
   "display_name": "Python 3 (ipykernel)",
   "language": "python",
   "name": "python3"
  },
  "language_info": {
   "codemirror_mode": {
    "name": "ipython",
    "version": 3
   },
   "file_extension": ".py",
   "mimetype": "text/x-python",
   "name": "python",
   "nbconvert_exporter": "python",
   "pygments_lexer": "ipython3",
   "version": "3.9.13"
  }
 },
 "nbformat": 4,
 "nbformat_minor": 5
}
