{
 "cells": [
  {
   "cell_type": "code",
   "execution_count": 1,
   "id": "52eb4b40",
   "metadata": {},
   "outputs": [
    {
     "name": "stdout",
     "output_type": "stream",
     "text": [
      "<class 'tuple'>\n",
      "(1, 4, 5, 6, 7, 8, 8)\n",
      "(45, 'bharath', 'pavithra', 9.1)\n",
      "(3, 6, [4, 6, 7], 'pavithra')\n"
     ]
    }
   ],
   "source": [
    "#tuple\n",
    "mytup=()\n",
    "print(type(mytup))\n",
    "mytup=(1,4,5,6,7,8,8)\n",
    "mytup1=(45,\"bharath\",\"pavithra\",9.10)\n",
    "mytup2=(3,6,[4,6,7],\"pavithra\")\n",
    "print(mytup)\n",
    "print(mytup1)\n",
    "print(mytup2)"
   ]
  },
  {
   "cell_type": "code",
   "execution_count": 6,
   "id": "55c8c0a0",
   "metadata": {},
   "outputs": [
    {
     "name": "stdout",
     "output_type": "stream",
     "text": [
      "5\n",
      "bharath\n",
      "7\n"
     ]
    }
   ],
   "source": [
    "print(mytup[2])\n",
    "print(mytup1[-3])\n",
    "print(mytup2[2][2])\n"
   ]
  },
  {
   "cell_type": "code",
   "execution_count": 11,
   "id": "6b59d676",
   "metadata": {},
   "outputs": [
    {
     "name": "stdout",
     "output_type": "stream",
     "text": [
      "(4, 5, 6, 7, 8, 8)\n",
      "(6, 7, 8, 8)\n",
      "[4, 6, 7]\n"
     ]
    }
   ],
   "source": [
    "print(mytup[1:])\n",
    "print(mytup[-4:])\n",
    "print(mytup2[-2])"
   ]
  },
  {
   "cell_type": "code",
   "execution_count": 12,
   "id": "93414cd0",
   "metadata": {},
   "outputs": [
    {
     "name": "stdout",
     "output_type": "stream",
     "text": [
      "(3, 6, ['dilip', 6, 7], 'pavithra')\n"
     ]
    }
   ],
   "source": [
    "mytup2[2][0]=\"dilip\"\n",
    "print(mytup2)"
   ]
  },
  {
   "cell_type": "code",
   "execution_count": 13,
   "id": "ffa97db3",
   "metadata": {},
   "outputs": [
    {
     "name": "stdout",
     "output_type": "stream",
     "text": [
      "(1, 4, 5, 6, 7)\n"
     ]
    }
   ],
   "source": [
    "my_tup5=(1,4,5,6,7)\n",
    "print(my_tup5)"
   ]
  },
  {
   "cell_type": "code",
   "execution_count": 14,
   "id": "2044685f",
   "metadata": {},
   "outputs": [],
   "source": [
    "del my_tup5"
   ]
  },
  {
   "cell_type": "code",
   "execution_count": 16,
   "id": "e75b30a9",
   "metadata": {},
   "outputs": [
    {
     "name": "stdout",
     "output_type": "stream",
     "text": [
      "(1, 4, 5, 6, 7, 8, 8, 45, 'bharath', 'pavithra', 9.1)\n"
     ]
    }
   ],
   "source": [
    "mytup4=mytup+mytup1\n",
    "print(mytup4)"
   ]
  },
  {
   "cell_type": "code",
   "execution_count": 18,
   "id": "7676fb30",
   "metadata": {},
   "outputs": [
    {
     "name": "stdout",
     "output_type": "stream",
     "text": [
      "(1, 4, 5, 6, 7, 8, 8, 1, 4, 5, 6, 7, 8, 8, 1, 4, 5, 6, 7, 8, 8)\n"
     ]
    }
   ],
   "source": [
    "print(mytup*3)"
   ]
  },
  {
   "cell_type": "code",
   "execution_count": 19,
   "id": "fe2e65ad",
   "metadata": {},
   "outputs": [
    {
     "name": "stdout",
     "output_type": "stream",
     "text": [
      "{1, 53, 'pavi', 'dilip', 12.5, 'bharath'}\n"
     ]
    }
   ],
   "source": [
    "#set\n",
    "myset={1,\"bharath\",12.5,\"dilip\",53,\"pavi\"}\n",
    "print(myset)"
   ]
  },
  {
   "cell_type": "code",
   "execution_count": 21,
   "id": "d404349c",
   "metadata": {},
   "outputs": [
    {
     "name": "stdout",
     "output_type": "stream",
     "text": [
      "{1, 4, 5, 6, 76}\n"
     ]
    }
   ],
   "source": [
    "myset1={1,4,5,6,76,76}\n",
    "print(myset1)"
   ]
  },
  {
   "cell_type": "code",
   "execution_count": 24,
   "id": "56da81dd",
   "metadata": {},
   "outputs": [
    {
     "name": "stdout",
     "output_type": "stream",
     "text": [
      "<class 'set'>\n"
     ]
    }
   ],
   "source": [
    "myset2=set([])\n",
    "print(type(myset2))"
   ]
  },
  {
   "cell_type": "code",
   "execution_count": 25,
   "id": "69eaa3d6",
   "metadata": {},
   "outputs": [
    {
     "name": "stdout",
     "output_type": "stream",
     "text": [
      "{2, 5, 6, 7, 8}\n"
     ]
    }
   ],
   "source": [
    "myset2=set([2,5,6,7,8])\n",
    "print(myset2)"
   ]
  },
  {
   "cell_type": "code",
   "execution_count": 29,
   "id": "497e283c",
   "metadata": {},
   "outputs": [
    {
     "name": "stdout",
     "output_type": "stream",
     "text": [
      "{1, 53, 'pavi', 'dilip', 12.5, 'bharath', 15}\n",
      "{16, 1, 53, 'pavi', 'dilip', 12.5, 'bharath', 15}\n"
     ]
    }
   ],
   "source": [
    "print(myset)\n",
    "myset.add(16)\n",
    "print(myset)\n"
   ]
  },
  {
   "cell_type": "code",
   "execution_count": 30,
   "id": "4fde250c",
   "metadata": {},
   "outputs": [
    {
     "name": "stdout",
     "output_type": "stream",
     "text": [
      "{1, 'suresh', 12.5, 13.5, 15, 16, 'pavi', 'dilip', 53, 'krishna', 'bharath'}\n"
     ]
    }
   ],
   "source": [
    "myset.update([\"krishna\",\"suresh\",13.5])\n",
    "print(myset)"
   ]
  },
  {
   "cell_type": "code",
   "execution_count": 31,
   "id": "ccd38a21",
   "metadata": {},
   "outputs": [
    {
     "name": "stdout",
     "output_type": "stream",
     "text": [
      "{1, 'suresh', 12.5, 13.5, 15, 16, 'pavi', 'dilip', 'krishna', 'bharath'}\n"
     ]
    }
   ],
   "source": [
    "myset.discard(53)\n",
    "print(myset)"
   ]
  },
  {
   "cell_type": "code",
   "execution_count": 32,
   "id": "de75cdf1",
   "metadata": {},
   "outputs": [
    {
     "name": "stdout",
     "output_type": "stream",
     "text": [
      "{1, 'suresh', 13.5, 15, 16, 'pavi', 'dilip', 'krishna', 'bharath'}\n"
     ]
    }
   ],
   "source": [
    "myset.remove(12.5)\n",
    "print(myset)"
   ]
  },
  {
   "cell_type": "code",
   "execution_count": 33,
   "id": "17b86ed1",
   "metadata": {},
   "outputs": [
    {
     "name": "stdout",
     "output_type": "stream",
     "text": [
      "{'suresh', 13.5, 15, 16, 'pavi', 'dilip', 'krishna', 'bharath'}\n"
     ]
    }
   ],
   "source": [
    "myset.pop()\n",
    "print(myset)"
   ]
  },
  {
   "cell_type": "code",
   "execution_count": 34,
   "id": "584aac0d",
   "metadata": {},
   "outputs": [
    {
     "name": "stdout",
     "output_type": "stream",
     "text": [
      "set()\n"
     ]
    }
   ],
   "source": [
    "myset1.clear()\n",
    "print(myset1)"
   ]
  },
  {
   "cell_type": "code",
   "execution_count": 35,
   "id": "2b39e9c6",
   "metadata": {},
   "outputs": [
    {
     "name": "stdout",
     "output_type": "stream",
     "text": [
      "{2, 'suresh', 'bharath', 5, 6, 7, 8, 13.5, 15, 16, 'pavi', 'krishna', 'dilip'}\n"
     ]
    }
   ],
   "source": [
    "print(myset|myset2)"
   ]
  },
  {
   "cell_type": "code",
   "execution_count": 38,
   "id": "18f6cde1",
   "metadata": {},
   "outputs": [
    {
     "name": "stdout",
     "output_type": "stream",
     "text": [
      "{98, 3, 4, 5, 6, 7, 67, 45, 23, 89}\n"
     ]
    }
   ],
   "source": [
    "a={3,4,5,6,7}\n",
    "b={23,45,67,89,98,5}\n",
    "print(a|b)"
   ]
  },
  {
   "cell_type": "code",
   "execution_count": 39,
   "id": "62c9b5ca",
   "metadata": {},
   "outputs": [
    {
     "name": "stdout",
     "output_type": "stream",
     "text": [
      "{5}\n"
     ]
    }
   ],
   "source": [
    "print(a&b)"
   ]
  },
  {
   "cell_type": "code",
   "execution_count": 40,
   "id": "fedcbecb",
   "metadata": {},
   "outputs": [
    {
     "name": "stdout",
     "output_type": "stream",
     "text": [
      "{3, 4, 6, 7}\n"
     ]
    }
   ],
   "source": [
    "print(a-b)"
   ]
  },
  {
   "cell_type": "code",
   "execution_count": 41,
   "id": "9aa3a9d9",
   "metadata": {},
   "outputs": [
    {
     "name": "stdout",
     "output_type": "stream",
     "text": [
      "{67, 3, 4, 6, 7, 23, 89, 98, 45}\n"
     ]
    }
   ],
   "source": [
    "print(a^b)"
   ]
  },
  {
   "cell_type": "code",
   "execution_count": 2,
   "id": "570f0bfb",
   "metadata": {},
   "outputs": [
    {
     "name": "stdout",
     "output_type": "stream",
     "text": [
      "0\n",
      "1\n",
      "2\n",
      "3\n",
      "4\n",
      "5\n",
      "6\n",
      "7\n",
      "8\n",
      "this is for else\n"
     ]
    }
   ],
   "source": [
    "for i in range(9):\n",
    "    print(i)\n",
    "else:\n",
    "    print(\"this is for else\")"
   ]
  },
  {
   "cell_type": "code",
   "execution_count": 5,
   "id": "f2af2c3d",
   "metadata": {},
   "outputs": [
    {
     "name": "stdout",
     "output_type": "stream",
     "text": [
      "fita\n",
      "fita\n"
     ]
    }
   ],
   "source": [
    "a=0\n",
    "while(a<5):\n",
    "    print(\"fita\")\n",
    "    a=a+3"
   ]
  },
  {
   "cell_type": "code",
   "execution_count": null,
   "id": "41d9aadd",
   "metadata": {},
   "outputs": [],
   "source": [
    "a=0\n",
    "s=\"pavithra love bharath\"\n",
    "while a<len(s):\n",
    "    if s[a]==\"i\" or s[a]==\"t\":\n",
    "        a+=1\n",
    "        continue\n",
    "    print(\"current letter:\",s[a])\n",
    "    a+=1"
   ]
  },
  {
   "cell_type": "code",
   "execution_count": null,
   "id": "34b746e2",
   "metadata": {},
   "outputs": [],
   "source": []
  }
 ],
 "metadata": {
  "kernelspec": {
   "display_name": "Python 3 (ipykernel)",
   "language": "python",
   "name": "python3"
  },
  "language_info": {
   "codemirror_mode": {
    "name": "ipython",
    "version": 3
   },
   "file_extension": ".py",
   "mimetype": "text/x-python",
   "name": "python",
   "nbconvert_exporter": "python",
   "pygments_lexer": "ipython3",
   "version": "3.9.13"
  }
 },
 "nbformat": 4,
 "nbformat_minor": 5
}
