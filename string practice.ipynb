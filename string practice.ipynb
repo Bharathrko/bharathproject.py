{
 "cells": [
  {
   "cell_type": "code",
   "execution_count": 1,
   "id": "0629ee97",
   "metadata": {},
   "outputs": [
    {
     "name": "stdout",
     "output_type": "stream",
     "text": [
      "bharath is a player dilip is a teacher\n"
     ]
    }
   ],
   "source": [
    "#class string\n",
    "str=\"bharath is a player\"\n",
    "str1=\"dilip is a teacher\"\n",
    "print(str,str1)"
   ]
  },
  {
   "cell_type": "code",
   "execution_count": 2,
   "id": "98b4daee",
   "metadata": {},
   "outputs": [
    {
     "name": "stdout",
     "output_type": "stream",
     "text": [
      "a\n",
      "r\n"
     ]
    }
   ],
   "source": [
    "print(str[2])\n",
    "print(str[-1])"
   ]
  },
  {
   "cell_type": "code",
   "execution_count": 3,
   "id": "9fcc35ed",
   "metadata": {},
   "outputs": [
    {
     "name": "stdout",
     "output_type": "stream",
     "text": [
      "reyalp a si htarahb\n"
     ]
    }
   ],
   "source": [
    "print(str[::-1])"
   ]
  },
  {
   "cell_type": "code",
   "execution_count": 4,
   "id": "bf0d572a",
   "metadata": {},
   "outputs": [
    {
     "name": "stdout",
     "output_type": "stream",
     "text": [
      "harat\n",
      "p is a tea\n"
     ]
    }
   ],
   "source": [
    "print(str[1:6])\n",
    "print(str1[4:-4])"
   ]
  },
  {
   "cell_type": "code",
   "execution_count": 5,
   "id": "01fa845f",
   "metadata": {},
   "outputs": [
    {
     "name": "stdout",
     "output_type": "stream",
     "text": [
      "tis a player\n"
     ]
    }
   ],
   "source": [
    "str2=str[5:6]+str[8:]\n",
    "print(str2)"
   ]
  },
  {
   "cell_type": "code",
   "execution_count": 6,
   "id": "e124bbd4",
   "metadata": {},
   "outputs": [
    {
     "name": "stdout",
     "output_type": "stream",
     "text": [
      "\n",
      " bharath is a great\t bharath is a player\n"
     ]
    }
   ],
   "source": [
    "print(\"\\n bharath is a great\"\"\\t\",str)"
   ]
  },
  {
   "cell_type": "code",
   "execution_count": 8,
   "id": "d166faf7",
   "metadata": {},
   "outputs": [
    {
     "name": "stdout",
     "output_type": "stream",
     "text": [
      "suresh bharathdiilip\n"
     ]
    }
   ],
   "source": [
    "str3=\"{1} {0}{2}\".format(\"bharath\",\"suresh\",\"diilip\")\n",
    "print(str3)"
   ]
  },
  {
   "cell_type": "code",
   "execution_count": 9,
   "id": "8097e213",
   "metadata": {},
   "outputs": [
    {
     "name": "stdout",
     "output_type": "stream",
     "text": [
      "BHARATH IS A PLAYER\n"
     ]
    }
   ],
   "source": [
    "print(str.upper())"
   ]
  },
  {
   "cell_type": "code",
   "execution_count": 10,
   "id": "fa0e3606",
   "metadata": {},
   "outputs": [
    {
     "name": "stdout",
     "output_type": "stream",
     "text": [
      "False\n"
     ]
    }
   ],
   "source": [
    "print(str.isspace())"
   ]
  },
  {
   "cell_type": "code",
   "execution_count": 15,
   "id": "7c9f378d",
   "metadata": {},
   "outputs": [
    {
     "name": "stdout",
     "output_type": "stream",
     "text": [
      "2\n",
      "4\n"
     ]
    }
   ],
   "source": [
    "str4=\"bharath\"\n",
    "print(str4.find(\"a\",0,10))\n",
    "print(str4.rfind(\"a\",0,10))"
   ]
  },
  {
   "cell_type": "code",
   "execution_count": 16,
   "id": "5dc1de9a",
   "metadata": {},
   "outputs": [
    {
     "name": "stdout",
     "output_type": "stream",
     "text": [
      "19\n"
     ]
    }
   ],
   "source": [
    "print(len(str))"
   ]
  },
  {
   "cell_type": "code",
   "execution_count": 17,
   "id": "f242ae9f",
   "metadata": {},
   "outputs": [
    {
     "name": "stdout",
     "output_type": "stream",
     "text": [
      "1\n"
     ]
    }
   ],
   "source": [
    "print(str.count(\"bharath\",0,27))"
   ]
  },
  {
   "cell_type": "code",
   "execution_count": 18,
   "id": "d0437d18",
   "metadata": {},
   "outputs": [
    {
     "name": "stdout",
     "output_type": "stream",
     "text": [
      "b***h***a***r***a***t***h*** ***i***s*** ***a*** ***p***l***a***y***e***r\n"
     ]
    }
   ],
   "source": [
    "str5=\"***\"\n",
    "print(str5.join(str))"
   ]
  },
  {
   "cell_type": "code",
   "execution_count": 22,
   "id": "69088869",
   "metadata": {},
   "outputs": [
    {
     "name": "stdout",
     "output_type": "stream",
     "text": [
      "suresh is a manager\n",
      "***suresh is a manager\n"
     ]
    }
   ],
   "source": [
    "str6=\"***suresh is a manager***\"\n",
    "print(str6.strip(\"*\"))\n",
    "print(str6.rstrip(\"*\"))"
   ]
  },
  {
   "cell_type": "code",
   "execution_count": 23,
   "id": "0c49e198",
   "metadata": {},
   "outputs": [
    {
     "name": "stdout",
     "output_type": "stream",
     "text": [
      " \n"
     ]
    }
   ],
   "source": [
    "print(min(str6))"
   ]
  },
  {
   "cell_type": "code",
   "execution_count": 24,
   "id": "9806048c",
   "metadata": {},
   "outputs": [
    {
     "name": "stdout",
     "output_type": "stream",
     "text": [
      "***suresh is a manager***\n"
     ]
    }
   ],
   "source": [
    "print(str6)"
   ]
  },
  {
   "cell_type": "code",
   "execution_count": 41,
   "id": "171ef4e5",
   "metadata": {},
   "outputs": [
    {
     "ename": "SyntaxError",
     "evalue": "invalid syntax (1609671359.py, line 4)",
     "output_type": "error",
     "traceback": [
      "\u001b[1;36m  File \u001b[1;32m\"C:\\Users\\vf54364\\AppData\\Local\\Temp\\ipykernel_2312\\1609671359.py\"\u001b[1;36m, line \u001b[1;32m4\u001b[0m\n\u001b[1;33m    else:\u001b[0m\n\u001b[1;37m    ^\u001b[0m\n\u001b[1;31mSyntaxError\u001b[0m\u001b[1;31m:\u001b[0m invalid syntax\n"
     ]
    }
   ],
   "source": [
    "def fun(s1,s2):\n",
    "    if(sorted(s1)==sorted(s2)):\n",
    "       print(\"anagram\")\n",
    "       else:\n",
    "       print(\"it is not anagram\")\n",
    "s1=\"tab\"\n",
    "s2=\"bat\"\n",
    "fun(s1,s2)"
   ]
  },
  {
   "cell_type": "code",
   "execution_count": null,
   "id": "bfa02da1",
   "metadata": {},
   "outputs": [],
   "source": []
  },
  {
   "cell_type": "code",
   "execution_count": null,
   "id": "9e055be2",
   "metadata": {},
   "outputs": [],
   "source": []
  }
 ],
 "metadata": {
  "kernelspec": {
   "display_name": "Python 3 (ipykernel)",
   "language": "python",
   "name": "python3"
  },
  "language_info": {
   "codemirror_mode": {
    "name": "ipython",
    "version": 3
   },
   "file_extension": ".py",
   "mimetype": "text/x-python",
   "name": "python",
   "nbconvert_exporter": "python",
   "pygments_lexer": "ipython3",
   "version": "3.9.13"
  }
 },
 "nbformat": 4,
 "nbformat_minor": 5
}
