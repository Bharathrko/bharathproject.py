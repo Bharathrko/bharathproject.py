{
 "cells": [
  {
   "cell_type": "code",
   "execution_count": 3,
   "id": "16a060b8",
   "metadata": {},
   "outputs": [
    {
     "name": "stdout",
     "output_type": "stream",
     "text": [
      "a is lesser\n"
     ]
    }
   ],
   "source": [
    "a=10\n",
    "if(a>9):\n",
    "    print(\"a is lesser\")\n",
    "else:\n",
    "    print(\"a is greater\")"
   ]
  },
  {
   "cell_type": "code",
   "execution_count": 6,
   "id": "f84e2c6a",
   "metadata": {},
   "outputs": [
    {
     "name": "stdout",
     "output_type": "stream",
     "text": [
      "this is not correct\n"
     ]
    }
   ],
   "source": [
    "x=40\n",
    "if(x==60):\n",
    "    if(x<50):\n",
    "        print(\"x is lesser\")\n",
    "    else:\n",
    "        print(\"x is greater\")\n",
    "else:\n",
    "    print(\"this is not correct\")"
   ]
  },
  {
   "cell_type": "code",
   "execution_count": 7,
   "id": "df9cfa75",
   "metadata": {},
   "outputs": [
    {
     "name": "stdout",
     "output_type": "stream",
     "text": [
      "it is 30\n"
     ]
    }
   ],
   "source": [
    "x=30\n",
    "if(x==10):\n",
    "    print(\"it is 10\")\n",
    "elif(x==20):\n",
    "    print(\"it is 20\")\n",
    "elif(x==30):\n",
    "    print(\"it is 30\")"
   ]
  },
  {
   "cell_type": "code",
   "execution_count": 8,
   "id": "88530bdc",
   "metadata": {},
   "outputs": [
    {
     "name": "stdout",
     "output_type": "stream",
     "text": [
      "false\n"
     ]
    }
   ],
   "source": [
    "x=10\n",
    "print(\"true\") if x>15 else print(\"false\")"
   ]
  },
  {
   "cell_type": "code",
   "execution_count": 9,
   "id": "207160f6",
   "metadata": {},
   "outputs": [
    {
     "name": "stdout",
     "output_type": "stream",
     "text": [
      "bharath\n",
      "dilip\n",
      "suresh\n",
      "pavithra\n"
     ]
    }
   ],
   "source": [
    "dil=[\"bharath\",\"dilip\",\"suresh\",\"pavithra\"]\n",
    "for x in dil:\n",
    "    print(x)"
   ]
  },
  {
   "cell_type": "code",
   "execution_count": 10,
   "id": "12e43117",
   "metadata": {},
   "outputs": [
    {
     "name": "stdout",
     "output_type": "stream",
     "text": [
      "b\n",
      "h\n",
      "a\n",
      "r\n",
      "a\n",
      "t\n",
      "h\n",
      " \n",
      "k\n",
      "u\n",
      "m\n",
      "a\n",
      "r\n"
     ]
    }
   ],
   "source": [
    "s=\"bharath kumar\"\n",
    "for x in s:\n",
    "    print(x)"
   ]
  },
  {
   "cell_type": "code",
   "execution_count": 11,
   "id": "821c81f0",
   "metadata": {},
   "outputs": [
    {
     "name": "stdout",
     "output_type": "stream",
     "text": [
      "letter is p\n",
      "letter is v\n",
      "letter is i\n",
      "letter is t\n",
      "letter is h\n",
      "letter is r\n",
      "letter is  \n",
      "letter is i\n",
      "letter is l\n",
      "letter is i\n",
      "letter is p\n"
     ]
    }
   ],
   "source": [
    "for i in \"pavithra dilip\":\n",
    "    if i==\"a\" or i==\"d\":\n",
    "        continue\n",
    "    print(\"letter is\",i)\n",
    "    "
   ]
  },
  {
   "cell_type": "code",
   "execution_count": 12,
   "id": "132a8722",
   "metadata": {},
   "outputs": [
    {
     "name": "stdout",
     "output_type": "stream",
     "text": [
      "letter is p\n"
     ]
    }
   ],
   "source": [
    "for i in \"pavithra dilip\":\n",
    "    if i==\"a\" or i==\"d\":\n",
    "        break\n",
    "    print(\"letter is\",i)\n",
    "    "
   ]
  },
  {
   "cell_type": "code",
   "execution_count": 13,
   "id": "16f83d43",
   "metadata": {},
   "outputs": [],
   "source": [
    "for i in \"dilip janani\":\n",
    "    pass\n"
   ]
  },
  {
   "cell_type": "code",
   "execution_count": 14,
   "id": "d77d415d",
   "metadata": {},
   "outputs": [
    {
     "name": "stdout",
     "output_type": "stream",
     "text": [
      "0 1 2 3 4 5 6 7 8 9 10 11 12 13 14 "
     ]
    }
   ],
   "source": [
    "for i in range(15):\n",
    "    print(i,end=\" \")"
   ]
  },
  {
   "cell_type": "code",
   "execution_count": 17,
   "id": "332eed00",
   "metadata": {},
   "outputs": [
    {
     "name": "stdout",
     "output_type": "stream",
     "text": [
      "10 11 12 13 14 15 16 "
     ]
    }
   ],
   "source": [
    "for i in range(10,17):\n",
    "    print(i,end=\" \")"
   ]
  },
  {
   "cell_type": "code",
   "execution_count": null,
   "id": "df1809ee",
   "metadata": {},
   "outputs": [],
   "source": [
    "for i in range(9):\n",
    "    print(i)\n",
    "else:\n",
    "    print(\"this is for else\")"
   ]
  },
  {
   "cell_type": "code",
   "execution_count": null,
   "id": "6f95f251",
   "metadata": {},
   "outputs": [],
   "source": [
    "a=0\n",
    "while(a<8):\n",
    "    print(\"fita\")\n",
    "    a=a+1\n",
    "    "
   ]
  },
  {
   "cell_type": "code",
   "execution_count": null,
   "id": "12c661c6",
   "metadata": {},
   "outputs": [],
   "source": [
    "for i in range(9):\n",
    "    print(i)\n",
    "else:\n",
    "    print(\"this is for else\")"
   ]
  },
  {
   "cell_type": "code",
   "execution_count": null,
   "id": "013cfaa7",
   "metadata": {},
   "outputs": [],
   "source": [
    "a=0\n",
    "s=\"pavithra love bharath\"\n",
    "while a<len(s):\n",
    "    if s[a]==\"i\" or s[a]==\"t\":\n",
    "        a+=1\n",
    "        continue\n",
    "    print(\"current letter:\",s[a])\n",
    "    a+=1"
   ]
  },
  {
   "cell_type": "code",
   "execution_count": null,
   "id": "d056b7d4",
   "metadata": {},
   "outputs": [],
   "source": []
  },
  {
   "cell_type": "code",
   "execution_count": null,
   "id": "5230998c",
   "metadata": {},
   "outputs": [],
   "source": []
  },
  {
   "cell_type": "code",
   "execution_count": null,
   "id": "e52f5cf2",
   "metadata": {},
   "outputs": [],
   "source": []
  }
 ],
 "metadata": {
  "kernelspec": {
   "display_name": "Python 3 (ipykernel)",
   "language": "python",
   "name": "python3"
  },
  "language_info": {
   "codemirror_mode": {
    "name": "ipython",
    "version": 3
   },
   "file_extension": ".py",
   "mimetype": "text/x-python",
   "name": "python",
   "nbconvert_exporter": "python",
   "pygments_lexer": "ipython3",
   "version": "3.9.13"
  }
 },
 "nbformat": 4,
 "nbformat_minor": 5
}
