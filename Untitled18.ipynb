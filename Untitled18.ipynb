{
 "cells": [
  {
   "cell_type": "code",
   "execution_count": 1,
   "id": "136df182",
   "metadata": {},
   "outputs": [
    {
     "name": "stdout",
     "output_type": "stream",
     "text": [
      "ipl best captain kholi\n",
      "this is ipl match\n"
     ]
    }
   ],
   "source": [
    "class cricket:\n",
    "    def batting(self):\n",
    "        print(\"this is ipl match\")\n",
    "class kholi(cricket):\n",
    "    def bat(self):\n",
    "        print(\"ipl best captain kholi\")\n",
    "K=kholi()\n",
    "K.bat()\n",
    "K.batting()"
   ]
  },
  {
   "cell_type": "code",
   "execution_count": 2,
   "id": "dcb89266",
   "metadata": {},
   "outputs": [
    {
     "name": "stdout",
     "output_type": "stream",
     "text": [
      "this is batting pitch\n",
      "batting: yes bowling: no\n",
      "this is ipl 2023\n",
      "team name: chennai super kings members: 22\n",
      "this is csk team\n",
      "captain name: rcb age: 43\n"
     ]
    }
   ],
   "source": [
    "class cricket:\n",
    "    def batting(self,name,age):\n",
    "        print(\"this is csk team\")\n",
    "        print(\"captain name:\",name,\"age:\",age)\n",
    "class ipl:\n",
    "    def csk(self,team_name,members):\n",
    "        print(\"this is ipl 2023\")\n",
    "        print(\"team name:\",team_name,\"members:\",members)\n",
    "class csk(cricket,ipl):\n",
    "    def match(self,bat,bowl):\n",
    "        print(\"this is batting pitch\")\n",
    "        print(\"batting:\",bat,\"bowling:\",bowl)\n",
    "C=csk()\n",
    "C.match(\"yes\",\"no\")\n",
    "C.csk(\"chennai super kings\",22)\n",
    "C.batting(\"rcb\",43)"
   ]
  },
  {
   "cell_type": "code",
   "execution_count": 8,
   "id": "1ea71b61",
   "metadata": {},
   "outputs": [
    {
     "name": "stdout",
     "output_type": "stream",
     "text": [
      "oppners\n",
      "batting: yes bowling: no\n",
      "this is ipl match\n",
      "name: dhoni age: 25\n",
      "csk vs rcb\n",
      "team: csk opposite: rcb\n",
      "this is ipl match\n",
      "name: dhoni age: 25\n"
     ]
    }
   ],
   "source": [
    "class cricket:\n",
    "    def batting(self,name,age):\n",
    "        print(\"this is ipl match\")\n",
    "        print(\"name:\",name,\"age:\",age)\n",
    "class ipl(cricket):\n",
    "    def match(self,team,opp):\n",
    "        print(\"csk vs rcb\")\n",
    "        print(\"team:\",team,\"opposite:\",opp)\n",
    "class team(cricket):\n",
    "    def toss(self,bat,bowl):\n",
    "        print(\"oppners\")\n",
    "        print(\"batting:\",bat,\"bowling:\",bowl)\n",
    "C=team()\n",
    "C.toss(\"yes\",\"no\")\n",
    "\n",
    "C.batting(\"dhoni\",\"25\")\n",
    "\n",
    "I=ipl()\n",
    "I.match(\"csk\",\"rcb\")\n",
    "I.batting(\"dhoni\",\"25\")\n"
   ]
  },
  {
   "cell_type": "code",
   "execution_count": 13,
   "id": "3180a08e",
   "metadata": {},
   "outputs": [
    {
     "name": "stdout",
     "output_type": "stream",
     "text": [
      "student name: bharath marks: 100\n",
      "bharath 100\n",
      "student name: bharath marks: 100\n"
     ]
    }
   ],
   "source": [
    "class Student:\n",
    "    def __init__(self,name,marks):\n",
    "        self.name=name\n",
    "        self.marks=marks\n",
    "    def rep(self):\n",
    "        print(\"student name:\",self.name,\"marks:\",self.marks)\n",
    "S=Student(\"bharath\",100)\n",
    "S.rep()\n",
    "print(S.name,S.marks)\n",
    "S.rep()"
   ]
  },
  {
   "cell_type": "code",
   "execution_count": 17,
   "id": "7f6777e7",
   "metadata": {},
   "outputs": [
    {
     "name": "stdout",
     "output_type": "stream",
     "text": [
      "employee name: bharath\n"
     ]
    }
   ],
   "source": [
    "class employee:\n",
    "    def __init__(self,name,salary):\n",
    "        self.name=name\n",
    "        self.__salary=salary\n",
    "emp=employee(\"bharath\",\"16000\")\n",
    "print(\"employee name:\",emp.name)\n",
    "#print(\"salary:\",emp.salary)"
   ]
  },
  {
   "cell_type": "code",
   "execution_count": null,
   "id": "f9c37997",
   "metadata": {},
   "outputs": [],
   "source": []
  }
 ],
 "metadata": {
  "kernelspec": {
   "display_name": "Python 3 (ipykernel)",
   "language": "python",
   "name": "python3"
  },
  "language_info": {
   "codemirror_mode": {
    "name": "ipython",
    "version": 3
   },
   "file_extension": ".py",
   "mimetype": "text/x-python",
   "name": "python",
   "nbconvert_exporter": "python",
   "pygments_lexer": "ipython3",
   "version": "3.9.13"
  }
 },
 "nbformat": 4,
 "nbformat_minor": 5
}
