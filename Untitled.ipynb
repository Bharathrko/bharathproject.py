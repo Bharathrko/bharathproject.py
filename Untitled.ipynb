{
 "cells": [
  {
   "cell_type": "code",
   "execution_count": 1,
   "id": "b11e45d5",
   "metadata": {},
   "outputs": [
    {
     "name": "stdout",
     "output_type": "stream",
     "text": [
      "[5, 12.5, ['bharath', 'dilip'], 7, 8]\n"
     ]
    }
   ],
   "source": [
    "#list \n",
    "mylist=[5,12.5,[\"bharath\",\"dilip\"],7,8]\n",
    "print(mylist)"
   ]
  },
  {
   "cell_type": "code",
   "execution_count": 2,
   "id": "ad099654",
   "metadata": {},
   "outputs": [
    {
     "name": "stdout",
     "output_type": "stream",
     "text": [
      "[5, 12.5, ['bharath', 'dilip'], 7, 8, 'logesh']\n"
     ]
    }
   ],
   "source": [
    "mylist.append(\"logesh\")\n",
    "print(mylist)"
   ]
  },
  {
   "cell_type": "code",
   "execution_count": 4,
   "id": "64fd8f5c",
   "metadata": {},
   "outputs": [
    {
     "name": "stdout",
     "output_type": "stream",
     "text": [
      "[5, 12.5, ['bharath', 'dilip'], 7, 8, 'logesh', 50]\n"
     ]
    }
   ],
   "source": [
    "mylist.extend([50])\n",
    "print(mylist)"
   ]
  },
  {
   "cell_type": "code",
   "execution_count": 5,
   "id": "51c7206e",
   "metadata": {},
   "outputs": [
    {
     "name": "stdout",
     "output_type": "stream",
     "text": [
      "[5, 12.5, ['bharath', 'dilip'], 7, 8, 'logesh']\n"
     ]
    }
   ],
   "source": [
    "mylist.pop()\n",
    "print(mylist)"
   ]
  },
  {
   "cell_type": "code",
   "execution_count": 7,
   "id": "b878fe78",
   "metadata": {},
   "outputs": [
    {
     "ename": "NameError",
     "evalue": "name 'mylist' is not defined",
     "output_type": "error",
     "traceback": [
      "\u001b[1;31m---------------------------------------------------------------------------\u001b[0m",
      "\u001b[1;31mNameError\u001b[0m                                 Traceback (most recent call last)",
      "\u001b[1;32m~\\AppData\\Local\\Temp\\ipykernel_19136\\1794068138.py\u001b[0m in \u001b[0;36m<module>\u001b[1;34m\u001b[0m\n\u001b[1;32m----> 1\u001b[1;33m \u001b[1;32mdel\u001b[0m \u001b[0mmylist\u001b[0m\u001b[1;33m\u001b[0m\u001b[1;33m\u001b[0m\u001b[0m\n\u001b[0m\u001b[0;32m      2\u001b[0m \u001b[0mprint\u001b[0m\u001b[1;33m(\u001b[0m\u001b[0mmylist\u001b[0m\u001b[1;33m)\u001b[0m\u001b[1;33m\u001b[0m\u001b[1;33m\u001b[0m\u001b[0m\n",
      "\u001b[1;31mNameError\u001b[0m: name 'mylist' is not defined"
     ]
    }
   ],
   "source": [
    "del mylist\n",
    "print(mylist)"
   ]
  },
  {
   "cell_type": "code",
   "execution_count": 15,
   "id": "83d4f4d5",
   "metadata": {},
   "outputs": [
    {
     "name": "stdout",
     "output_type": "stream",
     "text": [
      "it is empty\n"
     ]
    }
   ],
   "source": [
    "a = []\n",
    "print(\"it is not empty\") if a  else print(\"it is empty\")"
   ]
  },
  {
   "cell_type": "code",
   "execution_count": 23,
   "id": "92e3fd20",
   "metadata": {},
   "outputs": [
    {
     "name": "stdout",
     "output_type": "stream",
     "text": [
      "0 5\n",
      "1 15\n",
      "2 35\n",
      "3 8\n",
      "4 98\n"
     ]
    }
   ],
   "source": [
    "x=[5,15,35,8,98]\n",
    "for i in range(len(x)):\n",
    "    print(i,x[i])\n"
   ]
  },
  {
   "cell_type": "code",
   "execution_count": 26,
   "id": "20bf242a",
   "metadata": {},
   "outputs": [],
   "source": [
    "def count(x):\n",
    "    c=0\n",
    "    for i in x:\n",
    "         if len(i) >1 and i[0]==i[-1]:\n",
    "                c+=1\n",
    "                "
   ]
  },
  {
   "cell_type": "code",
   "execution_count": 1,
   "id": "63c44fef",
   "metadata": {},
   "outputs": [
    {
     "name": "stdout",
     "output_type": "stream",
     "text": [
      "['hserus', 'htarahb', 'hsenid', 'ramuk']\n"
     ]
    }
   ],
   "source": [
    "s=[\"suresh\",\"bharath\",\"dinesh\",\"kumar\"]\n",
    "ref=[i[::-1]for i in s] \n",
    "print(str(ref))"
   ]
  },
  {
   "cell_type": "code",
   "execution_count": 48,
   "id": "4fefaa81",
   "metadata": {},
   "outputs": [
    {
     "name": "stdout",
     "output_type": "stream",
     "text": [
      "[bala, kumar, siva ,boss ,suresh]\n"
     ]
    }
   ],
   "source": [
    "str=\"[{4}, {1}, {2} ,{3} ,{0}]\".format(\"suresh\",\"kumar\",\"siva\",\"boss\",\"bala\")\n",
    "print(str)"
   ]
  },
  {
   "cell_type": "code",
   "execution_count": 4,
   "id": "aa49af6d",
   "metadata": {},
   "outputs": [
    {
     "name": "stdout",
     "output_type": "stream",
     "text": [
      "['bala', 'boss', 'kumart', 'siva', 'suresh']\n"
     ]
    }
   ],
   "source": [
    "list=[\"bala\",\"kumart\",\"siva\",\"boss\",\"suresh\"]\n",
    "list.sort()\n",
    "print(list)"
   ]
  },
  {
   "cell_type": "code",
   "execution_count": 10,
   "id": "3881cf9d",
   "metadata": {},
   "outputs": [
    {
     "name": "stdout",
     "output_type": "stream",
     "text": [
      "['suresh', 'kumart', 'siva', 'boss', 'bala']\n"
     ]
    }
   ],
   "source": [
    "list=[\"bala\",\"kumart\",\"siva\",\"boss\",\"suresh\"]\n",
    "list[0]=\"suresh\"\n",
    "list[-1]=\"bala\"\n",
    "print(list)"
   ]
  },
  {
   "cell_type": "code",
   "execution_count": null,
   "id": "6d274ec3",
   "metadata": {},
   "outputs": [],
   "source": []
  }
 ],
 "metadata": {
  "kernelspec": {
   "display_name": "Python 3 (ipykernel)",
   "language": "python",
   "name": "python3"
  },
  "language_info": {
   "codemirror_mode": {
    "name": "ipython",
    "version": 3
   },
   "file_extension": ".py",
   "mimetype": "text/x-python",
   "name": "python",
   "nbconvert_exporter": "python",
   "pygments_lexer": "ipython3",
   "version": "3.9.13"
  }
 },
 "nbformat": 4,
 "nbformat_minor": 5
}
