{
 "cells": [
  {
   "cell_type": "code",
   "execution_count": 1,
   "id": "a96e94b8",
   "metadata": {},
   "outputs": [
    {
     "name": "stdout",
     "output_type": "stream",
     "text": [
      "5 4 6\n"
     ]
    }
   ],
   "source": [
    "a,b,c= 5,4,6\n",
    "print(a,b,c)"
   ]
  },
  {
   "cell_type": "code",
   "execution_count": 2,
   "id": "9eddd145",
   "metadata": {},
   "outputs": [
    {
     "name": "stdout",
     "output_type": "stream",
     "text": [
      "50\n",
      "50\n"
     ]
    }
   ],
   "source": [
    "a=input()\n",
    "print(a)"
   ]
  },
  {
   "cell_type": "code",
   "execution_count": 3,
   "id": "83819f24",
   "metadata": {},
   "outputs": [
    {
     "name": "stdout",
     "output_type": "stream",
     "text": [
      "15 1 1.25 30\n"
     ]
    }
   ],
   "source": [
    "a,b,c= 5,4,6\n",
    "d=a+b+c\n",
    "e=a-b\n",
    "g=a/b\n",
    "f=a*c\n",
    "print(d,e,g,f)"
   ]
  },
  {
   "cell_type": "code",
   "execution_count": 5,
   "id": "8e67e4b2",
   "metadata": {},
   "outputs": [
    {
     "name": "stdout",
     "output_type": "stream",
     "text": [
      "False\n",
      "False\n"
     ]
    }
   ],
   "source": [
    "print(a==d)\n",
    "print(c>f)"
   ]
  },
  {
   "cell_type": "code",
   "execution_count": 6,
   "id": "7194f9f2",
   "metadata": {},
   "outputs": [
    {
     "name": "stdout",
     "output_type": "stream",
     "text": [
      "python class\n",
      "stuent is dilip\n"
     ]
    }
   ],
   "source": [
    "#strings\n",
    "str1=\"python class\"\n",
    "str2=\"stuent is dilip\"\n",
    "print(str1)\n",
    "print(str2)"
   ]
  },
  {
   "cell_type": "code",
   "execution_count": 7,
   "id": "ffd7fa54",
   "metadata": {},
   "outputs": [
    {
     "name": "stdout",
     "output_type": "stream",
     "text": [
      "o\n",
      "d\n"
     ]
    }
   ],
   "source": [
    "print(str1[4])\n",
    "print(str2[-5])"
   ]
  },
  {
   "cell_type": "code",
   "execution_count": 8,
   "id": "61024b55",
   "metadata": {},
   "outputs": [
    {
     "name": "stdout",
     "output_type": "stream",
     "text": [
      "ssalc nohtyp\n"
     ]
    }
   ],
   "source": [
    "print(str1[::-1])"
   ]
  },
  {
   "cell_type": "code",
   "execution_count": 9,
   "id": "3c987aad",
   "metadata": {},
   "outputs": [
    {
     "name": "stdout",
     "output_type": "stream",
     "text": [
      "ython c\n",
      "t is dili\n"
     ]
    }
   ],
   "source": [
    "print(str1[1:8])\n",
    "print(str2[5:-1])"
   ]
  },
  {
   "cell_type": "code",
   "execution_count": 10,
   "id": "1a1c7623",
   "metadata": {},
   "outputs": [
    {
     "name": "stdout",
     "output_type": "stream",
     "text": [
      "python class at weekend\n"
     ]
    }
   ],
   "source": [
    "str1=\"python class at weekend\"\n",
    "print(str1)"
   ]
  },
  {
   "cell_type": "code",
   "execution_count": 12,
   "id": "92bd41d2",
   "metadata": {},
   "outputs": [
    {
     "name": "stdout",
     "output_type": "stream",
     "text": [
      "hon ss at weekend\n"
     ]
    }
   ],
   "source": [
    "str3=str1[3:7]+str1[10:]\n",
    "print(str3)\n",
    "del str3"
   ]
  },
  {
   "cell_type": "code",
   "execution_count": 16,
   "id": "139f717a",
   "metadata": {},
   "outputs": [
    {
     "name": "stdout",
     "output_type": "stream",
     "text": [
      "\n",
      " this is strong class/t python class at weekend\n"
     ]
    }
   ],
   "source": [
    "print(\"\\n this is strong class\" \"/t\",str1)"
   ]
  },
  {
   "cell_type": "code",
   "execution_count": 18,
   "id": "1269321c",
   "metadata": {},
   "outputs": [
    {
     "name": "stdout",
     "output_type": "stream",
     "text": [
      "class python sunday\n"
     ]
    }
   ],
   "source": [
    "str4=\"{1} {0} {2}\".format(\"python\",\"class\",\"sunday\")\n",
    "print(str4)"
   ]
  },
  {
   "cell_type": "code",
   "execution_count": 20,
   "id": "8b577e6b",
   "metadata": {},
   "outputs": [
    {
     "name": "stdout",
     "output_type": "stream",
     "text": [
      "PYTHON CLASS AT WEEKEND\n",
      "False\n"
     ]
    }
   ],
   "source": [
    "print(str1.upper())\n",
    "print(str1.isspace())"
   ]
  },
  {
   "cell_type": "code",
   "execution_count": 24,
   "id": "4a99c30b",
   "metadata": {},
   "outputs": [
    {
     "name": "stdout",
     "output_type": "stream",
     "text": [
      "bharathisagreat\n",
      "False\n"
     ]
    }
   ],
   "source": [
    "str5=\"bharathisagreat\"\n",
    "print(str5)\n",
    "print(str5.isspace())"
   ]
  },
  {
   "cell_type": "code",
   "execution_count": 26,
   "id": "4e72a05b",
   "metadata": {},
   "outputs": [
    {
     "name": "stdout",
     "output_type": "stream",
     "text": [
      "2\n",
      "4\n"
     ]
    }
   ],
   "source": [
    "str5=\"class\"\n",
    "print(str5.find(\"a\",0,10))\n",
    "print(str5.rfind(\"s\",0,10))"
   ]
  },
  {
   "cell_type": "code",
   "execution_count": 28,
   "id": "2c9619fd",
   "metadata": {},
   "outputs": [
    {
     "name": "stdout",
     "output_type": "stream",
     "text": [
      "23\n",
      "1\n"
     ]
    }
   ],
   "source": [
    "print(len(str1))\n",
    "print(str1.count(\"class\",0,25))"
   ]
  },
  {
   "cell_type": "code",
   "execution_count": 29,
   "id": "9ae66ed9",
   "metadata": {},
   "outputs": [
    {
     "name": "stdout",
     "output_type": "stream",
     "text": [
      "python class at weekend\n"
     ]
    }
   ],
   "source": [
    "print(str1.ljust(20,\"-\"))"
   ]
  },
  {
   "cell_type": "code",
   "execution_count": 30,
   "id": "81d10ea0",
   "metadata": {},
   "outputs": [
    {
     "name": "stdout",
     "output_type": "stream",
     "text": [
      "p**y**t**h**o**n** **c**l**a**s**s** **a**t** **w**e**e**k**e**n**d\n"
     ]
    }
   ],
   "source": [
    "str7=\"**\"\n",
    "print(str7.join(str1))"
   ]
  },
  {
   "cell_type": "code",
   "execution_count": 33,
   "id": "5b4908c9",
   "metadata": {},
   "outputs": [
    {
     "name": "stdout",
     "output_type": "stream",
     "text": [
      "python class\n",
      "***python class\n",
      " \n"
     ]
    }
   ],
   "source": [
    "str8=\"***python class***\"\n",
    "print(str8.strip(\"*\"))\n",
    "print(str8.rstrip(\"*\"))\n",
    "print(min(str8))"
   ]
  },
  {
   "cell_type": "code",
   "execution_count": 34,
   "id": "c002b33e",
   "metadata": {},
   "outputs": [
    {
     "name": "stdout",
     "output_type": "stream",
     "text": [
      "anagram\n"
     ]
    }
   ],
   "source": [
    "def fun(s1,s2):\n",
    "    if(sorted(s1)==sorted(s2)):\n",
    "        print(\"anagram\")\n",
    "    else:\n",
    "        print(\"it is not anagram\")\n",
    "s1=\"tab\"\n",
    "s2=\"bat\"\n",
    "fun(s1,s2)"
   ]
  },
  {
   "cell_type": "code",
   "execution_count": 38,
   "id": "51428a77",
   "metadata": {},
   "outputs": [
    {
     "name": "stdout",
     "output_type": "stream",
     "text": [
      "[1, 2, 3, 4, 5, 6]\n",
      "[]\n",
      "<class 'list'>\n",
      "<class 'list'>\n"
     ]
    }
   ],
   "source": [
    "#LIST\n",
    "mylist=[1,2,3,4,5,6]\n",
    "print(mylist)\n",
    "mylist1=[]\n",
    "print(mylist1)\n",
    "print(type(mylist))\n",
    "print(type(mylist1))"
   ]
  },
  {
   "cell_type": "code",
   "execution_count": 39,
   "id": "af14a3a6",
   "metadata": {},
   "outputs": [
    {
     "name": "stdout",
     "output_type": "stream",
     "text": [
      "[4, 13.6, 'python']\n"
     ]
    }
   ],
   "source": [
    "mylist2=[4,13.6,\"python\"]\n",
    "print(mylist2)"
   ]
  },
  {
   "cell_type": "code",
   "execution_count": 40,
   "id": "d5db47d9",
   "metadata": {},
   "outputs": [
    {
     "name": "stdout",
     "output_type": "stream",
     "text": [
      "[5, 8, ['bharath', 'dilip'], 12.5, 89]\n"
     ]
    }
   ],
   "source": [
    "mylist3=[5,8,[\"bharath\",\"dilip\"],12.5,89]\n",
    "print(mylist3)"
   ]
  },
  {
   "cell_type": "code",
   "execution_count": 45,
   "id": "0e2c5ac9",
   "metadata": {},
   "outputs": [
    {
     "name": "stdout",
     "output_type": "stream",
     "text": [
      "4\n",
      "13.6\n",
      "dilip\n",
      "6\n",
      "13.6\n",
      "['bharath', 'dilip']\n"
     ]
    }
   ],
   "source": [
    "print(mylist[3])\n",
    "print(mylist2[1])\n",
    "print(mylist3[2][1])\n",
    "print(mylist[-1])\n",
    "print(mylist2[-2])\n",
    "print(mylist3[-3])"
   ]
  },
  {
   "cell_type": "code",
   "execution_count": 47,
   "id": "e3918c72",
   "metadata": {},
   "outputs": [
    {
     "name": "stdout",
     "output_type": "stream",
     "text": [
      "[['bharath', 'dilip'], [3, 6], ['chennai', 'kochin']]\n",
      "[3, 6]\n",
      "dilip\n"
     ]
    }
   ],
   "source": [
    "mylist4=[[\"bharath\",\"dilip\"],[3,6],[\"chennai\",\"kochin\"]]\n",
    "print(mylist4)\n",
    "print(mylist4[1])\n",
    "print(mylist4[0][1])"
   ]
  },
  {
   "cell_type": "code",
   "execution_count": 48,
   "id": "1e4f2604",
   "metadata": {},
   "outputs": [
    {
     "name": "stdout",
     "output_type": "stream",
     "text": [
      "[\"bharath\",\"python\"]\n",
      "['[\"bharath\",\"python\"]']\n",
      "<class 'list'>\n"
     ]
    }
   ],
   "source": [
    "mylist5=input()\n",
    "conli=mylist5.split()\n",
    "print(conli)\n",
    "print(type(conli))"
   ]
  },
  {
   "cell_type": "code",
   "execution_count": 50,
   "id": "37e3b28d",
   "metadata": {},
   "outputs": [
    {
     "name": "stdout",
     "output_type": "stream",
     "text": [
      "6\n",
      "3\n",
      "5\n",
      "3\n"
     ]
    }
   ],
   "source": [
    "print(len(mylist))\n",
    "print(len(mylist2))\n",
    "print(len(mylist3))\n",
    "print(len(mylist4))"
   ]
  },
  {
   "cell_type": "code",
   "execution_count": 53,
   "id": "33249456",
   "metadata": {},
   "outputs": [
    {
     "name": "stdout",
     "output_type": "stream",
     "text": [
      "[1, 2, 3, 4, 5, 6, 50, 50, 50]\n",
      "[4, 13.6, 'python', 5.6, 5.6]\n",
      "[5, 8, ['bharath', 'dilip'], 12.5, 89, 'sundayclass', 'sundayclass']\n"
     ]
    }
   ],
   "source": [
    "mylist.append(50)\n",
    "mylist2.append(5.6)\n",
    "mylist3.append(\"sundayclass\")\n",
    "print(mylist)\n",
    "print(mylist2)\n",
    "print(mylist3)"
   ]
  },
  {
   "cell_type": "code",
   "execution_count": 55,
   "id": "80691be7",
   "metadata": {},
   "outputs": [
    {
     "name": "stdout",
     "output_type": "stream",
     "text": [
      "[1, 2, 3, 4, 555, 555, 5, 6, 50, 50, 50]\n"
     ]
    }
   ],
   "source": [
    "mylist.insert(4,555)\n",
    "print(mylist)"
   ]
  },
  {
   "cell_type": "code",
   "execution_count": 56,
   "id": "57fd5f83",
   "metadata": {},
   "outputs": [
    {
     "name": "stdout",
     "output_type": "stream",
     "text": [
      "[4, 13.6, 'python', 5.6, 5.6, 'suresh', 'vasanth', 'nithya']\n"
     ]
    }
   ],
   "source": [
    "mylist2.extend(['suresh','vasanth','nithya'])\n",
    "print(mylist2)"
   ]
  },
  {
   "cell_type": "code",
   "execution_count": 57,
   "id": "6acf6a07",
   "metadata": {},
   "outputs": [
    {
     "name": "stdout",
     "output_type": "stream",
     "text": [
      "[50, 50, 50, 6, 5, 555, 555, 4, 3, 2, 1]\n"
     ]
    }
   ],
   "source": [
    "mylist6=mylist\n",
    "mylist6.reverse()\n",
    "print(mylist6)"
   ]
  },
  {
   "cell_type": "code",
   "execution_count": 58,
   "id": "04e3c6f1",
   "metadata": {},
   "outputs": [
    {
     "name": "stdout",
     "output_type": "stream",
     "text": [
      "[50, 50, 50, 6, 5, 555, 4, 3, 2, 1]\n"
     ]
    }
   ],
   "source": [
    "mylist.remove(555)\n",
    "print(mylist)"
   ]
  },
  {
   "cell_type": "code",
   "execution_count": 59,
   "id": "1c56a025",
   "metadata": {},
   "outputs": [
    {
     "name": "stdout",
     "output_type": "stream",
     "text": [
      "[50, 50, 50, 6, 5, 555, 4, 3, 2]\n"
     ]
    }
   ],
   "source": [
    "mylist.pop()\n",
    "print(mylist)"
   ]
  },
  {
   "cell_type": "code",
   "execution_count": 61,
   "id": "075c45b6",
   "metadata": {},
   "outputs": [
    {
     "name": "stdout",
     "output_type": "stream",
     "text": [
      "[50, 50, 6, 5, 555, 4, 3, 2]\n",
      "[4]\n",
      "[4, 3, 2]\n"
     ]
    }
   ],
   "source": [
    "print(mylist[1:])\n",
    "print(mylist2[:1])\n",
    "print(mylist[-3:])"
   ]
  },
  {
   "cell_type": "code",
   "execution_count": 62,
   "id": "c8405a02",
   "metadata": {},
   "outputs": [
    {
     "name": "stdout",
     "output_type": "stream",
     "text": [
      "[50, 50, 50, 6, 5, 555, 4, 3, 2, 5, 8, ['bharath', 'dilip'], 12.5, 89, 'sundayclass', 'sundayclass']\n"
     ]
    }
   ],
   "source": [
    "mylist1=mylist+mylist3\n",
    "print(mylist1)"
   ]
  },
  {
   "cell_type": "code",
   "execution_count": 73,
   "id": "9c9d4202",
   "metadata": {},
   "outputs": [
    {
     "name": "stdout",
     "output_type": "stream",
     "text": [
      "True\n"
     ]
    }
   ],
   "source": [
    "print(\"python\" in mylist2)"
   ]
  },
  {
   "cell_type": "code",
   "execution_count": 75,
   "id": "162a6686",
   "metadata": {},
   "outputs": [
    {
     "name": "stdout",
     "output_type": "stream",
     "text": [
      "()\n",
      "(1, 2, 3, 4, 5)\n",
      "(3, 65, 'tuple class', 4.6)\n",
      "(5, 65, [4, 6, 7], 'python')\n"
     ]
    }
   ],
   "source": [
    "#tuple\n",
    "mytup=()\n",
    "print(mytup)\n",
    "mytup=(1,2,3,4,5)\n",
    "mytup1=(3,65,\"tuple class\",4.6)\n",
    "mytup2=(5,65,[4,6,7],\"python\")\n",
    "print(mytup)\n",
    "print(mytup1)\n",
    "print(mytup2)"
   ]
  },
  {
   "cell_type": "code",
   "execution_count": 77,
   "id": "22dbd4f3",
   "metadata": {},
   "outputs": [
    {
     "name": "stdout",
     "output_type": "stream",
     "text": [
      "(2, 4, 5, 6)\n",
      "4\n",
      "<class 'tuple'>\n"
     ]
    }
   ],
   "source": [
    "tup1=2,4,5,6\n",
    "a,b,c,d=tup1\n",
    "print(tup1)\n",
    "print(b)\n",
    "print(type(mytup1))"
   ]
  },
  {
   "cell_type": "code",
   "execution_count": 78,
   "id": "71f5e205",
   "metadata": {},
   "outputs": [
    {
     "name": "stdout",
     "output_type": "stream",
     "text": [
      "3\n",
      "tuple class\n",
      "7\n"
     ]
    }
   ],
   "source": [
    "print(mytup[2])\n",
    "print(mytup1[-2])\n",
    "print(mytup2[2][2])"
   ]
  },
  {
   "cell_type": "code",
   "execution_count": 79,
   "id": "30110784",
   "metadata": {},
   "outputs": [
    {
     "name": "stdout",
     "output_type": "stream",
     "text": [
      "(2, 3, 4, 5)\n",
      "(3,)\n",
      "([4, 6, 7], 'python')\n"
     ]
    }
   ],
   "source": [
    "print(mytup[1:])\n",
    "print(mytup1[0:1])\n",
    "print(mytup2[-2:])"
   ]
  },
  {
   "cell_type": "code",
   "execution_count": 80,
   "id": "c4a4a583",
   "metadata": {},
   "outputs": [
    {
     "name": "stdout",
     "output_type": "stream",
     "text": [
      "(5, 65, ['bharath', 6, 7], 'python')\n"
     ]
    }
   ],
   "source": [
    "mytup2[2][0]=\"bharath\"\n",
    "print(mytup2)"
   ]
  },
  {
   "cell_type": "code",
   "execution_count": 81,
   "id": "77102246",
   "metadata": {},
   "outputs": [
    {
     "name": "stdout",
     "output_type": "stream",
     "text": [
      "(3, 5, 6, 78)\n"
     ]
    }
   ],
   "source": [
    "mytup18=(3,5,6,78)\n",
    "print(mytup18)\n",
    "del mytup18"
   ]
  },
  {
   "cell_type": "code",
   "execution_count": 82,
   "id": "b5876e02",
   "metadata": {},
   "outputs": [
    {
     "name": "stdout",
     "output_type": "stream",
     "text": [
      "(1, 2, 3, 4, 5, 5, 65, ['bharath', 6, 7], 'python')\n"
     ]
    }
   ],
   "source": [
    "mytup3=mytup+mytup2\n",
    "print(mytup3)"
   ]
  },
  {
   "cell_type": "code",
   "execution_count": 83,
   "id": "b0818c62",
   "metadata": {},
   "outputs": [
    {
     "name": "stdout",
     "output_type": "stream",
     "text": [
      "(1, 2, 3, 4, 5, 1, 2, 3, 4, 5, 1, 2, 3, 4, 5, 1, 2, 3, 4, 5)\n"
     ]
    }
   ],
   "source": [
    "print(mytup*4)"
   ]
  },
  {
   "cell_type": "code",
   "execution_count": 84,
   "id": "0fc21c9e",
   "metadata": {},
   "outputs": [
    {
     "name": "stdout",
     "output_type": "stream",
     "text": [
      "{1, 2, 3, 4, 10}\n"
     ]
    }
   ],
   "source": [
    "#set\n",
    "myset={10,4,1,2,3,4}\n",
    "print(myset)"
   ]
  },
  {
   "cell_type": "code",
   "execution_count": 85,
   "id": "3921b81d",
   "metadata": {},
   "outputs": [
    {
     "name": "stdout",
     "output_type": "stream",
     "text": [
      "{1, 2, 5, 'dinesh', 'bharath'}\n"
     ]
    }
   ],
   "source": [
    "myset1={1,2,\"dinesh\",5,\"bharath\"}\n",
    "print(myset1)"
   ]
  },
  {
   "cell_type": "code",
   "execution_count": 86,
   "id": "1899dae5",
   "metadata": {},
   "outputs": [
    {
     "name": "stdout",
     "output_type": "stream",
     "text": [
      "{1.8, 2, 4, 5, 6, 7, 8, 'example'}\n",
      "<class 'set'>\n"
     ]
    }
   ],
   "source": [
    "myset2=set([4,5,6,7,8,\"example\",2,1.8])\n",
    "print(myset2)\n",
    "print(type(myset2))"
   ]
  },
  {
   "cell_type": "code",
   "execution_count": 88,
   "id": "3d6e0ca4",
   "metadata": {},
   "outputs": [
    {
     "name": "stdout",
     "output_type": "stream",
     "text": [
      "{1, 2, 3, 4, 10}\n",
      "{1, 2, 3, 4, 10, 13}\n",
      "{1, 2, 3, 4, 5, 7, 10, 13, 'hello'}\n"
     ]
    }
   ],
   "source": [
    "print(myset)\n",
    "myset.add(13)\n",
    "print(myset)\n",
    "myset.update([\"hello\",5,7])\n",
    "print(myset)"
   ]
  },
  {
   "cell_type": "code",
   "execution_count": 90,
   "id": "344a2fdd",
   "metadata": {},
   "outputs": [
    {
     "name": "stdout",
     "output_type": "stream",
     "text": [
      "{1, 2, 3, 4, 5, 7, 13, 'hello'}\n",
      "{1, 2, 3, 4, 7, 13, 'hello'}\n"
     ]
    }
   ],
   "source": [
    "myset.discard(10)\n",
    "print(myset)\n",
    "myset.remove(5)\n",
    "print(myset)"
   ]
  },
  {
   "cell_type": "code",
   "execution_count": 91,
   "id": "6ba0d276",
   "metadata": {},
   "outputs": [
    {
     "name": "stdout",
     "output_type": "stream",
     "text": [
      "{2, 3, 4, 7, 13, 'hello'}\n"
     ]
    }
   ],
   "source": [
    "myset.pop()\n",
    "print(myset)\n"
   ]
  },
  {
   "cell_type": "code",
   "execution_count": 1,
   "id": "9fa39227",
   "metadata": {},
   "outputs": [
    {
     "name": "stdout",
     "output_type": "stream",
     "text": [
      "{1: 'bharath', 2: 'dilip', 3: 'suresh'}\n",
      "<class 'dict'>\n"
     ]
    }
   ],
   "source": [
    "#dictionary\n",
    "mydic={1:\"bharath\",2:\"dilip\",3:\"suresh\"}\n",
    "print(mydic)\n",
    "print(type(mydic))"
   ]
  },
  {
   "cell_type": "code",
   "execution_count": 2,
   "id": "cf27fda9",
   "metadata": {},
   "outputs": [
    {
     "name": "stdout",
     "output_type": "stream",
     "text": [
      "{'gecl': 'suresh', 1: [3, 4, 5, 6]}\n"
     ]
    }
   ],
   "source": [
    "mydic1={\"gecl\":\"suresh\",1:[3,4,5,6]}\n",
    "print(mydic1)"
   ]
  },
  {
   "cell_type": "code",
   "execution_count": 3,
   "id": "ea4d2162",
   "metadata": {},
   "outputs": [
    {
     "name": "stdout",
     "output_type": "stream",
     "text": [
      "{1: 'go', 2: 'for'}\n"
     ]
    }
   ],
   "source": [
    "mydic2=dict({1:\"go\",2:\"for\"})\n",
    "print(mydic2)"
   ]
  },
  {
   "cell_type": "code",
   "execution_count": 4,
   "id": "e9f75b1b",
   "metadata": {},
   "outputs": [
    {
     "name": "stdout",
     "output_type": "stream",
     "text": [
      "{1: 4, 2: 8}\n"
     ]
    }
   ],
   "source": [
    "mydic3=dict([(1,4),(2,8)])\n",
    "print(mydic3)"
   ]
  },
  {
   "cell_type": "code",
   "execution_count": 5,
   "id": "12a9179b",
   "metadata": {},
   "outputs": [
    {
     "name": "stdout",
     "output_type": "stream",
     "text": [
      "{1: 'this', 2: 'is', 3: 'python', 4: 'class', 5: {'a': 'welcome', 'b': 'class'}}\n"
     ]
    }
   ],
   "source": [
    "mydic4={1:\"this\",2:\"is\",3:\"python\",4:\"class\",5:{\"a\":\"welcome\",\"b\":\"class\"}}\n",
    "print(mydic4)\n"
   ]
  },
  {
   "cell_type": "code",
   "execution_count": 7,
   "id": "382519e4",
   "metadata": {},
   "outputs": [
    {
     "name": "stdout",
     "output_type": "stream",
     "text": [
      "{1: 'bharath', 2: 'prasanna', 3: 'suresh'}\n",
      "{1: 'this', 2: 'is', 3: 'python', 4: 'class', 5: {'a': 'all welcome'}}\n"
     ]
    }
   ],
   "source": [
    "mydic[2]=\"prasanna\"\n",
    "print(mydic)\n",
    "mydic4[5]={\"a\":\"all welcome\"}\n",
    "print(mydic4)"
   ]
  },
  {
   "cell_type": "code",
   "execution_count": 12,
   "id": "cf8960a1",
   "metadata": {},
   "outputs": [
    {
     "name": "stdout",
     "output_type": "stream",
     "text": [
      "suresh\n",
      "suresh\n",
      "{'a': 'all welcome'}\n"
     ]
    }
   ],
   "source": [
    "print(mydic[3])\n",
    "print(mydic1[\"gecl\"])\n",
    "print(mydic4.get(5))"
   ]
  },
  {
   "cell_type": "code",
   "execution_count": 23,
   "id": "726d0171",
   "metadata": {},
   "outputs": [
    {
     "name": "stdout",
     "output_type": "stream",
     "text": [
      "1,3,4,5\n",
      "1,3,4,5\n"
     ]
    }
   ],
   "source": [
    "mydic6=input()\n",
    "print(mydic6)"
   ]
  },
  {
   "cell_type": "code",
   "execution_count": 24,
   "id": "c598de6e",
   "metadata": {},
   "outputs": [
    {
     "ename": "KeyError",
     "evalue": "3",
     "output_type": "error",
     "traceback": [
      "\u001b[1;31m---------------------------------------------------------------------------\u001b[0m",
      "\u001b[1;31mKeyError\u001b[0m                                  Traceback (most recent call last)",
      "\u001b[1;32m~\\AppData\\Local\\Temp\\ipykernel_21084\\2058259236.py\u001b[0m in \u001b[0;36m<module>\u001b[1;34m\u001b[0m\n\u001b[1;32m----> 1\u001b[1;33m \u001b[0mmydic4\u001b[0m\u001b[1;33m.\u001b[0m\u001b[0mpop\u001b[0m\u001b[1;33m(\u001b[0m\u001b[1;36m3\u001b[0m\u001b[1;33m)\u001b[0m\u001b[1;33m\u001b[0m\u001b[1;33m\u001b[0m\u001b[0m\n\u001b[0m\u001b[0;32m      2\u001b[0m \u001b[0mprint\u001b[0m\u001b[1;33m(\u001b[0m\u001b[0mmydic4\u001b[0m\u001b[1;33m)\u001b[0m\u001b[1;33m\u001b[0m\u001b[1;33m\u001b[0m\u001b[0m\n",
      "\u001b[1;31mKeyError\u001b[0m: 3"
     ]
    }
   ],
   "source": [
    "mydic4.pop(3)\n",
    "print(mydic4)"
   ]
  },
  {
   "cell_type": "code",
   "execution_count": 25,
   "id": "02177006",
   "metadata": {},
   "outputs": [
    {
     "name": "stdout",
     "output_type": "stream",
     "text": [
      "{2: 'is', 4: 'class'}\n"
     ]
    }
   ],
   "source": [
    "del mydic4[1]\n",
    "print(mydic4)"
   ]
  },
  {
   "cell_type": "code",
   "execution_count": 27,
   "id": "592a0b70",
   "metadata": {},
   "outputs": [
    {
     "name": "stdout",
     "output_type": "stream",
     "text": [
      "{1: [3, 4, 5, 6], 2: 'prasanna', 3: 'suresh', 'gecl': 'suresh'}\n"
     ]
    }
   ],
   "source": [
    "mydic7=mydic|mydic1\n",
    "print(mydic7)"
   ]
  },
  {
   "cell_type": "code",
   "execution_count": 31,
   "id": "6e979ae8",
   "metadata": {},
   "outputs": [
    {
     "name": "stdout",
     "output_type": "stream",
     "text": [
      "a is greater\n"
     ]
    }
   ],
   "source": [
    "a=10\n",
    "if(a>5):\n",
    "    print(\"a is greater\")\n",
    "else:\n",
    "    print(\"a is lesser\")"
   ]
  },
  {
   "cell_type": "code",
   "execution_count": 35,
   "id": "b618e6e9",
   "metadata": {},
   "outputs": [
    {
     "name": "stdout",
     "output_type": "stream",
     "text": [
      "x is equal\n"
     ]
    }
   ],
   "source": [
    "x=40\n",
    "if(x==40):\n",
    "    if(x<50):\n",
    "        print(\"x is equal\")\n",
    "    else:\n",
    "        print(\"x is not equal\")\n",
    "else:\n",
    "    print(\"this is not correct\")"
   ]
  },
  {
   "cell_type": "code",
   "execution_count": 38,
   "id": "d3f0039e",
   "metadata": {},
   "outputs": [
    {
     "name": "stdout",
     "output_type": "stream",
     "text": [
      "it is 10\n"
     ]
    }
   ],
   "source": [
    "x=10\n",
    "if(x==10):\n",
    "    print(\"it is 10\")\n",
    "elif(x==20):\n",
    "    print(\"it is 20\")\n",
    "elif(x==30):\n",
    "    print(\"it is 30\")"
   ]
  },
  {
   "cell_type": "code",
   "execution_count": 42,
   "id": "d8696de2",
   "metadata": {},
   "outputs": [
    {
     "name": "stdout",
     "output_type": "stream",
     "text": [
      "true\n"
     ]
    }
   ],
   "source": [
    "x=10\n",
    "print(\"true\") if x<15 else print(\"false\")"
   ]
  },
  {
   "cell_type": "code",
   "execution_count": 43,
   "id": "c4e70979",
   "metadata": {},
   "outputs": [
    {
     "name": "stdout",
     "output_type": "stream",
     "text": [
      "bharath\n",
      "dilip\n",
      "suresh\n"
     ]
    }
   ],
   "source": [
    "#for-for var in iterate\n",
    "ab=[\"bharath\",\"dilip\",\"suresh\"]\n",
    "for x in ab:\n",
    "    print(x)"
   ]
  },
  {
   "cell_type": "code",
   "execution_count": 45,
   "id": "431eb087",
   "metadata": {},
   "outputs": [
    {
     "name": "stdout",
     "output_type": "stream",
     "text": [
      "bharath\n",
      "dilip\n",
      "suresh\n"
     ]
    }
   ],
   "source": [
    "ab=[\"bharath\",\"dilip\",\"suresh\"]\n",
    "for x in ab:\n",
    "    print(x)"
   ]
  },
  {
   "cell_type": "code",
   "execution_count": 46,
   "id": "f4e962f9",
   "metadata": {},
   "outputs": [
    {
     "name": "stdout",
     "output_type": "stream",
     "text": [
      "B\n",
      "H\n",
      "A\n",
      "R\n",
      "A\n",
      "T\n",
      "H\n",
      " \n",
      "W\n",
      "E\n",
      "D\n",
      "S\n",
      " \n",
      "P\n",
      "A\n",
      "V\n",
      "I\n",
      "T\n",
      "H\n",
      "R\n",
      "A\n"
     ]
    }
   ],
   "source": [
    "s=\"BHARATH WEDS PAVITHRA\"\n",
    "for x in s:\n",
    "    print(x)"
   ]
  },
  {
   "cell_type": "code",
   "execution_count": 48,
   "id": "21f96b6f",
   "metadata": {},
   "outputs": [
    {
     "name": "stdout",
     "output_type": "stream",
     "text": [
      "letter is P\n",
      "letter is V\n",
      "letter is I\n",
      "letter is T\n",
      "letter is R\n",
      "letter is  \n",
      "letter is B\n",
      "letter is R\n",
      "letter is T\n"
     ]
    }
   ],
   "source": [
    "for l in \"PAVITHRA BHARATH\":\n",
    "    if l==\"A\" or l==\"H\":\n",
    "        continue\n",
    "    print(\"letter is\",l)"
   ]
  },
  {
   "cell_type": "code",
   "execution_count": 49,
   "id": "6bf9988b",
   "metadata": {},
   "outputs": [
    {
     "name": "stdout",
     "output_type": "stream",
     "text": [
      "letter is P\n"
     ]
    }
   ],
   "source": [
    "for l in \"PAVITHRA BHARATH\":\n",
    "    if l==\"A\" or l==\"H\":\n",
    "        break\n",
    "    print(\"letter is\",l)"
   ]
  },
  {
   "cell_type": "code",
   "execution_count": 50,
   "id": "a900f207",
   "metadata": {},
   "outputs": [],
   "source": [
    "for l in \"BHARATH\":\n",
    "    pass"
   ]
  },
  {
   "cell_type": "code",
   "execution_count": 52,
   "id": "f48558c1",
   "metadata": {},
   "outputs": [
    {
     "name": "stdout",
     "output_type": "stream",
     "text": [
      "0 1 2 3 4 5 6 7 8 9 10 11 12 13 14 "
     ]
    }
   ],
   "source": [
    "for i in range(15):\n",
    "    print(i,end=\" \")"
   ]
  },
  {
   "cell_type": "code",
   "execution_count": 53,
   "id": "406a4ae0",
   "metadata": {},
   "outputs": [
    {
     "name": "stdout",
     "output_type": "stream",
     "text": [
      "5 6 7 8 9 10 11 12 13 14 "
     ]
    }
   ],
   "source": [
    "for i in range(5,15):\n",
    "    print(i,end=\" \")"
   ]
  },
  {
   "cell_type": "code",
   "execution_count": 1,
   "id": "4c1c570d",
   "metadata": {},
   "outputs": [
    {
     "name": "stdout",
     "output_type": "stream",
     "text": [
      "fita\n",
      "fita\n",
      "fita\n",
      "fita\n",
      "fita\n",
      "fita\n",
      "fita\n",
      "fita\n",
      "fita\n"
     ]
    }
   ],
   "source": [
    "a=0\n",
    "while(a<9):\n",
    "    print(\"fita\")\n",
    "    a=a+1"
   ]
  },
  {
   "cell_type": "code",
   "execution_count": 5,
   "id": "83eafb04",
   "metadata": {},
   "outputs": [
    {
     "name": "stdout",
     "output_type": "stream",
     "text": [
      "current letter is d\n",
      "current letter is i\n",
      "current letter is l\n",
      "current letter is i\n",
      "current letter is p\n",
      "current letter is  \n",
      "current letter is i\n",
      "current letter is  \n",
      "current letter is a\n",
      "current letter is  \n",
      "current letter is r\n",
      "current letter is i\n",
      "current letter is k\n",
      "current letter is e\n",
      "current letter is t\n",
      "current letter is e\n",
      "current letter is r\n",
      "current letter is  \n",
      "current letter is a\n",
      "current letter is n\n",
      "current letter is d\n",
      "current letter is  \n",
      "current letter is a\n",
      "current letter is  \n",
      "current letter is f\n",
      "current letter is a\n",
      "current letter is t\n",
      "current letter is  \n",
      "current letter is b\n",
      "current letter is o\n",
      "current letter is w\n",
      "current letter is l\n",
      "current letter is e\n",
      "current letter is r\n"
     ]
    }
   ],
   "source": [
    "a=0\n",
    "s=\"dilip is a cricketer and a fast bowler\"\n",
    "while a<len(s):\n",
    "    if s[a]==\"c\" or s[a]==\"s\":\n",
    "        a=a+1\n",
    "        continue\n",
    "    print(\"current letter is\",s[a])\n",
    "    a=a+1"
   ]
  },
  {
   "cell_type": "code",
   "execution_count": 11,
   "id": "b855dc04",
   "metadata": {},
   "outputs": [
    {
     "name": "stdout",
     "output_type": "stream",
     "text": [
      "enter the lower:1\n",
      "enter the upper:8\n",
      "2\n",
      "4\n",
      "6\n",
      "8\n"
     ]
    }
   ],
   "source": [
    "n1=int(input(\"enter the lower:\"))\n",
    "n2=int(input(\"enter the upper:\"))\n",
    "\n",
    "for i in range(n1,n2+1):\n",
    "    if(i%2==0):\n",
    "        print(i)"
   ]
  },
  {
   "cell_type": "code",
   "execution_count": 12,
   "id": "87faa60b",
   "metadata": {},
   "outputs": [
    {
     "name": "stdout",
     "output_type": "stream",
     "text": [
      "1\n",
      "8\n",
      "1\n",
      "3\n",
      "5\n",
      "7\n"
     ]
    }
   ],
   "source": [
    "n1=int(input())\n",
    "n2=int(input())\n",
    "\n",
    "for i in range(n1,n2+1):\n",
    "    if(i%2!=0):\n",
    "        print(i)"
   ]
  },
  {
   "cell_type": "code",
   "execution_count": null,
   "id": "1f4b2fb8",
   "metadata": {},
   "outputs": [],
   "source": [
    "|"
   ]
  }
 ],
 "metadata": {
  "kernelspec": {
   "display_name": "Python 3 (ipykernel)",
   "language": "python",
   "name": "python3"
  },
  "language_info": {
   "codemirror_mode": {
    "name": "ipython",
    "version": 3
   },
   "file_extension": ".py",
   "mimetype": "text/x-python",
   "name": "python",
   "nbconvert_exporter": "python",
   "pygments_lexer": "ipython3",
   "version": "3.9.13"
  }
 },
 "nbformat": 4,
 "nbformat_minor": 5
}
