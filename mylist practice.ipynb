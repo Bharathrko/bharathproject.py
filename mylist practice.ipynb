{
 "cells": [
  {
   "cell_type": "code",
   "execution_count": 2,
   "id": "5e657c7e",
   "metadata": {},
   "outputs": [
    {
     "name": "stdout",
     "output_type": "stream",
     "text": [
      "[1, 2, 3, 4, 5]\n",
      "<class 'list'>\n"
     ]
    }
   ],
   "source": [
    "mylist = [1,2,3,4,5]\n",
    "print(mylist)\n",
    "print(type(mylist))"
   ]
  },
  {
   "cell_type": "code",
   "execution_count": 2,
   "id": "2d7e101b",
   "metadata": {},
   "outputs": [
    {
     "name": "stdout",
     "output_type": "stream",
     "text": [
      "[4, 5, ['bharath', 'dilip'], 12.5, 8]\n"
     ]
    }
   ],
   "source": [
    "mylist1 =[4,5,[\"bharath\",\"dilip\"],12.5,8]\n",
    "print(mylist1)"
   ]
  },
  {
   "cell_type": "code",
   "execution_count": 5,
   "id": "421c2b4a",
   "metadata": {},
   "outputs": [
    {
     "name": "stdout",
     "output_type": "stream",
     "text": [
      "5\n",
      "8\n",
      "['bharath', 'dilip']\n"
     ]
    }
   ],
   "source": [
    "print(mylist1[1])\n",
    "print(mylist1[-1])\n",
    "print(mylist1[2])"
   ]
  },
  {
   "cell_type": "code",
   "execution_count": 6,
   "id": "5da99735",
   "metadata": {},
   "outputs": [
    {
     "name": "stdout",
     "output_type": "stream",
     "text": [
      "dilip\n"
     ]
    }
   ],
   "source": [
    "print(mylist1[2][1])"
   ]
  },
  {
   "cell_type": "code",
   "execution_count": 7,
   "id": "42b1310a",
   "metadata": {},
   "outputs": [
    {
     "name": "stdout",
     "output_type": "stream",
     "text": [
      "[['bharath', 'dilip'], ['suresh', 'vasanth'], [2, 5]]\n",
      "vasanth\n"
     ]
    }
   ],
   "source": [
    "mylist2=[[\"bharath\",\"dilip\"],[\"suresh\",\"vasanth\"],[2,5]]\n",
    "print(mylist2)\n",
    "print(mylist2[1][1])"
   ]
  },
  {
   "cell_type": "code",
   "execution_count": 8,
   "id": "a2f847e9",
   "metadata": {},
   "outputs": [
    {
     "name": "stdout",
     "output_type": "stream",
     "text": [
      "enter the data[\"bharath\",\"dilip\"]\n",
      "['[\"bharath\",\"dilip\"]']\n",
      "<class 'list'>\n"
     ]
    }
   ],
   "source": [
    "mylist3 =input(\"enter the data\")\n",
    "conli = mylist3.split()\n",
    "print(conli)\n",
    "print(type(conli))"
   ]
  },
  {
   "cell_type": "code",
   "execution_count": 10,
   "id": "a29a4088",
   "metadata": {},
   "outputs": [
    {
     "name": "stdout",
     "output_type": "stream",
     "text": [
      "5\n",
      "3\n"
     ]
    }
   ],
   "source": [
    "\n",
    "print(len(mylist1))\n",
    "print(len(mylist2))"
   ]
  },
  {
   "cell_type": "code",
   "execution_count": 12,
   "id": "e8442bcf",
   "metadata": {},
   "outputs": [
    {
     "name": "stdout",
     "output_type": "stream",
     "text": [
      "[4, 5, ['bharath', 'dilip'], 12.5, 8, 50, 50]\n",
      "[['bharath', 'dilip'], ['suresh', 'vasanth'], [2, 5], 'dilip kd', 'dilip kd']\n"
     ]
    }
   ],
   "source": [
    "mylist1.append(50)\n",
    "mylist2.append(\"dilip kd\")\n",
    "print(mylist1)\n",
    "print(mylist2)\n"
   ]
  },
  {
   "cell_type": "code",
   "execution_count": 14,
   "id": "b91f6e78",
   "metadata": {},
   "outputs": [
    {
     "name": "stdout",
     "output_type": "stream",
     "text": [
      "[4, 'dilip', 'dilip', 5, ['bharath', 'dilip'], 12.5, 8, 50, 50]\n"
     ]
    }
   ],
   "source": [
    "mylist1.insert(1,\"dilip\")\n",
    "print(mylist1)"
   ]
  },
  {
   "cell_type": "code",
   "execution_count": 15,
   "id": "42964a19",
   "metadata": {},
   "outputs": [
    {
     "name": "stdout",
     "output_type": "stream",
     "text": [
      "[4, 'dilip', 'dilip', 5, ['bharath', 'dilip'], 12.5, 8, 50, 50, 'gecl', 'bharat']\n"
     ]
    }
   ],
   "source": [
    "mylist1.extend([\"gecl\",\"bharat\"])\n",
    "print(mylist1)"
   ]
  },
  {
   "cell_type": "code",
   "execution_count": 16,
   "id": "9e430d60",
   "metadata": {},
   "outputs": [
    {
     "name": "stdout",
     "output_type": "stream",
     "text": [
      "['bharat', 'gecl', 50, 50, 8, 12.5, ['bharath', 'dilip'], 5, 'dilip', 'dilip', 4]\n"
     ]
    }
   ],
   "source": [
    "mylist4=mylist1\n",
    "mylist4.reverse()\n",
    "print(mylist4)"
   ]
  },
  {
   "cell_type": "code",
   "execution_count": 17,
   "id": "7db0c62b",
   "metadata": {},
   "outputs": [
    {
     "name": "stdout",
     "output_type": "stream",
     "text": [
      "['bharat', 'gecl', 50, 8, 12.5, ['bharath', 'dilip'], 5, 'dilip', 'dilip', 4]\n"
     ]
    }
   ],
   "source": [
    "mylist1.remove(50)\n",
    "print(mylist1)"
   ]
  },
  {
   "cell_type": "code",
   "execution_count": 18,
   "id": "02c178ca",
   "metadata": {},
   "outputs": [
    {
     "name": "stdout",
     "output_type": "stream",
     "text": [
      "['bharat', 'gecl', 50, 8, 12.5, ['bharath', 'dilip'], 5, 'dilip', 'dilip']\n"
     ]
    }
   ],
   "source": [
    "mylist1.pop()\n",
    "print(mylist1)"
   ]
  },
  {
   "cell_type": "code",
   "execution_count": 20,
   "id": "8384eaf2",
   "metadata": {},
   "outputs": [
    {
     "name": "stdout",
     "output_type": "stream",
     "text": [
      "['gecl', 50, 8, 12.5, ['bharath', 'dilip'], 5, 'dilip', 'dilip']\n"
     ]
    }
   ],
   "source": [
    "print(mylist1[1:])"
   ]
  },
  {
   "cell_type": "code",
   "execution_count": 21,
   "id": "ef5f4b0d",
   "metadata": {},
   "outputs": [
    {
     "name": "stdout",
     "output_type": "stream",
     "text": [
      "['bharat', 'gecl', 50, 8, 12.5, ['bharath', 'dilip'], 5, 'dilip', 'dilip', ['bharath', 'dilip'], ['suresh', 'vasanth'], [2, 5], 'dilip kd', 'dilip kd']\n"
     ]
    }
   ],
   "source": [
    "mylist1=mylist1+mylist2\n",
    "print(mylist1)"
   ]
  },
  {
   "cell_type": "code",
   "execution_count": 22,
   "id": "56792929",
   "metadata": {},
   "outputs": [
    {
     "name": "stdout",
     "output_type": "stream",
     "text": [
      "[]\n"
     ]
    }
   ],
   "source": [
    "mylist1.clear()\n",
    "print(mylist1)"
   ]
  },
  {
   "cell_type": "code",
   "execution_count": 23,
   "id": "45e3428e",
   "metadata": {},
   "outputs": [
    {
     "name": "stdout",
     "output_type": "stream",
     "text": [
      "bharath\n",
      "bharath\n"
     ]
    }
   ],
   "source": [
    "mylist6=input()\n",
    "print(mylist6)\n"
   ]
  },
  {
   "cell_type": "code",
   "execution_count": null,
   "id": "7c90f344",
   "metadata": {},
   "outputs": [],
   "source": []
  }
 ],
 "metadata": {
  "kernelspec": {
   "display_name": "Python 3 (ipykernel)",
   "language": "python",
   "name": "python3"
  },
  "language_info": {
   "codemirror_mode": {
    "name": "ipython",
    "version": 3
   },
   "file_extension": ".py",
   "mimetype": "text/x-python",
   "name": "python",
   "nbconvert_exporter": "python",
   "pygments_lexer": "ipython3",
   "version": "3.9.13"
  }
 },
 "nbformat": 4,
 "nbformat_minor": 5
}
