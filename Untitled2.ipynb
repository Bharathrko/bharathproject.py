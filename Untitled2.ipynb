{
 "cells": [
  {
   "cell_type": "code",
   "execution_count": 1,
   "id": "a7d841c3",
   "metadata": {},
   "outputs": [
    {
     "name": "stdout",
     "output_type": "stream",
     "text": [
      "()\n"
     ]
    }
   ],
   "source": [
    "#tuple\n",
    "mytub=()\n",
    "print(mytub)"
   ]
  },
  {
   "cell_type": "code",
   "execution_count": 1,
   "id": "73d7bd94",
   "metadata": {},
   "outputs": [
    {
     "ename": "SyntaxError",
     "evalue": "invalid syntax (1239779345.py, line 1)",
     "output_type": "error",
     "traceback": [
      "\u001b[1;36m  File \u001b[1;32m\"C:\\Users\\vf54364\\AppData\\Local\\Temp\\ipykernel_10672\\1239779345.py\"\u001b[1;36m, line \u001b[1;32m1\u001b[0m\n\u001b[1;33m    as\u001b[0m\n\u001b[1;37m    ^\u001b[0m\n\u001b[1;31mSyntaxError\u001b[0m\u001b[1;31m:\u001b[0m invalid syntax\n"
     ]
    }
   ],
   "source": [
    "as"
   ]
  },
  {
   "cell_type": "code",
   "execution_count": 10,
   "id": "99cada71",
   "metadata": {},
   "outputs": [
    {
     "name": "stdout",
     "output_type": "stream",
     "text": [
      "(1, 2, 3, 4, 5)\n",
      "(34, 'dilip', 2.7)\n",
      "(3, 65, [2, 4, 5], 'bharath')\n"
     ]
    }
   ],
   "source": [
    "mytub=(1,2,3,4,5)\n",
    "mytub1=(34,\"dilip\",2.7)\n",
    "mytub2=(3,65,[2,4,5],\"bharath\")\n",
    "print(mytub)\n",
    "print(mytub1)\n",
    "print(mytub2)"
   ]
  },
  {
   "cell_type": "code",
   "execution_count": 11,
   "id": "15122687",
   "metadata": {},
   "outputs": [
    {
     "name": "stdout",
     "output_type": "stream",
     "text": [
      "(1, 2, 3, 4, 5)\n",
      "2\n"
     ]
    }
   ],
   "source": [
    "a,b,c,d,e=mytub\n",
    "print(mytub)\n",
    "print(b)"
   ]
  },
  {
   "cell_type": "code",
   "execution_count": 5,
   "id": "448ad74a",
   "metadata": {},
   "outputs": [
    {
     "name": "stdout",
     "output_type": "stream",
     "text": [
      "('bharath',)\n"
     ]
    }
   ],
   "source": [
    "mysing=(\"bharath\",)\n",
    "print(mysing)"
   ]
  },
  {
   "cell_type": "code",
   "execution_count": 6,
   "id": "2140098a",
   "metadata": {},
   "outputs": [
    {
     "name": "stdout",
     "output_type": "stream",
     "text": [
      "3\n",
      "2.7\n",
      "5\n"
     ]
    }
   ],
   "source": [
    "print(mytub[2])\n",
    "print(mytub1[2])\n",
    "print(mytub2[2][2])"
   ]
  },
  {
   "cell_type": "code",
   "execution_count": 7,
   "id": "da2a55cb",
   "metadata": {},
   "outputs": [
    {
     "name": "stdout",
     "output_type": "stream",
     "text": [
      "(3, 65, [2, 'bharat', 5], 'bharath')\n"
     ]
    }
   ],
   "source": [
    "mytub2[2][1]=\"bharat\"\n",
    "print(mytub2)"
   ]
  },
  {
   "cell_type": "code",
   "execution_count": 13,
   "id": "146f8557",
   "metadata": {},
   "outputs": [
    {
     "name": "stdout",
     "output_type": "stream",
     "text": [
      "{1, 3, 4, 5, 6}\n",
      "<class 'set'>\n"
     ]
    }
   ],
   "source": [
    "myset={1,3,4,5,6}\n",
    "print(myset)\n",
    "print(type(myset))\n"
   ]
  },
  {
   "cell_type": "code",
   "execution_count": 14,
   "id": "049242e1",
   "metadata": {},
   "outputs": [
    {
     "name": "stdout",
     "output_type": "stream",
     "text": [
      "{'bharath', 3.5, 3, 5, 'dilip'}\n"
     ]
    }
   ],
   "source": [
    "myset1={3,\"bharath\",3.5,\"dilip\",3,5}\n",
    "print(myset1)"
   ]
  },
  {
   "cell_type": "code",
   "execution_count": 20,
   "id": "4360edbb",
   "metadata": {},
   "outputs": [
    {
     "name": "stdout",
     "output_type": "stream",
     "text": [
      "<class 'set'>\n",
      "{'python', 3, 5}\n"
     ]
    }
   ],
   "source": [
    "myset2=set([3,5,\"python\"])\n",
    "print(type(myset2))\n",
    "print(myset2)"
   ]
  },
  {
   "cell_type": "code",
   "execution_count": 22,
   "id": "dc241628",
   "metadata": {},
   "outputs": [
    {
     "name": "stdout",
     "output_type": "stream",
     "text": [
      "{3, 4, 5}\n"
     ]
    }
   ],
   "source": [
    "myset3={3,4,5}\n",
    "print(myset3)"
   ]
  },
  {
   "cell_type": "code",
   "execution_count": 27,
   "id": "e91a9097",
   "metadata": {},
   "outputs": [
    {
     "name": "stdout",
     "output_type": "stream",
     "text": [
      "{'bharath', 3.5, 3, 5, 'dilip', 'potta', 'hello'}\n",
      "{'bharath', 3.5, 3, 5, 'dilip', 'potta', 'hello'}\n"
     ]
    }
   ],
   "source": [
    "print(myset1)\n",
    "myset1.add(\"dilip\")\n",
    "print(myset1)\n",
    "myset1.update([\"hello\",\"potta\"])"
   ]
  },
  {
   "cell_type": "code",
   "execution_count": 29,
   "id": "40c7b697",
   "metadata": {},
   "outputs": [
    {
     "name": "stdout",
     "output_type": "stream",
     "text": [
      "{'bharath', 3, 5, 'dilip', 'potta', 'hello'}\n"
     ]
    }
   ],
   "source": [
    "myset1.discard(3.5)\n",
    "print(myset1)"
   ]
  },
  {
   "cell_type": "code",
   "execution_count": 30,
   "id": "a8245b64",
   "metadata": {},
   "outputs": [
    {
     "name": "stdout",
     "output_type": "stream",
     "text": [
      "{3, 5, 'dilip', 'potta', 'hello'}\n"
     ]
    }
   ],
   "source": [
    "myset1.pop()\n",
    "print(myset1)"
   ]
  },
  {
   "cell_type": "code",
   "execution_count": 31,
   "id": "fd7af83a",
   "metadata": {},
   "outputs": [
    {
     "name": "stdout",
     "output_type": "stream",
     "text": [
      "{3, 'python', 5, 'dilip', 'potta', 'hello'}\n"
     ]
    }
   ],
   "source": [
    "print(myset1|myset2)"
   ]
  },
  {
   "cell_type": "code",
   "execution_count": null,
   "id": "33b363fa",
   "metadata": {},
   "outputs": [],
   "source": []
  }
 ],
 "metadata": {
  "kernelspec": {
   "display_name": "Python 3 (ipykernel)",
   "language": "python",
   "name": "python3"
  },
  "language_info": {
   "codemirror_mode": {
    "name": "ipython",
    "version": 3
   },
   "file_extension": ".py",
   "mimetype": "text/x-python",
   "name": "python",
   "nbconvert_exporter": "python",
   "pygments_lexer": "ipython3",
   "version": "3.9.13"
  }
 },
 "nbformat": 4,
 "nbformat_minor": 5
}
