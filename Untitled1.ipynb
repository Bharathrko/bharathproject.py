{
 "cells": [
  {
   "cell_type": "code",
   "execution_count": 35,
   "id": "72878959",
   "metadata": {},
   "outputs": [
    {
     "name": "stdout",
     "output_type": "stream",
     "text": [
      "name: dilip gender: male subject: python\n",
      "dilip study in python\n"
     ]
    }
   ],
   "source": [
    "#oops\n",
    "class Professor:\n",
    "    def __init__(self,name,gender,subject):\n",
    "        self.name=name\n",
    "        self.gender=gender\n",
    "        self.subject=subject\n",
    "    \n",
    "    def display(self):\n",
    "        print(\"name:\",self.name,\"gender:\",self.gender,\"subject:\",self.subject)\n",
    "    \n",
    "    def sub(self):\n",
    "        print(self.name,\"study in\",self.subject)\n",
    "    \n",
    "prof=Professor(\"dilip\",\"male\",\"python\")\n",
    "prof.display()\n",
    "prof.sub()"
   ]
  },
  {
   "cell_type": "code",
   "execution_count": 18,
   "id": "f7b1bd92",
   "metadata": {},
   "outputs": [
    {
     "name": "stdout",
     "output_type": "stream",
     "text": [
      "student: lokesh 25\n",
      "college name: loyola college\n",
      "bharath 25 vainav\n"
     ]
    }
   ],
   "source": [
    "class Student:\n",
    "    col_name=\"loyola college\"\n",
    "    def __init__(self,name,age):\n",
    "        self.name=name\n",
    "        self.age=age\n",
    "stu1=Student(\"lokesh\",25)\n",
    "print(\"student:\",stu1.name,stu1.age)\n",
    "print(\"college name:\",Student.col_name)\n",
    "\n",
    "stu1.name=\"bharath\"\n",
    "stu1.age=25\n",
    "stu1.col_name=\"vainav\"\n",
    "print(stu1.name,stu1.age,stu1.col_name)\n"
   ]
  },
  {
   "cell_type": "code",
   "execution_count": 38,
   "id": "a53485e6",
   "metadata": {},
   "outputs": [
    {
     "name": "stdout",
     "output_type": "stream",
     "text": [
      "student: priya age: 14 scl name: annai velankanni\n",
      "student: priya age: 17 scl name: don bosco\n"
     ]
    }
   ],
   "source": [
    "class Student:\n",
    "    school_name=\"annai velankanni\"\n",
    "    def __init__(self,name,age):\n",
    "        self.name=name\n",
    "        self.age=age\n",
    "    def show(self):\n",
    "        print(\"student:\",self.name,\"age:\",self.age,\"scl name:\",self.school_name)\n",
    "    def change_age(self,new_age):\n",
    "        self.age=new_age\n",
    "    @classmethod\n",
    "    def change_school_name(cls,new_name):\n",
    "        cls.school_name=new_name\n",
    "        \n",
    "stu=Student(\"priya\",14)\n",
    "stu.show()\n",
    "stu.change_age(17)\n",
    "Student.change_school_name(\"don bosco\")\n",
    "stu.show()\n"
   ]
  },
  {
   "cell_type": "code",
   "execution_count": 39,
   "id": "1514664c",
   "metadata": {},
   "outputs": [
    {
     "name": "stdout",
     "output_type": "stream",
     "text": [
      "this is constractor\n",
      "my name is: suresh\n"
     ]
    }
   ],
   "source": [
    "#constractors\n",
    "class Fita:\n",
    "    def __init__(bharath,name):\n",
    "        print(\"this is constractor\")\n",
    "        bharath.name=name\n",
    "    def show(bharath):\n",
    "        print(\"my name is:\",bharath.name)\n",
    "        \n",
    "s1=Fita(\"suresh\")\n",
    "s1.show()"
   ]
  },
  {
   "cell_type": "code",
   "execution_count": 42,
   "id": "3f7df8e8",
   "metadata": {},
   "outputs": [
    {
     "name": "stdout",
     "output_type": "stream",
     "text": [
      "inside constructor\n"
     ]
    }
   ],
   "source": [
    "class Fita:\n",
    "    def fun(self):\n",
    "        print(\"inside constructor\")\n",
    "f1=Fita( )\n",
    "f1.fun()"
   ]
  },
  {
   "cell_type": "code",
   "execution_count": 45,
   "id": "ad5d504c",
   "metadata": {},
   "outputs": [
    {
     "name": "stdout",
     "output_type": "stream",
     "text": [
      "name: bharath day: monday\n"
     ]
    }
   ],
   "source": [
    "class Fita:\n",
    "    def __init__(self):\n",
    "        self.name=\"bharath\"\n",
    "        self.day=\"monday\"\n",
    "    def show(self):\n",
    "        print(\"name:\",self.name,\"day:\",self.day) \n",
    "F2=Fita()\n",
    "F2.show()"
   ]
  },
  {
   "cell_type": "code",
   "execution_count": 48,
   "id": "2ddc9685",
   "metadata": {},
   "outputs": [
    {
     "name": "stdout",
     "output_type": "stream",
     "text": [
      "object deleted\n",
      "course name: python day: monday\n"
     ]
    }
   ],
   "source": [
    "class Fita:\n",
    "    def __init__(self,cour_name=\"python\",day=\"monday\"):\n",
    "        self.cour_name=cour_name\n",
    "        self.day=day\n",
    "    def show(self):\n",
    "        print(\"course name:\",self.cour_name,\"day:\",self.day)\n",
    "    def __del__(self):\n",
    "        print(\"object deleted\")\n",
    "F2=Fita()\n",
    "F2.show()\n"
   ]
  },
  {
   "cell_type": "code",
   "execution_count": null,
   "id": "a40aaa90",
   "metadata": {},
   "outputs": [],
   "source": []
  }
 ],
 "metadata": {
  "kernelspec": {
   "display_name": "Python 3 (ipykernel)",
   "language": "python",
   "name": "python3"
  },
  "language_info": {
   "codemirror_mode": {
    "name": "ipython",
    "version": 3
   },
   "file_extension": ".py",
   "mimetype": "text/x-python",
   "name": "python",
   "nbconvert_exporter": "python",
   "pygments_lexer": "ipython3",
   "version": "3.9.13"
  }
 },
 "nbformat": 4,
 "nbformat_minor": 5
}
