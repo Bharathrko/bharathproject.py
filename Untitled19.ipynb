{
 "cells": [
  {
   "cell_type": "code",
   "execution_count": 2,
   "id": "3b716d16",
   "metadata": {},
   "outputs": [],
   "source": [
    "f=open(\"prsanna.txt\",\"x\")\n",
    "f.close()"
   ]
  },
  {
   "cell_type": "code",
   "execution_count": 6,
   "id": "152f6664",
   "metadata": {},
   "outputs": [
    {
     "name": "stdout",
     "output_type": "stream",
     "text": [
      "prsanna is a cricketer and\n"
     ]
    }
   ],
   "source": [
    "f=open(\"prsanna.txt\",\"r\")\n",
    "print(f.read(26))\n",
    "f.close()"
   ]
  },
  {
   "cell_type": "code",
   "execution_count": 9,
   "id": "636912ef",
   "metadata": {},
   "outputs": [],
   "source": [
    "f=open(\"dilip.txt\",\"a\")\n",
    "f.write(\"\\n dilip is a actor and his hair is silky,he is a married\")\n",
    "f.close()"
   ]
  },
  {
   "cell_type": "code",
   "execution_count": 12,
   "id": "475387b0",
   "metadata": {},
   "outputs": [
    {
     "name": "stdout",
     "output_type": "stream",
     "text": [
      "['lip is a actor and his hair is silky\\n']\n"
     ]
    }
   ],
   "source": [
    "f=open(\"dilip.txt\",\"r\")\n",
    "f.seek(5)\n",
    "print(f.readlines(25))\n",
    "f.close()"
   ]
  },
  {
   "cell_type": "code",
   "execution_count": 13,
   "id": "279db1fc",
   "metadata": {},
   "outputs": [],
   "source": [
    "f=open(\"dilip.txt\",\"w\")\n",
    "string=\"prsanna home place thirumailisai\"\n",
    "loc=[\"chennai\\n\",\"kochi\\n\",\"thiruchi\\n\"]\n",
    "f.write(string)\n",
    "f.writelines(loc)\n",
    "f.close()"
   ]
  },
  {
   "cell_type": "code",
   "execution_count": 16,
   "id": "cfc937a6",
   "metadata": {},
   "outputs": [
    {
     "name": "stdout",
     "output_type": "stream",
     "text": [
      "\n"
     ]
    }
   ],
   "source": [
    "f=open(\"dilip.txt\",\"w+\")\n",
    "print(f.read())\n",
    "f.close()"
   ]
  },
  {
   "cell_type": "code",
   "execution_count": null,
   "id": "2f510c53",
   "metadata": {},
   "outputs": [],
   "source": []
  }
 ],
 "metadata": {
  "kernelspec": {
   "display_name": "Python 3 (ipykernel)",
   "language": "python",
   "name": "python3"
  },
  "language_info": {
   "codemirror_mode": {
    "name": "ipython",
    "version": 3
   },
   "file_extension": ".py",
   "mimetype": "text/x-python",
   "name": "python",
   "nbconvert_exporter": "python",
   "pygments_lexer": "ipython3",
   "version": "3.9.13"
  }
 },
 "nbformat": 4,
 "nbformat_minor": 5
}
