{
 "cells": [
  {
   "cell_type": "code",
   "execution_count": 3,
   "id": "d82ecf94",
   "metadata": {},
   "outputs": [
    {
     "name": "stdout",
     "output_type": "stream",
     "text": [
      "name: pavithra age: 25 gender: female\n",
      "pavithra is age 25\n"
     ]
    }
   ],
   "source": [
    "class Bharath:\n",
    "    def __init__(self,name,age,gender):\n",
    "        self.name=name\n",
    "        self.age=age\n",
    "        self.gender=gender\n",
    "    def show(self):\n",
    "        print(\"name:\",self.name,\"age:\",self.age,\"gender:\",self.gender)\n",
    "    def sub(self):\n",
    "        print(self.name,\"is age\",self.age)\n",
    "B=Bharath(\"pavithra\",\"25\",\"female\")\n",
    "B.show()\n",
    "B.sub()"
   ]
  },
  {
   "cell_type": "code",
   "execution_count": 10,
   "id": "9e5e59cd",
   "metadata": {},
   "outputs": [
    {
     "name": "stdout",
     "output_type": "stream",
     "text": [
      "name: bharath age: 25\n",
      "college: loyola college\n",
      "prakash 24 srm\n"
     ]
    }
   ],
   "source": [
    "class student:\n",
    "    college_name=\"loyola college\"\n",
    "    \n",
    "    def __init__(self,name,age):\n",
    "        self.name=name\n",
    "        self.age=age\n",
    "S=student(\"bharath\",25)\n",
    "print(\"name:\",S.name,\"age:\",S.age)\n",
    "print(\"college:\",S.college_name)\n",
    "\n",
    "S.name=\"prakash\"\n",
    "S.age=\"24\"\n",
    "S.college_name=\"srm\"\n",
    "print(S.name,S.age,S.college_name)"
   ]
  },
  {
   "cell_type": "code",
   "execution_count": 21,
   "id": "0e21ce4b",
   "metadata": {},
   "outputs": [
    {
     "name": "stdout",
     "output_type": "stream",
     "text": [
      "student name: dilip gender: male\n",
      "annai velankanni\n",
      "student name: dilip gender: female\n",
      "annai velankanni\n"
     ]
    }
   ],
   "source": [
    "class student:\n",
    "    school_name=\"annai velankanni\"\n",
    "    def __init__(self,name,gender):\n",
    "        self.name=name\n",
    "        self.gender=gender\n",
    "        \n",
    "    def show(self):\n",
    "        print(\"student name:\",self.name,\"gender:\",self.gender)\n",
    "        print(self.school_name)\n",
    "        \n",
    "    def change_gender(self,new_age):\n",
    "        self.gender=new_age\n",
    "        \n",
    "        \n",
    "S=student(\"dilip\",\"male\")\n",
    "S.show()\n",
    "S.change_gender(\"female\")\n",
    "S.show()"
   ]
  },
  {
   "cell_type": "code",
   "execution_count": 20,
   "id": "b5c18224",
   "metadata": {},
   "outputs": [
    {
     "name": "stdout",
     "output_type": "stream",
     "text": [
      "this is constructor\n",
      "brand name: 1848 brandy\n"
     ]
    }
   ],
   "source": [
    "class Drinks:\n",
    "    def __init__(self,name):\n",
    "        self.name=name\n",
    "        print(\"this is constructor\")#method of constructor\n",
    "        \n",
    "    def show(self):\n",
    "        print(\"brand name:\",self.name)\n",
    "        \n",
    "D=Drinks('1848 brandy')\n",
    "D.show()"
   ]
  },
  {
   "cell_type": "code",
   "execution_count": 25,
   "id": "e5e41517",
   "metadata": {},
   "outputs": [
    {
     "name": "stdout",
     "output_type": "stream",
     "text": [
      "prasnna was a cricket star in 2011\n"
     ]
    }
   ],
   "source": [
    "class prasnna:\n",
    "    \n",
    "    def fun(self):\n",
    "        print(\"prasnna was a cricket star in 2011\")\n",
    "P=prasnna()\n",
    "P.fun()"
   ]
  },
  {
   "cell_type": "code",
   "execution_count": 27,
   "id": "fe107280",
   "metadata": {},
   "outputs": [
    {
     "name": "stdout",
     "output_type": "stream",
     "text": [
      "batmans details: dilip 25 worst fielder and fast bowler\n"
     ]
    }
   ],
   "source": [
    "class Prasanna:\n",
    "    def __init__(self):\n",
    "        self.name=\"dilip\"\n",
    "        self.age=\"25\"\n",
    "        self.occupation=\"worst fielder and fast bowler\"\n",
    "    def show(self):\n",
    "        print(\"batmans details:\",self.name,self.age,self.occupation)\n",
    "        \n",
    "P=Prasanna()\n",
    "P.show()"
   ]
  },
  {
   "cell_type": "code",
   "execution_count": 37,
   "id": "f8dff65c",
   "metadata": {},
   "outputs": [
    {
     "name": "stdout",
     "output_type": "stream",
     "text": [
      "details: dilip 25 female\n",
      "dilip details deleted\n"
     ]
    }
   ],
   "source": [
    "class dilip:\n",
    "    def __init__(self,name=\"dilip\",age=\"25\",gender=\"female\"):\n",
    "        self.name=name\n",
    "        self.age=age\n",
    "        self.gender=gender\n",
    "    def show(self):\n",
    "        print(\"details:\",self.name,self.age,self.gender)\n",
    "    def __del__(self):\n",
    "        print(\"dilip details deleted\")\n",
    "D=dilip()\n",
    "D.show()\n",
    "del D\n"
   ]
  },
  {
   "cell_type": "code",
   "execution_count": 40,
   "id": "fa17fe1e",
   "metadata": {},
   "outputs": [
    {
     "name": "stdout",
     "output_type": "stream",
     "text": [
      "prasanna chola singam asv don\n",
      "prsanna is a opening batsman and run out batsman\n"
     ]
    }
   ],
   "source": [
    "class cricket:\n",
    "    def batting(self):\n",
    "        print(\"prsanna is a opening batsman and run out batsman\")\n",
    "        \n",
    "class kholi(cricket):\n",
    "    def bat(self):\n",
    "        print(\"prasanna chola singam asv don\")\n",
    "C=kholi()\n",
    "C.bat()\n",
    "C.batting()"
   ]
  },
  {
   "cell_type": "code",
   "execution_count": null,
   "id": "7a1e04e0",
   "metadata": {},
   "outputs": [],
   "source": []
  }
 ],
 "metadata": {
  "kernelspec": {
   "display_name": "Python 3 (ipykernel)",
   "language": "python",
   "name": "python3"
  },
  "language_info": {
   "codemirror_mode": {
    "name": "ipython",
    "version": 3
   },
   "file_extension": ".py",
   "mimetype": "text/x-python",
   "name": "python",
   "nbconvert_exporter": "python",
   "pygments_lexer": "ipython3",
   "version": "3.9.13"
  }
 },
 "nbformat": 4,
 "nbformat_minor": 5
}
