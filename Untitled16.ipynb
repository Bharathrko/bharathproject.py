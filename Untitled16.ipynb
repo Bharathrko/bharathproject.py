{
 "cells": [
  {
   "cell_type": "code",
   "execution_count": null,
   "id": "d2c95996",
   "metadata": {},
   "outputs": [],
   "source": []
  },
  {
   "cell_type": "code",
   "execution_count": 2,
   "id": "74a59017",
   "metadata": {},
   "outputs": [
    {
     "name": "stdout",
     "output_type": "stream",
     "text": [
      "name: prsanna age: 23 gender: male\n",
      "prsanna age is 23\n"
     ]
    }
   ],
   "source": [
    "class Bharath:\n",
    "    def __init__(self,name,age,gender):\n",
    "        self.name=name\n",
    "        self.age=age\n",
    "        self.gender=gender\n",
    "    def show(self):\n",
    "        print(\"name:\",self.name,\"age:\",self.age,\"gender:\",self.gender)\n",
    "    def sub(self):\n",
    "        print(self.name,\"age is\",self.age)\n",
    "B=Bharath(\"prsanna\",23,\"male\")\n",
    "B.show()\n",
    "B.sub()"
   ]
  },
  {
   "cell_type": "code",
   "execution_count": 16,
   "id": "5f0b6a62",
   "metadata": {},
   "outputs": [
    {
     "name": "stdout",
     "output_type": "stream",
     "text": [
      "student name: dilip age: 26\n",
      "student college name: loyola college\n",
      "prsanna 25 pachaiyapas\n"
     ]
    }
   ],
   "source": [
    "class Student:\n",
    "    college_name=\"loyola college\"\n",
    "    def __init__(self,name,age):\n",
    "        self.name=name\n",
    "        self.age=age\n",
    "S=Student(\"dilip\",26)\n",
    "print(\"student name:\",S.name,\"age:\",S.age)\n",
    "print(\"student college name:\",S.college_name)\n",
    "S.name=\"prsanna\"\n",
    "S.age=\"25\"\n",
    "S.college_name=\"pachaiyapas\"\n",
    "print(S.name,S.age,S.college_name)"
   ]
  },
  {
   "cell_type": "code",
   "execution_count": 15,
   "id": "34f04b57",
   "metadata": {},
   "outputs": [
    {
     "ename": "AttributeError",
     "evalue": "'Student' object has no attribute 'school_age'",
     "output_type": "error",
     "traceback": [
      "\u001b[1;31m---------------------------------------------------------------------------\u001b[0m",
      "\u001b[1;31mAttributeError\u001b[0m                            Traceback (most recent call last)",
      "\u001b[1;32m~\\AppData\\Local\\Temp\\ipykernel_47736\\1903865784.py\u001b[0m in \u001b[0;36m<module>\u001b[1;34m\u001b[0m\n\u001b[0;32m     11\u001b[0m \u001b[1;33m\u001b[0m\u001b[0m\n\u001b[0;32m     12\u001b[0m \u001b[0mba\u001b[0m\u001b[1;33m=\u001b[0m\u001b[0mStudent\u001b[0m\u001b[1;33m(\u001b[0m\u001b[1;34m\"vijay\"\u001b[0m\u001b[1;33m,\u001b[0m\u001b[1;36m24\u001b[0m\u001b[1;33m)\u001b[0m\u001b[1;33m\u001b[0m\u001b[1;33m\u001b[0m\u001b[0m\n\u001b[1;32m---> 13\u001b[1;33m \u001b[0mba\u001b[0m\u001b[1;33m.\u001b[0m\u001b[0mshow\u001b[0m\u001b[1;33m(\u001b[0m\u001b[1;33m)\u001b[0m\u001b[1;33m\u001b[0m\u001b[1;33m\u001b[0m\u001b[0m\n\u001b[0m",
      "\u001b[1;32m~\\AppData\\Local\\Temp\\ipykernel_47736\\1903865784.py\u001b[0m in \u001b[0;36mshow\u001b[1;34m(self)\u001b[0m\n\u001b[0;32m      7\u001b[0m \u001b[1;33m\u001b[0m\u001b[0m\n\u001b[0;32m      8\u001b[0m     \u001b[1;32mdef\u001b[0m \u001b[0mshow\u001b[0m\u001b[1;33m(\u001b[0m\u001b[0mself\u001b[0m\u001b[1;33m)\u001b[0m\u001b[1;33m:\u001b[0m\u001b[1;33m\u001b[0m\u001b[1;33m\u001b[0m\u001b[0m\n\u001b[1;32m----> 9\u001b[1;33m         \u001b[0mprint\u001b[0m\u001b[1;33m(\u001b[0m\u001b[0mself\u001b[0m\u001b[1;33m.\u001b[0m\u001b[0mname\u001b[0m\u001b[1;33m,\u001b[0m\u001b[0mself\u001b[0m\u001b[1;33m.\u001b[0m\u001b[0mage\u001b[0m\u001b[1;33m,\u001b[0m\u001b[0mself\u001b[0m\u001b[1;33m.\u001b[0m\u001b[0mschool_age\u001b[0m\u001b[1;33m)\u001b[0m\u001b[1;33m\u001b[0m\u001b[1;33m\u001b[0m\u001b[0m\n\u001b[0m\u001b[0;32m     10\u001b[0m \u001b[1;33m\u001b[0m\u001b[0m\n\u001b[0;32m     11\u001b[0m \u001b[1;33m\u001b[0m\u001b[0m\n",
      "\u001b[1;31mAttributeError\u001b[0m: 'Student' object has no attribute 'school_age'"
     ]
    }
   ],
   "source": [
    "class Student:\n",
    "    school_name=\"annai velankanni high school\"\n",
    "    \n",
    "    def __init__(self,name,age):\n",
    "        self.name=name\n",
    "        self.age=age\n",
    "        \n",
    "    def show(self):\n",
    "        print(self.name,self.age,self.school_age)\n",
    "        \n",
    "   \n",
    "ba=Student(\"vijay\",24)\n",
    "ba.show()"
   ]
  },
  {
   "cell_type": "code",
   "execution_count": null,
   "id": "47880c52",
   "metadata": {},
   "outputs": [],
   "source": [
    "  def change_age(self,new_age):\n",
    "        self.age=new_age\n",
    "        \n",
    "    @classmethod\n",
    "    def change_school_name(cls,ch_school_name):\n",
    "        cls.school_name=ch_school_nam"
   ]
  }
 ],
 "metadata": {
  "kernelspec": {
   "display_name": "Python 3 (ipykernel)",
   "language": "python",
   "name": "python3"
  },
  "language_info": {
   "codemirror_mode": {
    "name": "ipython",
    "version": 3
   },
   "file_extension": ".py",
   "mimetype": "text/x-python",
   "name": "python",
   "nbconvert_exporter": "python",
   "pygments_lexer": "ipython3",
   "version": "3.9.13"
  }
 },
 "nbformat": 4,
 "nbformat_minor": 5
}
