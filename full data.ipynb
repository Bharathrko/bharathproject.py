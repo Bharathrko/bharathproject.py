{
 "cells": [
  {
   "cell_type": "code",
   "execution_count": 1,
   "id": "3eb3eb20",
   "metadata": {},
   "outputs": [
    {
     "name": "stdout",
     "output_type": "stream",
     "text": [
      "bharath is a cricket player\n",
      "dilip is a sports man\n"
     ]
    }
   ],
   "source": [
    "#strings\n",
    "str=\"bharath is a cricket player\"\n",
    "str1=\"dilip is a sports man\"\n",
    "print(str)\n",
    "print(str1)"
   ]
  },
  {
   "cell_type": "code",
   "execution_count": 3,
   "id": "20bdf057",
   "metadata": {},
   "outputs": [
    {
     "name": "stdout",
     "output_type": "stream",
     "text": [
      "r\n",
      "i\n"
     ]
    }
   ],
   "source": [
    "print(str[-1])\n",
    "print(str1[6])"
   ]
  },
  {
   "cell_type": "code",
   "execution_count": 4,
   "id": "5f9b9fa0",
   "metadata": {},
   "outputs": [
    {
     "name": "stdout",
     "output_type": "stream",
     "text": [
      "reyalp tekcirc a si htarahb\n"
     ]
    }
   ],
   "source": [
    "print(str[::-1])"
   ]
  },
  {
   "cell_type": "code",
   "execution_count": 5,
   "id": "ad8785df",
   "metadata": {},
   "outputs": [
    {
     "name": "stdout",
     "output_type": "stream",
     "text": [
      "harath \n",
      "ip is a sports \n"
     ]
    }
   ],
   "source": [
    "print(str[1:8])\n",
    "print(str1[3:-3])"
   ]
  },
  {
   "cell_type": "code",
   "execution_count": 10,
   "id": "2ee32460",
   "metadata": {},
   "outputs": [
    {
     "name": "stdout",
     "output_type": "stream",
     "text": [
      "<class 'int'>\n",
      "<class 'str'>\n",
      "dilip is a sports man\n",
      "python learn at weekend\n",
      "ip in le\n"
     ]
    }
   ],
   "source": [
    "a=53\n",
    "print(type(a)) \n",
    "name=\"bharath\"\n",
    "print(type(name))\n",
    "print(str1)\n",
    "str2=\"python learn at weekend\"\n",
    "print(str2)\n",
    "str3=str1[3:7]+str2[5:9]\n",
    "print(str3)"
   ]
  },
  {
   "cell_type": "code",
   "execution_count": 14,
   "id": "71e5fb02",
   "metadata": {},
   "outputs": [
    {
     "ename": "NameError",
     "evalue": "name 'str3' is not defined",
     "output_type": "error",
     "traceback": [
      "\u001b[1;31m---------------------------------------------------------------------------\u001b[0m",
      "\u001b[1;31mNameError\u001b[0m                                 Traceback (most recent call last)",
      "\u001b[1;32m~\\AppData\\Local\\Temp\\ipykernel_15920\\1133688822.py\u001b[0m in \u001b[0;36m<module>\u001b[1;34m\u001b[0m\n\u001b[1;32m----> 1\u001b[1;33m \u001b[1;32mdel\u001b[0m \u001b[0mstr3\u001b[0m\u001b[1;33m\u001b[0m\u001b[1;33m\u001b[0m\u001b[0m\n\u001b[0m",
      "\u001b[1;31mNameError\u001b[0m: name 'str3' is not defined"
     ]
    }
   ],
   "source": [
    "del str3"
   ]
  },
  {
   "cell_type": "code",
   "execution_count": 15,
   "id": "617da7cf",
   "metadata": {},
   "outputs": [
    {
     "name": "stdout",
     "output_type": "stream",
     "text": [
      "\n",
      " this is string class\t python learn at weekend\n"
     ]
    }
   ],
   "source": [
    "print(\"\\n this is string class\"\"\\t\",str2)"
   ]
  },
  {
   "cell_type": "code",
   "execution_count": 16,
   "id": "6a973df2",
   "metadata": {},
   "outputs": [
    {
     "name": "stdout",
     "output_type": "stream",
     "text": [
      "suresh bharath dilip pavithra\n"
     ]
    }
   ],
   "source": [
    "str4=\"{3} {1} {0} {2}\".format(\"dilip\",\"bharath\",\"pavithra\",\"suresh\")\n",
    "print(str4)"
   ]
  },
  {
   "cell_type": "code",
   "execution_count": 18,
   "id": "9bcbe0d5",
   "metadata": {},
   "outputs": [
    {
     "name": "stdout",
     "output_type": "stream",
     "text": [
      "BHARATH IS A CRICKET PLAYER\n",
      "False\n"
     ]
    }
   ],
   "source": [
    "print(str.upper())\n",
    "print(str.isspace())"
   ]
  },
  {
   "cell_type": "code",
   "execution_count": 23,
   "id": "acef4a4f",
   "metadata": {},
   "outputs": [
    {
     "name": "stdout",
     "output_type": "stream",
     "text": [
      "0\n",
      "16\n",
      "27\n",
      "1\n"
     ]
    }
   ],
   "source": [
    "print(str.find(\"b\",0,22))\n",
    "print(str.rfind(\"c\",0,22))\n",
    "print(len(str))\n",
    "print(str.count(\"bharath\",0,25))"
   ]
  },
  {
   "cell_type": "code",
   "execution_count": 24,
   "id": "7d22bd57",
   "metadata": {},
   "outputs": [
    {
     "name": "stdout",
     "output_type": "stream",
     "text": [
      "b***h***a***r***a***t***h*** ***i***s*** ***a*** ***c***r***i***c***k***e***t*** ***p***l***a***y***e***r\n"
     ]
    }
   ],
   "source": [
    "str6=\"***\"\n",
    "print(str6.join(str))"
   ]
  },
  {
   "cell_type": "code",
   "execution_count": 28,
   "id": "7a858453",
   "metadata": {},
   "outputs": [
    {
     "name": "stdout",
     "output_type": "stream",
     "text": [
      "bharath\n",
      "****bharath\n"
     ]
    }
   ],
   "source": [
    "str7=\"****bharath*****\"\n",
    "print(str7.strip(\"*\"))\n",
    "print(str7.rstrip(\"*\"))"
   ]
  },
  {
   "cell_type": "code",
   "execution_count": 31,
   "id": "2d091046",
   "metadata": {},
   "outputs": [
    {
     "name": "stdout",
     "output_type": "stream",
     "text": [
      "anagram\n"
     ]
    }
   ],
   "source": [
    "def fun(s1,s2):\n",
    "    if(sorted(s1)==sorted(s2)):\n",
    "        print(\"anagram\")\n",
    "    else:\n",
    "        print(\"it is not anagram\")\n",
    "        \n",
    "s1=\"tab\"\n",
    "s2=\"bat\"\n",
    "fun(s1,s2)"
   ]
  },
  {
   "cell_type": "code",
   "execution_count": 3,
   "id": "b8ff625e",
   "metadata": {},
   "outputs": [
    {
     "name": "stdout",
     "output_type": "stream",
     "text": [
      "[1, 3, 4, 5, 6, 6]\n",
      "<class 'list'>\n"
     ]
    }
   ],
   "source": [
    "#list\n",
    "mylist=[1,3,4,5,6,6]\n",
    "print(mylist)\n",
    "print(type(mylist))"
   ]
  },
  {
   "cell_type": "code",
   "execution_count": 4,
   "id": "199b82df",
   "metadata": {},
   "outputs": [
    {
     "name": "stdout",
     "output_type": "stream",
     "text": [
      "[5, 6.7, 'python']\n"
     ]
    }
   ],
   "source": [
    "mylist1=[5,6.7,\"python\"]\n",
    "print(mylist1)"
   ]
  },
  {
   "cell_type": "code",
   "execution_count": 5,
   "id": "d34b85de",
   "metadata": {},
   "outputs": [
    {
     "name": "stdout",
     "output_type": "stream",
     "text": [
      "[3, 6, 7, ['bharath', 'pavithra'], 6.7, 9]\n"
     ]
    }
   ],
   "source": [
    "mylist2=[3,6,7,[\"bharath\",\"pavithra\"],6.7,9]\n",
    "print(mylist2)"
   ]
  },
  {
   "cell_type": "code",
   "execution_count": 6,
   "id": "4caf7bbd",
   "metadata": {},
   "outputs": [
    {
     "name": "stdout",
     "output_type": "stream",
     "text": [
      "4\n",
      "5\n",
      "pavithra\n"
     ]
    }
   ],
   "source": [
    "print(mylist[2])\n",
    "print(mylist1[0])\n",
    "print(mylist2[3][1])"
   ]
  },
  {
   "cell_type": "code",
   "execution_count": 7,
   "id": "e02bed12",
   "metadata": {},
   "outputs": [
    {
     "name": "stdout",
     "output_type": "stream",
     "text": [
      "6\n",
      "python\n",
      "9\n"
     ]
    }
   ],
   "source": [
    "print(mylist[-1])\n",
    "print(mylist1[-1])\n",
    "print(mylist2[-1])"
   ]
  },
  {
   "cell_type": "code",
   "execution_count": 8,
   "id": "202917aa",
   "metadata": {},
   "outputs": [
    {
     "name": "stdout",
     "output_type": "stream",
     "text": [
      "[['bharath', 'paviuthra'], [5, 6], ['dilip', 'hema']]\n",
      "6\n"
     ]
    }
   ],
   "source": [
    "mylist3=[[\"bharath\",\"paviuthra\"],[5,6],[\"dilip\",\"hema\"]]\n",
    "print(mylist3)\n",
    "print(mylist3[1][1])"
   ]
  },
  {
   "cell_type": "code",
   "execution_count": 11,
   "id": "5158789c",
   "metadata": {},
   "outputs": [
    {
     "name": "stdout",
     "output_type": "stream",
     "text": [
      "enter the data:python pavithra\n",
      "['python', 'pavithra']\n",
      "<class 'list'>\n"
     ]
    }
   ],
   "source": [
    "mylist4=input(\"enter the data:\")\n",
    "conli=mylist4.split()\n",
    "print(conli)\n",
    "print(type(conli))"
   ]
  },
  {
   "cell_type": "code",
   "execution_count": 12,
   "id": "410f4dcd",
   "metadata": {},
   "outputs": [
    {
     "name": "stdout",
     "output_type": "stream",
     "text": [
      "6\n",
      "3\n",
      "6\n"
     ]
    }
   ],
   "source": [
    "print(len(mylist))\n",
    "print(len(mylist1))\n",
    "print(len(mylist2))"
   ]
  },
  {
   "cell_type": "code",
   "execution_count": 13,
   "id": "7392d05d",
   "metadata": {},
   "outputs": [
    {
     "name": "stdout",
     "output_type": "stream",
     "text": [
      "[1, 3, 4, 5, 6, 6, 45]\n",
      "[5, 6.7, 'python', 78]\n",
      "[3, 6, 7, ['bharath', 'pavithra'], 6.7, 9, 'sunday class']\n"
     ]
    }
   ],
   "source": [
    "mylist.append(45)\n",
    "mylist1.append(78)\n",
    "mylist2.append(\"sunday class\")\n",
    "print(mylist)\n",
    "print(mylist1)\n",
    "print(mylist2)"
   ]
  },
  {
   "cell_type": "code",
   "execution_count": 14,
   "id": "b733d13f",
   "metadata": {},
   "outputs": [
    {
     "name": "stdout",
     "output_type": "stream",
     "text": [
      "[1, 3, 4, 67, 5, 6, 6, 45]\n"
     ]
    }
   ],
   "source": [
    "mylist.insert(3,67)\n",
    "print(mylist)"
   ]
  },
  {
   "cell_type": "code",
   "execution_count": 15,
   "id": "cbcbe779",
   "metadata": {},
   "outputs": [
    {
     "name": "stdout",
     "output_type": "stream",
     "text": [
      "[5, 6.7, 'python', 78, 'bharath', 'dilip']\n"
     ]
    }
   ],
   "source": [
    "mylist1.extend([\"bharath\",\"dilip\"])\n",
    "print(mylist1)"
   ]
  },
  {
   "cell_type": "code",
   "execution_count": 17,
   "id": "a1e3c9f5",
   "metadata": {},
   "outputs": [
    {
     "name": "stdout",
     "output_type": "stream",
     "text": [
      "[45, 6, 6, 5, 67, 4, 3, 1]\n"
     ]
    }
   ],
   "source": [
    "mylist7=mylist\n",
    "mylist7.reverse()\n",
    "print(mylist7)"
   ]
  },
  {
   "cell_type": "code",
   "execution_count": 19,
   "id": "86974350",
   "metadata": {},
   "outputs": [
    {
     "name": "stdout",
     "output_type": "stream",
     "text": [
      "[45, 5, 67, 4, 3, 1]\n",
      "[45, 5, 67, 4, 3]\n"
     ]
    }
   ],
   "source": [
    "mylist.remove(6)\n",
    "print(mylist)\n",
    "mylist.pop()\n",
    "print(mylist)"
   ]
  },
  {
   "cell_type": "code",
   "execution_count": 20,
   "id": "ac9cd3af",
   "metadata": {},
   "outputs": [
    {
     "name": "stdout",
     "output_type": "stream",
     "text": [
      "[5, 67, 4, 3]\n",
      "78\n",
      "[3, 4, 67, 5, 45]\n"
     ]
    }
   ],
   "source": [
    "print(mylist[1:])\n",
    "print(mylist1[-3])\n",
    "print(mylist[::-1])\n"
   ]
  },
  {
   "cell_type": "code",
   "execution_count": 21,
   "id": "b31e9b88",
   "metadata": {},
   "outputs": [
    {
     "name": "stdout",
     "output_type": "stream",
     "text": [
      "[45, 5, 67, 4, 3, 5, 6.7, 'python', 78, 'bharath', 'dilip']\n"
     ]
    }
   ],
   "source": [
    "mylist8=mylist+mylist1\n",
    "print(mylist8)"
   ]
  },
  {
   "cell_type": "code",
   "execution_count": 23,
   "id": "312dd611",
   "metadata": {},
   "outputs": [
    {
     "name": "stdout",
     "output_type": "stream",
     "text": [
      "[]\n"
     ]
    },
    {
     "ename": "NameError",
     "evalue": "name 'mylist' is not defined",
     "output_type": "error",
     "traceback": [
      "\u001b[1;31m---------------------------------------------------------------------------\u001b[0m",
      "\u001b[1;31mNameError\u001b[0m                                 Traceback (most recent call last)",
      "\u001b[1;32m~\\AppData\\Local\\Temp\\ipykernel_21164\\3416950426.py\u001b[0m in \u001b[0;36m<module>\u001b[1;34m\u001b[0m\n\u001b[0;32m      2\u001b[0m \u001b[0mprint\u001b[0m\u001b[1;33m(\u001b[0m\u001b[0mmylist\u001b[0m\u001b[1;33m)\u001b[0m\u001b[1;33m\u001b[0m\u001b[1;33m\u001b[0m\u001b[0m\n\u001b[0;32m      3\u001b[0m \u001b[1;32mdel\u001b[0m \u001b[0mmylist\u001b[0m\u001b[1;33m\u001b[0m\u001b[1;33m\u001b[0m\u001b[0m\n\u001b[1;32m----> 4\u001b[1;33m \u001b[0mprint\u001b[0m\u001b[1;33m(\u001b[0m\u001b[0mmylist\u001b[0m\u001b[1;33m)\u001b[0m\u001b[1;33m\u001b[0m\u001b[1;33m\u001b[0m\u001b[0m\n\u001b[0m",
      "\u001b[1;31mNameError\u001b[0m: name 'mylist' is not defined"
     ]
    }
   ],
   "source": [
    "mylist.clear()\n",
    "print(mylist)\n",
    "del mylist\n",
    "print(mylist)"
   ]
  },
  {
   "cell_type": "code",
   "execution_count": 2,
   "id": "c15de268",
   "metadata": {},
   "outputs": [
    {
     "name": "stdout",
     "output_type": "stream",
     "text": [
      "()\n",
      "(5, 6, 'python', 5, 8)\n"
     ]
    }
   ],
   "source": [
    "#tuple\n",
    "mytub=()\n",
    "print(mytub)\n",
    "mytub=(5,6,\"python\",5,8)\n",
    "print(mytub)\n"
   ]
  },
  {
   "cell_type": "code",
   "execution_count": 3,
   "id": "c3bbb4ff",
   "metadata": {},
   "outputs": [
    {
     "name": "stdout",
     "output_type": "stream",
     "text": [
      "(5, 6, 'python', 5, 8)\n",
      "6\n"
     ]
    }
   ],
   "source": [
    "a,b,c,d,e=mytub\n",
    "print(mytub)\n",
    "print(b)"
   ]
  },
  {
   "cell_type": "code",
   "execution_count": 4,
   "id": "d5677285",
   "metadata": {},
   "outputs": [
    {
     "name": "stdout",
     "output_type": "stream",
     "text": [
      "python\n",
      "6\n",
      "8\n"
     ]
    }
   ],
   "source": [
    "print(mytub[2])\n",
    "print(mytub[1])\n",
    "print(mytub[-1])"
   ]
  },
  {
   "cell_type": "code",
   "execution_count": 7,
   "id": "8f0db3ad",
   "metadata": {},
   "outputs": [
    {
     "name": "stdout",
     "output_type": "stream",
     "text": [
      "(6, 'python', 5, 8)\n",
      "(6, 'python')\n"
     ]
    }
   ],
   "source": [
    "print(mytub[1::])\n",
    "print(mytub[1:3])"
   ]
  },
  {
   "cell_type": "code",
   "execution_count": 11,
   "id": "f279e36b",
   "metadata": {},
   "outputs": [
    {
     "name": "stdout",
     "output_type": "stream",
     "text": [
      "[56, 87, 98, 'bharath', ['pavithra', 'dilip'], 786]\n",
      "[56, 'change', 98, 'bharath', ['pavithra', 'dilip'], 786]\n"
     ]
    }
   ],
   "source": [
    "mytub1=[56,87,98,\"bharath\",[\"pavithra\",\"dilip\"],786]\n",
    "print(mytub1)\n",
    "mytub1[1]=\"change\"\n",
    "print(mytub1)"
   ]
  },
  {
   "cell_type": "code",
   "execution_count": 14,
   "id": "ed62c443",
   "metadata": {},
   "outputs": [
    {
     "name": "stdout",
     "output_type": "stream",
     "text": [
      "[56, 'change', 98, 'bharath', ['pavithra', 'dilip'], 786, 56, 'change', 98, 'bharath', ['pavithra', 'dilip'], 786]\n"
     ]
    }
   ],
   "source": [
    "mytub3= mytub1 + mytub1\n",
    "print(mytub3)"
   ]
  },
  {
   "cell_type": "code",
   "execution_count": 15,
   "id": "64e8f467",
   "metadata": {},
   "outputs": [
    {
     "name": "stdout",
     "output_type": "stream",
     "text": [
      "(5, 6, 'python', 5, 8, 5, 6, 'python', 5, 8, 5, 6, 'python', 5, 8)\n"
     ]
    }
   ],
   "source": [
    "print(mytub*3)"
   ]
  },
  {
   "cell_type": "code",
   "execution_count": 17,
   "id": "e1c4a7e0",
   "metadata": {},
   "outputs": [
    {
     "name": "stdout",
     "output_type": "stream",
     "text": [
      "{1, 4, 5, 6, 7, 8, 56}\n"
     ]
    }
   ],
   "source": [
    "#set\n",
    "myset={1,5,6,7,4,56,8,5}\n",
    "print(myset)"
   ]
  },
  {
   "cell_type": "code",
   "execution_count": 7,
   "id": "f80d14fe",
   "metadata": {},
   "outputs": [
    {
     "name": "stdout",
     "output_type": "stream",
     "text": [
      "{'bharath', 98, 6, 7, 45, 'dilip'}\n"
     ]
    }
   ],
   "source": [
    "myset1={6,7,\"bharath\",\"dilip\",7,98,45}\n",
    "print(myset1)"
   ]
  },
  {
   "cell_type": "code",
   "execution_count": 6,
   "id": "38bda747",
   "metadata": {},
   "outputs": [
    {
     "name": "stdout",
     "output_type": "stream",
     "text": [
      "{3, 5, 6, 7, 10}\n",
      "<class 'set'>\n"
     ]
    }
   ],
   "source": [
    "myset2=set([10,5,6,7,3])\n",
    "print(myset2)\n",
    "print(type(myset2))"
   ]
  },
  {
   "cell_type": "code",
   "execution_count": 8,
   "id": "75cbc036",
   "metadata": {},
   "outputs": [
    {
     "ename": "NameError",
     "evalue": "name 'myset' is not defined",
     "output_type": "error",
     "traceback": [
      "\u001b[1;31m---------------------------------------------------------------------------\u001b[0m",
      "\u001b[1;31mNameError\u001b[0m                                 Traceback (most recent call last)",
      "\u001b[1;32m~\\AppData\\Local\\Temp\\ipykernel_5540\\3031799786.py\u001b[0m in \u001b[0;36m<module>\u001b[1;34m\u001b[0m\n\u001b[1;32m----> 1\u001b[1;33m \u001b[0mprint\u001b[0m\u001b[1;33m(\u001b[0m\u001b[0mmyset\u001b[0m\u001b[1;33m)\u001b[0m\u001b[1;33m\u001b[0m\u001b[1;33m\u001b[0m\u001b[0m\n\u001b[0m\u001b[0;32m      2\u001b[0m \u001b[0mmyset\u001b[0m\u001b[1;33m.\u001b[0m\u001b[0madd\u001b[0m\u001b[1;33m(\u001b[0m\u001b[1;36m145\u001b[0m\u001b[1;33m)\u001b[0m\u001b[1;33m\u001b[0m\u001b[1;33m\u001b[0m\u001b[0m\n\u001b[0;32m      3\u001b[0m \u001b[0mprint\u001b[0m\u001b[1;33m(\u001b[0m\u001b[0mmyset\u001b[0m\u001b[1;33m)\u001b[0m\u001b[1;33m\u001b[0m\u001b[1;33m\u001b[0m\u001b[0m\n\u001b[0;32m      4\u001b[0m \u001b[0mmyset1\u001b[0m\u001b[1;33m.\u001b[0m\u001b[0mupdate\u001b[0m\u001b[1;33m(\u001b[0m\u001b[1;33m[\u001b[0m\u001b[1;34m\"pavithra\"\u001b[0m\u001b[1;33m,\u001b[0m\u001b[1;34m\"sekar\"\u001b[0m\u001b[1;33m]\u001b[0m\u001b[1;33m)\u001b[0m\u001b[1;33m\u001b[0m\u001b[1;33m\u001b[0m\u001b[0m\n\u001b[0;32m      5\u001b[0m \u001b[0mprint\u001b[0m\u001b[1;33m(\u001b[0m\u001b[0mmyset1\u001b[0m\u001b[1;33m)\u001b[0m\u001b[1;33m\u001b[0m\u001b[1;33m\u001b[0m\u001b[0m\n",
      "\u001b[1;31mNameError\u001b[0m: name 'myset' is not defined"
     ]
    }
   ],
   "source": [
    "print(myset)\n",
    "myset.add(145)\n",
    "print(myset)\n",
    "myset1.update([\"pavithra\",\"sekar\"])\n",
    "print(myset1)"
   ]
  },
  {
   "cell_type": "code",
   "execution_count": 11,
   "id": "b990f005",
   "metadata": {},
   "outputs": [
    {
     "name": "stdout",
     "output_type": "stream",
     "text": [
      "{6, 7, 8, 90, 12, 45}\n",
      "{6, 7, 8, 12, 45}\n",
      "{7, 8, 12, 45}\n"
     ]
    }
   ],
   "source": [
    "myset6={6,7,8,90,12,45,6}\n",
    "print(myset6)\n",
    "myset6.discard(90)\n",
    "print(myset6)\n",
    "myset6.pop()\n",
    "print(myset6)"
   ]
  },
  {
   "cell_type": "code",
   "execution_count": 12,
   "id": "4b5dea6f",
   "metadata": {},
   "outputs": [
    {
     "name": "stdout",
     "output_type": "stream",
     "text": [
      "{98, 6, 7, 8, 12, 45, 'bharath', 'dilip'}\n"
     ]
    }
   ],
   "source": [
    "print(myset1|myset6)"
   ]
  },
  {
   "cell_type": "code",
   "execution_count": 16,
   "id": "805ecf00",
   "metadata": {},
   "outputs": [
    {
     "name": "stdout",
     "output_type": "stream",
     "text": [
      "{1, 4, 5, 6, 78}\n",
      "{1, 2, 3, 4, 5, 6, 78}\n",
      "{2}\n",
      "{2, 3}\n"
     ]
    }
   ],
   "source": [
    "a={1,2,4,5,6,78}\n",
    "b={1,3,4,5,6,78}\n",
    "print(a&b)\n",
    "print(a|b)\n",
    "print(a-b)\n",
    "print(a^b)"
   ]
  },
  {
   "cell_type": "code",
   "execution_count": 17,
   "id": "a32ad190",
   "metadata": {},
   "outputs": [
    {
     "name": "stdout",
     "output_type": "stream",
     "text": [
      "{1: 'bharath', 2: 'dilip', 3: 'suresh'}\n",
      "<class 'dict'>\n"
     ]
    }
   ],
   "source": [
    "#dictionary\n",
    "mydic={1:\"bharath\",2:\"dilip\",3:\"suresh\"}\n",
    "print(mydic)\n",
    "print(type(mydic))"
   ]
  },
  {
   "cell_type": "code",
   "execution_count": 18,
   "id": "9e45cfcd",
   "metadata": {},
   "outputs": [
    {
     "name": "stdout",
     "output_type": "stream",
     "text": [
      "{'p': 'python', 2: [2, 4, 5, 7]}\n"
     ]
    }
   ],
   "source": [
    "mydic1={\"p\":\"python\",2:[2,4,5,7]}\n",
    "print(mydic1)"
   ]
  },
  {
   "cell_type": "code",
   "execution_count": 19,
   "id": "df1e2691",
   "metadata": {},
   "outputs": [
    {
     "name": "stdout",
     "output_type": "stream",
     "text": [
      "{1: 'go', 2: 'for'}\n"
     ]
    }
   ],
   "source": [
    "mydic2=dict({1:\"go\",2:\"for\"})\n",
    "print(mydic2)"
   ]
  },
  {
   "cell_type": "code",
   "execution_count": 20,
   "id": "b3c9e9af",
   "metadata": {},
   "outputs": [
    {
     "name": "stdout",
     "output_type": "stream",
     "text": [
      "{1: 4, 2: 6}\n"
     ]
    }
   ],
   "source": [
    "mydic3=dict([(1,4),(2,6)])\n",
    "print(mydic3)"
   ]
  },
  {
   "cell_type": "code",
   "execution_count": 22,
   "id": "1d1c21c3",
   "metadata": {},
   "outputs": [
    {
     "name": "stdout",
     "output_type": "stream",
     "text": [
      "{1: 'gecl', 2: 'disb', 3: 'helpline', 4: {'a': 'pdc', 'b': 'project'}}\n"
     ]
    }
   ],
   "source": [
    "mydic4={1:\"gecl\",2:\"disb\",3:\"helpline\",4:{\"a\":\"pdc\",\"b\":\"project\"}}\n",
    "print(mydic4)"
   ]
  },
  {
   "cell_type": "code",
   "execution_count": 24,
   "id": "bdff94c0",
   "metadata": {},
   "outputs": [
    {
     "name": "stdout",
     "output_type": "stream",
     "text": [
      "{1: 'bharath', 2: 'monday', 3: 'suresh'}\n",
      "{1: 'gecl', 2: 'disb', 3: 'helpline', 4: {'a': 'bharath'}}\n"
     ]
    }
   ],
   "source": [
    "mydic[2]=\"monday\"\n",
    "print(mydic)\n",
    "mydic4[4]={\"a\":\"bharath\"}\n",
    "print(mydic4)"
   ]
  },
  {
   "cell_type": "code",
   "execution_count": 26,
   "id": "348191c6",
   "metadata": {},
   "outputs": [
    {
     "name": "stdout",
     "output_type": "stream",
     "text": [
      "suresh\n",
      "[2, 4, 5, 7]\n",
      "{'a': 'bharath'}\n"
     ]
    }
   ],
   "source": [
    "print(mydic[3])\n",
    "print(mydic1.get(2))\n",
    "print(mydic4[4])"
   ]
  },
  {
   "cell_type": "code",
   "execution_count": 27,
   "id": "304c45ca",
   "metadata": {},
   "outputs": [
    {
     "name": "stdout",
     "output_type": "stream",
     "text": [
      "{'a': 'bharath'}\n",
      "bharath\n"
     ]
    }
   ],
   "source": [
    "print(mydic4[4])\n",
    "print(mydic[1])"
   ]
  },
  {
   "cell_type": "code",
   "execution_count": 28,
   "id": "181f4fa7",
   "metadata": {},
   "outputs": [
    {
     "name": "stdout",
     "output_type": "stream",
     "text": [
      "4,6,7,8\n",
      "4,6,7,8\n"
     ]
    }
   ],
   "source": [
    "mydic5=input()\n",
    "print(mydic5)"
   ]
  },
  {
   "cell_type": "code",
   "execution_count": 29,
   "id": "71ffd1e8",
   "metadata": {},
   "outputs": [
    {
     "name": "stdout",
     "output_type": "stream",
     "text": [
      "{1: 'gecl', 2: 'disb', 3: 'helpline'}\n"
     ]
    }
   ],
   "source": [
    "mydic4.pop(4)\n",
    "print(mydic4)"
   ]
  },
  {
   "cell_type": "code",
   "execution_count": 30,
   "id": "8d32bc02",
   "metadata": {},
   "outputs": [
    {
     "name": "stdout",
     "output_type": "stream",
     "text": [
      "{1: 'gecl', 2: 'disb'}\n"
     ]
    }
   ],
   "source": [
    "del mydic4[3]\n",
    "print(mydic4)"
   ]
  },
  {
   "cell_type": "code",
   "execution_count": 33,
   "id": "f78d912d",
   "metadata": {},
   "outputs": [
    {
     "name": "stdout",
     "output_type": "stream",
     "text": [
      "{1: 'go', 2: [2, 4, 5, 7], 'p': 'python'}\n"
     ]
    }
   ],
   "source": [
    "mydic6=mydic2|mydic1\n",
    "print(mydic6)"
   ]
  },
  {
   "cell_type": "code",
   "execution_count": 1,
   "id": "0abecf50",
   "metadata": {},
   "outputs": [],
   "source": [
    "#constructor"
   ]
  },
  {
   "cell_type": "code",
   "execution_count": 4,
   "id": "46b59056",
   "metadata": {},
   "outputs": [
    {
     "name": "stdout",
     "output_type": "stream",
     "text": [
      "a is lesser\n"
     ]
    }
   ],
   "source": [
    "a=10\n",
    "if(a>15):\n",
    "    print(\"a is greater\")\n",
    "else:\n",
    "    print(\"a is lesser\")"
   ]
  },
  {
   "cell_type": "code",
   "execution_count": 5,
   "id": "4dbee0c3",
   "metadata": {},
   "outputs": [
    {
     "name": "stdout",
     "output_type": "stream",
     "text": [
      "x is equal\n"
     ]
    }
   ],
   "source": [
    "x=40\n",
    "if(x==40):\n",
    "    if(x<50):\n",
    "        print(\"x is equal\")\n",
    "    else:\n",
    "        print(\"x is not equal\")\n",
    "else:\n",
    "    print(\"this is not correct\")"
   ]
  },
  {
   "cell_type": "code",
   "execution_count": 6,
   "id": "8ee3b108",
   "metadata": {},
   "outputs": [
    {
     "name": "stdout",
     "output_type": "stream",
     "text": [
      "it is 20\n"
     ]
    }
   ],
   "source": [
    "x=20\n",
    "if(x==10):\n",
    "    print(\"it  is 10\")\n",
    "elif(x==20):\n",
    "    print(\"it is 20\")\n",
    "elif(x==30):\n",
    "    print(\"it is 30\")"
   ]
  },
  {
   "cell_type": "code",
   "execution_count": 7,
   "id": "60e4c623",
   "metadata": {},
   "outputs": [
    {
     "name": "stdout",
     "output_type": "stream",
     "text": [
      "true\n"
     ]
    }
   ],
   "source": [
    "x=10\n",
    "print(\"true\") if x<15 else print(\"false\")"
   ]
  },
  {
   "cell_type": "code",
   "execution_count": 8,
   "id": "07296895",
   "metadata": {},
   "outputs": [
    {
     "name": "stdout",
     "output_type": "stream",
     "text": [
      "bharath\n",
      "dilip\n",
      "suresh\n"
     ]
    }
   ],
   "source": [
    "#for-for var in iterate\n",
    "ab=[\"bharath\",\"dilip\",\"suresh\"]\n",
    "for x in ab:\n",
    "    print(x)"
   ]
  },
  {
   "cell_type": "code",
   "execution_count": 9,
   "id": "abbf2442",
   "metadata": {},
   "outputs": [
    {
     "name": "stdout",
     "output_type": "stream",
     "text": [
      "B\n",
      "H\n",
      "A\n",
      "R\n",
      "A\n",
      "T\n",
      "H\n",
      " \n",
      "P\n",
      "A\n",
      "V\n",
      "I\n",
      "T\n",
      "H\n",
      "R\n",
      "A\n"
     ]
    }
   ],
   "source": [
    "s=\"BHARATH PAVITHRA\"\n",
    "for x in s:\n",
    "    print(x)"
   ]
  },
  {
   "cell_type": "code",
   "execution_count": 10,
   "id": "ccd70cda",
   "metadata": {},
   "outputs": [
    {
     "name": "stdout",
     "output_type": "stream",
     "text": [
      "letter is F\n",
      "letter is I\n",
      "letter is T\n",
      "letter is  \n",
      "letter is C\n",
      "letter is D\n",
      "letter is Y\n"
     ]
    }
   ],
   "source": [
    "for l in \"FITA ACADAMY\":\n",
    "    if l==\"A\" or l==\"M\":\n",
    "        continue\n",
    "    print(\"letter is\",l)"
   ]
  },
  {
   "cell_type": "code",
   "execution_count": 11,
   "id": "241e2a06",
   "metadata": {},
   "outputs": [
    {
     "name": "stdout",
     "output_type": "stream",
     "text": [
      "letter is F\n",
      "letter is I\n",
      "letter is T\n"
     ]
    }
   ],
   "source": [
    "for l in \"FITA ACADAMY\":\n",
    "    if l==\"A\" or l==\"M\":\n",
    "        break\n",
    "    print(\"letter is\",l)"
   ]
  },
  {
   "cell_type": "code",
   "execution_count": 12,
   "id": "072fff4a",
   "metadata": {},
   "outputs": [],
   "source": [
    "for l in \"BHARATH\":\n",
    "    pass"
   ]
  },
  {
   "cell_type": "code",
   "execution_count": 13,
   "id": "e684b13d",
   "metadata": {},
   "outputs": [
    {
     "name": "stdout",
     "output_type": "stream",
     "text": [
      "0 1 2 3 4 5 6 7 8 9 10 11 12 13 "
     ]
    }
   ],
   "source": [
    "for i in range(14):\n",
    "    print(i,end=\" \")"
   ]
  },
  {
   "cell_type": "code",
   "execution_count": 14,
   "id": "b058a198",
   "metadata": {},
   "outputs": [
    {
     "name": "stdout",
     "output_type": "stream",
     "text": [
      "5 6 7 8 9 10 11 12 13 14 15 16 17 18 19 20 21 22 23 24 "
     ]
    }
   ],
   "source": [
    "for i in range(5,25):\n",
    "    print(i,end=\" \")"
   ]
  },
  {
   "cell_type": "code",
   "execution_count": 15,
   "id": "df66fd5d",
   "metadata": {},
   "outputs": [
    {
     "name": "stdout",
     "output_type": "stream",
     "text": [
      "0\n",
      "1\n",
      "2\n",
      "3\n",
      "4\n",
      "5\n",
      "6\n",
      "7\n",
      "8\n",
      "this is for else\n"
     ]
    }
   ],
   "source": [
    "for i in range(9):\n",
    "    print(i)\n",
    "else:\n",
    "    print(\"this is for else\")"
   ]
  },
  {
   "cell_type": "code",
   "execution_count": 3,
   "id": "1d1a5e15",
   "metadata": {},
   "outputs": [
    {
     "name": "stdout",
     "output_type": "stream",
     "text": [
      "fita\n",
      "fita\n",
      "fita\n",
      "fita\n",
      "fita\n"
     ]
    }
   ],
   "source": [
    "#while\n",
    "a=0\n",
    "while(a<5):\n",
    "    print(\"fita\")\n",
    "    a=a+1"
   ]
  },
  {
   "cell_type": "code",
   "execution_count": 2,
   "id": "edc552f1",
   "metadata": {},
   "outputs": [
    {
     "name": "stdout",
     "output_type": "stream",
     "text": [
      "current letter is b\n",
      "current letter is h\n",
      "current letter is a\n",
      "current letter is r\n",
      "current letter is a\n",
      "current letter is t\n",
      "current letter is h\n",
      "current letter is  \n",
      "current letter is i\n",
      "current letter is  \n",
      "current letter is a\n",
      "current letter is  \n",
      "current letter is r\n",
      "current letter is i\n",
      "current letter is k\n",
      "current letter is e\n",
      "current letter is t\n"
     ]
    }
   ],
   "source": [
    "a=0\n",
    "s=\"bharath is a cricket\"\n",
    "while a<len(s):\n",
    "    if s[a]==\"c\" or s[a]==\"s\":\n",
    "        a=a+1\n",
    "        continue\n",
    "    print(\"current letter is\",s[a])\n",
    "    a=a+1"
   ]
  },
  {
   "cell_type": "code",
   "execution_count": 8,
   "id": "1496fd11",
   "metadata": {},
   "outputs": [
    {
     "name": "stdout",
     "output_type": "stream",
     "text": [
      "current letter is b\n",
      "current letter is h\n",
      "current letter is a\n",
      "current letter is r\n",
      "current letter is a\n",
      "current letter is t\n",
      "current letter is h\n",
      "current letter is  \n",
      "current letter is i\n"
     ]
    }
   ],
   "source": [
    "a=0\n",
    "s=\"bharath is a cricket\"\n",
    "while a<len(s):\n",
    "    if s[a]==\"c\" or s[a]==\"s\":\n",
    "        a=a+1\n",
    "        break\n",
    "    print(\"current letter is\",s[a])\n",
    "    a=a+1"
   ]
  },
  {
   "cell_type": "code",
   "execution_count": 9,
   "id": "b16c15bd",
   "metadata": {},
   "outputs": [
    {
     "name": "stdout",
     "output_type": "stream",
     "text": [
      "enter the lower:16\n",
      "enter the upper:56\n",
      "16\n",
      "18\n",
      "20\n",
      "22\n",
      "24\n",
      "26\n",
      "28\n",
      "30\n",
      "32\n",
      "34\n",
      "36\n",
      "38\n",
      "40\n",
      "42\n",
      "44\n",
      "46\n",
      "48\n",
      "50\n",
      "52\n",
      "54\n",
      "56\n"
     ]
    }
   ],
   "source": [
    "n1=int(input(\"enter the lower:\"))\n",
    "n2=int(input(\"enter the upper:\"))\n",
    "\n",
    "for i in range(n1,n2+1):\n",
    "    if(i%2==0):\n",
    "        print(i)"
   ]
  },
  {
   "cell_type": "code",
   "execution_count": 10,
   "id": "ce256afa",
   "metadata": {},
   "outputs": [
    {
     "name": "stdout",
     "output_type": "stream",
     "text": [
      "enter the lower:0\n",
      "enter the upper:10\n",
      "1\n",
      "3\n",
      "5\n",
      "7\n",
      "9\n"
     ]
    }
   ],
   "source": [
    "n1=int(input(\"enter the lower:\"))\n",
    "n2=int(input(\"enter the upper:\"))\n",
    "\n",
    "for i in range(n1,n2+1):\n",
    "    if(i%2!=0):\n",
    "        print(i)"
   ]
  },
  {
   "cell_type": "code",
   "execution_count": 11,
   "id": "4bfa1d22",
   "metadata": {},
   "outputs": [
    {
     "name": "stdout",
     "output_type": "stream",
     "text": [
      "enter the n:11211\n",
      "it is palindrome\n"
     ]
    }
   ],
   "source": [
    "#palindrome----amma\n",
    "n=int(input(\"enter the n:\"))\n",
    "t=n\n",
    "a=0\n",
    "while(n>0):\n",
    "    d=n%10\n",
    "    a=a*10+d\n",
    "    n=n//10\n",
    "if(t==a):\n",
    "    print(\"it is palindrome\")\n",
    "else:\n",
    "    print(\"it is not palindrome\")"
   ]
  },
  {
   "cell_type": "code",
   "execution_count": 12,
   "id": "eade1f93",
   "metadata": {},
   "outputs": [
    {
     "name": "stdout",
     "output_type": "stream",
     "text": [
      "enter the n:123456\n",
      "654321\n"
     ]
    }
   ],
   "source": [
    "n=int(input(\"enter the n:\"))\n",
    "a=0\n",
    "while(n>0):\n",
    "    d=n%10\n",
    "    a=a*10+d\n",
    "    n=n//10\n",
    "print(a)\n"
   ]
  },
  {
   "cell_type": "code",
   "execution_count": 13,
   "id": "5a414d9c",
   "metadata": {},
   "outputs": [
    {
     "name": "stdout",
     "output_type": "stream",
     "text": [
      "5 x 1 = 5\n",
      "5 x 2 = 10\n",
      "5 x 3 = 15\n",
      "5 x 4 = 20\n",
      "5 x 5 = 25\n",
      "5 x 6 = 30\n",
      "5 x 7 = 35\n",
      "5 x 8 = 40\n",
      "5 x 9 = 45\n",
      "5 x 10 = 50\n"
     ]
    }
   ],
   "source": [
    "n=5\n",
    "for i in range(1,11):\n",
    "    print(n,\"x\",i,\"=\",n*i)"
   ]
  },
  {
   "cell_type": "code",
   "execution_count": 22,
   "id": "54a511a7",
   "metadata": {},
   "outputs": [
    {
     "name": "stdout",
     "output_type": "stream",
     "text": [
      "enter5\n",
      "*****\n",
      " ****\n",
      "  ***\n",
      "   **\n",
      "    *\n"
     ]
    }
   ],
   "source": [
    "n=int(input(\"enter\"))\n",
    "for i in range(n,0,-1):\n",
    "    print((n-i)* ' '+i *'*')"
   ]
  },
  {
   "cell_type": "code",
   "execution_count": 27,
   "id": "b1891957",
   "metadata": {},
   "outputs": [
    {
     "name": "stdout",
     "output_type": "stream",
     "text": [
      "enter the n6\n",
      "* \n",
      "* * \n"
     ]
    }
   ],
   "source": [
    "n=int(input(\"enter the n\"))\n",
    "for i in range(0,i+1):\n",
    "    for j in range(0,i+1):\n",
    "        print(\"*\",end=\" \")\n",
    "    print( )"
   ]
  },
  {
   "cell_type": "code",
   "execution_count": 32,
   "id": "4e20cbb1",
   "metadata": {},
   "outputs": [
    {
     "name": "stdout",
     "output_type": "stream",
     "text": [
      "1 \n",
      "1 2 \n",
      "1 2 3 \n",
      "1 2 3 4 \n",
      "1 2 3 4 5 \n",
      "1 2 3 4 5 6 \n",
      "1 2 3 4 5 6 7 \n",
      "1 2 3 4 5 6 7 8 \n",
      "1 2 3 4 5 6 7 8 9 \n",
      "1 2 3 4 5 6 7 8 9 10 \n"
     ]
    }
   ],
   "source": [
    "n=10\n",
    "\n",
    "for i in range(1,n+1):\n",
    "    for j in range(1,i+1):\n",
    "        print(j,end=\" \")\n",
    "    print()"
   ]
  },
  {
   "cell_type": "code",
   "execution_count": null,
   "id": "dd6e2d96",
   "metadata": {},
   "outputs": [],
   "source": []
  }
 ],
 "metadata": {
  "kernelspec": {
   "display_name": "Python 3 (ipykernel)",
   "language": "python",
   "name": "python3"
  },
  "language_info": {
   "codemirror_mode": {
    "name": "ipython",
    "version": 3
   },
   "file_extension": ".py",
   "mimetype": "text/x-python",
   "name": "python",
   "nbconvert_exporter": "python",
   "pygments_lexer": "ipython3",
   "version": "3.9.13"
  }
 },
 "nbformat": 4,
 "nbformat_minor": 5
}
