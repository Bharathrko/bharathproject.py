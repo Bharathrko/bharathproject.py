{
 "cells": [
  {
   "cell_type": "code",
   "execution_count": 5,
   "id": "e4300a2e",
   "metadata": {},
   "outputs": [
    {
     "name": "stdout",
     "output_type": "stream",
     "text": [
      "{1: 'bharath', 2: 'dilip', 3: 'suresh'}\n",
      "<class 'dict'>\n"
     ]
    }
   ],
   "source": [
    "#dictionary\n",
    "mydic={1:\"bharath\",2:\"dilip\",3:\"suresh\"}\n",
    "print(mydic)\n",
    "print(type(mydic))"
   ]
  },
  {
   "cell_type": "code",
   "execution_count": 6,
   "id": "1e9c6333",
   "metadata": {},
   "outputs": [
    {
     "name": "stdout",
     "output_type": "stream",
     "text": [
      "{'bharath': 'dilip', 1: [2, 4, 5]}\n"
     ]
    }
   ],
   "source": [
    "mydic1={\"bharath\":\"dilip\",1:[2,4,5]}\n",
    "print(mydic1)"
   ]
  },
  {
   "cell_type": "code",
   "execution_count": 7,
   "id": "d3b838f9",
   "metadata": {},
   "outputs": [
    {
     "name": "stdout",
     "output_type": "stream",
     "text": [
      "{1: 'python', 2: 'java'}\n"
     ]
    }
   ],
   "source": [
    "mydic2=dict({1:\"python\",2:\"java\"})\n",
    "print(mydic2)"
   ]
  },
  {
   "cell_type": "code",
   "execution_count": 8,
   "id": "f9b54f5d",
   "metadata": {},
   "outputs": [
    {
     "name": "stdout",
     "output_type": "stream",
     "text": [
      "{1: 4, 2: 5}\n"
     ]
    }
   ],
   "source": [
    "mydic3=dict([(1,4),(2,5)])\n",
    "print(mydic3)"
   ]
  },
  {
   "cell_type": "code",
   "execution_count": 9,
   "id": "7bf85b1c",
   "metadata": {},
   "outputs": [
    {
     "name": "stdout",
     "output_type": "stream",
     "text": [
      "{1: 'bharath', 2: 'roja', 3: 'dilip', 4: {'a': 'welcome', 'b': 'bith'}}\n"
     ]
    }
   ],
   "source": [
    "mydic4={1:\"bharath\",2:\"roja\",3:\"dilip\",4:{\"a\":\"welcome\",\"b\":\"bith\"}}\n",
    "print(mydic4)"
   ]
  },
  {
   "cell_type": "code",
   "execution_count": 10,
   "id": "a325306a",
   "metadata": {},
   "outputs": [
    {
     "name": "stdout",
     "output_type": "stream",
     "text": [
      "{1: 'bharath', 2: 'monday', 3: 'suresh'}\n"
     ]
    }
   ],
   "source": [
    "mydic[2]=\"monday\"\n",
    "print(mydic)"
   ]
  },
  {
   "cell_type": "code",
   "execution_count": 11,
   "id": "988fd78d",
   "metadata": {},
   "outputs": [
    {
     "name": "stdout",
     "output_type": "stream",
     "text": [
      "{1: 'bharath', 2: 'roja', 3: 'dilip', 4: {1: 'bharath'}}\n"
     ]
    }
   ],
   "source": [
    "mydic4[4]={1:\"bharath\"}\n",
    "print(mydic4)"
   ]
  },
  {
   "cell_type": "code",
   "execution_count": 12,
   "id": "ec18b259",
   "metadata": {},
   "outputs": [
    {
     "name": "stdout",
     "output_type": "stream",
     "text": [
      "bharath\n"
     ]
    }
   ],
   "source": [
    "print(mydic[1])"
   ]
  },
  {
   "cell_type": "code",
   "execution_count": 13,
   "id": "251ef2a9",
   "metadata": {},
   "outputs": [
    {
     "name": "stdout",
     "output_type": "stream",
     "text": [
      "monday\n"
     ]
    }
   ],
   "source": [
    "print(mydic.get(2))"
   ]
  },
  {
   "cell_type": "code",
   "execution_count": 14,
   "id": "61ae5ccc",
   "metadata": {},
   "outputs": [
    {
     "name": "stdout",
     "output_type": "stream",
     "text": [
      "{1: 'bharath', 2: 'roja', 3: 'dilip', 4: {1: 'bharath'}}\n"
     ]
    }
   ],
   "source": [
    "print(mydic4)"
   ]
  },
  {
   "cell_type": "code",
   "execution_count": 18,
   "id": "0fe784a5",
   "metadata": {},
   "outputs": [
    {
     "name": "stdout",
     "output_type": "stream",
     "text": [
      "{1: 'bharath', 3: 'dilip'}\n"
     ]
    }
   ],
   "source": [
    "mydic4.pop(2,\"bharath\")\n",
    "print(mydic4)"
   ]
  },
  {
   "cell_type": "code",
   "execution_count": 19,
   "id": "1b9fd46e",
   "metadata": {},
   "outputs": [],
   "source": [
    "del mydic4"
   ]
  },
  {
   "cell_type": "markdown",
   "id": "541b567c",
   "metadata": {},
   "source": []
  },
  {
   "cell_type": "code",
   "execution_count": 21,
   "id": "483ff4c4",
   "metadata": {},
   "outputs": [
    {
     "name": "stdout",
     "output_type": "stream",
     "text": [
      "{1: [2, 4, 5], 2: 'monday', 3: 'suresh', 'bharath': 'dilip'}\n"
     ]
    }
   ],
   "source": [
    "mydic5=mydic|mydic1\n",
    "print(mydic5)\n"
   ]
  },
  {
   "cell_type": "code",
   "execution_count": 24,
   "id": "e2f07344",
   "metadata": {},
   "outputs": [
    {
     "name": "stdout",
     "output_type": "stream",
     "text": [
      "True\n"
     ]
    }
   ],
   "source": [
    "a=[5]\n",
    "b=7\n",
    "print(bool(a))"
   ]
  },
  {
   "cell_type": "code",
   "execution_count": 25,
   "id": "a155aacd",
   "metadata": {},
   "outputs": [
    {
     "name": "stdout",
     "output_type": "stream",
     "text": [
      "a is greater\n"
     ]
    }
   ],
   "source": [
    "a=75\n",
    "b=58\n",
    "if(a>b):\n",
    "    print(\"a is greater\")\n",
    "else:\n",
    "    print(\"b is greater\")\n",
    "    "
   ]
  },
  {
   "cell_type": "code",
   "execution_count": 36,
   "id": "c4053d28",
   "metadata": {},
   "outputs": [
    {
     "name": "stdout",
     "output_type": "stream",
     "text": [
      "x is greater\n"
     ]
    }
   ],
   "source": [
    "x=20\n",
    "y=21\n",
    "if(y>x):\n",
    "    print(\"x is greater\")\n",
    "else:\n",
    "    print(x)"
   ]
  },
  {
   "cell_type": "code",
   "execution_count": null,
   "id": "bda37cf4",
   "metadata": {},
   "outputs": [],
   "source": []
  }
 ],
 "metadata": {
  "kernelspec": {
   "display_name": "Python 3 (ipykernel)",
   "language": "python",
   "name": "python3"
  },
  "language_info": {
   "codemirror_mode": {
    "name": "ipython",
    "version": 3
   },
   "file_extension": ".py",
   "mimetype": "text/x-python",
   "name": "python",
   "nbconvert_exporter": "python",
   "pygments_lexer": "ipython3",
   "version": "3.9.13"
  }
 },
 "nbformat": 4,
 "nbformat_minor": 5
}
