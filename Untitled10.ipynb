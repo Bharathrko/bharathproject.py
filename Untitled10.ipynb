{
 "cells": [
  {
   "cell_type": "code",
   "execution_count": 2,
   "id": "a2cb730b",
   "metadata": {},
   "outputs": [
    {
     "name": "stdout",
     "output_type": "stream",
     "text": [
      "name: dilip kumar age: 25 gender: male\n",
      "dilip kumar is age 25\n"
     ]
    }
   ],
   "source": [
    "#oops\n",
    "class bharath:\n",
    "    def __init__(self,name,age,gender):\n",
    "        self.name=name\n",
    "        self.age=age\n",
    "        self.gender=gender\n",
    "    def show(self):\n",
    "        print(\"name:\",self.name,\"age:\",self.age,\"gender:\",self.gender)\n",
    "    def sub(self):\n",
    "        print(self.name,\"is age\",self.age)\n",
    "B=bharath(\"dilip kumar\",25,\"male\")\n",
    "B.show()\n",
    "B.sub()"
   ]
  },
  {
   "cell_type": "code",
   "execution_count": 4,
   "id": "0447931e",
   "metadata": {},
   "outputs": [
    {
     "name": "stdout",
     "output_type": "stream",
     "text": [
      "student name: bharath age: 26\n",
      "college name: loyola college\n",
      "prakash 56 srm\n"
     ]
    }
   ],
   "source": [
    "class Student:\n",
    "    col_name=\"loyola college\"\n",
    "    def __init__(self,name,age):\n",
    "        self.name=name\n",
    "        self.age=age\n",
    "S=Student(\"bharath\",26)\n",
    "print(\"student name:\",S.name,\"age:\",S.age)\n",
    "print(\"college name:\",S.col_name)\n",
    "\n",
    "S.name=\"prakash\"\n",
    "S.age=56\n",
    "S.col_name=\"srm\"\n",
    "print(S.name,S.age,S.col_name)"
   ]
  },
  {
   "cell_type": "code",
   "execution_count": 7,
   "id": "400d639d",
   "metadata": {},
   "outputs": [
    {
     "name": "stdout",
     "output_type": "stream",
     "text": [
      "student pavithra 27 don bosco hr sec school\n",
      "student pavithra 25 annai velankanni\n"
     ]
    }
   ],
   "source": [
    "class Student:\n",
    "    school_name=\"don bosco hr sec school\"\n",
    "    def __init__(self,name,age):\n",
    "        self.name=name\n",
    "        self.age=age\n",
    "    def show(self):\n",
    "        print(\"student\",self.name,self.age,self.school_name)\n",
    "    def change_age(self,new_age):\n",
    "        self.age=new_age\n",
    "    @classmethod\n",
    "    def change_school_name(cls,new_name):\n",
    "        cls.school_name=new_name\n",
    "S=Student(\"pavithra\",27)\n",
    "S.show()\n",
    "S.change_age(25)\n",
    "S.change_school_name(\"annai velankanni\")\n",
    "S.show()"
   ]
  },
  {
   "cell_type": "code",
   "execution_count": 8,
   "id": "01c59cca",
   "metadata": {},
   "outputs": [
    {
     "name": "stdout",
     "output_type": "stream",
     "text": [
      "this is constructor\n",
      "brand name is: morpheus\n"
     ]
    }
   ],
   "source": [
    "class Drinks:\n",
    "    def __init__(self,name):\n",
    "        self.name=name\n",
    "        print(\"this is constructor\")\n",
    "    def show(self):\n",
    "        print(\"brand name is:\",self.name)\n",
    "dri=Drinks(\"morpheus\")\n",
    "dri.show()"
   ]
  },
  {
   "cell_type": "code",
   "execution_count": 1,
   "id": "b6a28e7d",
   "metadata": {},
   "outputs": [
    {
     "name": "stdout",
     "output_type": "stream",
     "text": [
      "inside constructor\n"
     ]
    }
   ],
   "source": [
    "class Fita:\n",
    "    def fun(self):\n",
    "        print(\"inside constructor\")\n",
    "F1=Fita()\n",
    "F1.fun()"
   ]
  },
  {
   "cell_type": "code",
   "execution_count": 2,
   "id": "720e9614",
   "metadata": {},
   "outputs": [
    {
     "name": "stdout",
     "output_type": "stream",
     "text": [
      "drinks name: brandy brand name: 1848\n"
     ]
    }
   ],
   "source": [
    "class drinks:\n",
    "    def __init__(self):\n",
    "        self.name=\"brandy\"\n",
    "        self.brand=\"1848\"\n",
    "    def show(self):\n",
    "        print(\"drinks name:\",self.name,\"brand name:\",self.brand)\n",
    "D=drinks()\n",
    "D.show()"
   ]
  },
  {
   "cell_type": "code",
   "execution_count": 9,
   "id": "c004625e",
   "metadata": {},
   "outputs": [
    {
     "name": "stdout",
     "output_type": "stream",
     "text": [
      "course_name: python batch: sunday\n",
      "object deleted\n"
     ]
    }
   ],
   "source": [
    "class Fita:\n",
    "    def __init__(self,class_name=\"python\",batch=\"sunday\"):\n",
    "        self.class_name=class_name\n",
    "        self.batch=batch\n",
    "    def show(self):\n",
    "        print(\"course_name:\",self.class_name,\"batch:\",self.batch)\n",
    "        \n",
    "        \n",
    "    def __del__(self):\n",
    "        print(\"object deleted\")\n",
    "F=Fita()\n",
    "F.show()\n",
    "del F\n",
    "\n"
   ]
  },
  {
   "cell_type": "code",
   "execution_count": 10,
   "id": "01557a4c",
   "metadata": {},
   "outputs": [
    {
     "name": "stdout",
     "output_type": "stream",
     "text": [
      "ipl rcb best captain kholi\n",
      "this is ipl match\n"
     ]
    }
   ],
   "source": [
    "class cricket:\n",
    "    def batting(self):\n",
    "        print(\"this is ipl match\")\n",
    "class kholi(cricket):\n",
    "    def bat(self):\n",
    "        print(\"ipl rcb best captain kholi\")\n",
    "ko=kholi()\n",
    "ko.bat()\n",
    "ko.batting()"
   ]
  },
  {
   "cell_type": "code",
   "execution_count": 11,
   "id": "08283e71",
   "metadata": {},
   "outputs": [
    {
     "name": "stdout",
     "output_type": "stream",
     "text": [
      "rcb vs csk match\n",
      "bat: yes bowl: no\n",
      "2023 ipl match top team\n",
      "team name: chennai super kings team members: 22\n",
      "csk team captain\n",
      "name: dhoni age: 45\n"
     ]
    }
   ],
   "source": [
    "class Ipl:\n",
    "    def batting(self,name,age):\n",
    "        print(\"csk team captain\")\n",
    "        print(\"name:\",name,\"age:\",age)\n",
    "class csk:\n",
    "    def team(self,team_name,members):\n",
    "        print(\"2023 ipl match top team\")\n",
    "        print(\"team name:\",team_name,\"team members:\",members)\n",
    "class cricket(Ipl,csk):\n",
    "    def match(self,bat,bowl):\n",
    "        print(\"rcb vs csk match\")\n",
    "        print(\"bat:\",bat,\"bowl:\",bowl)\n",
    "C=cricket()\n",
    "C.match(\"yes\",\"no\")\n",
    "C.team(\"chennai super kings\",22)\n",
    "C.batting(\"dhoni\",45)\n",
    "    "
   ]
  },
  {
   "cell_type": "code",
   "execution_count": null,
   "id": "13462aee",
   "metadata": {},
   "outputs": [],
   "source": []
  }
 ],
 "metadata": {
  "kernelspec": {
   "display_name": "Python 3 (ipykernel)",
   "language": "python",
   "name": "python3"
  },
  "language_info": {
   "codemirror_mode": {
    "name": "ipython",
    "version": 3
   },
   "file_extension": ".py",
   "mimetype": "text/x-python",
   "name": "python",
   "nbconvert_exporter": "python",
   "pygments_lexer": "ipython3",
   "version": "3.9.13"
  }
 },
 "nbformat": 4,
 "nbformat_minor": 5
}
