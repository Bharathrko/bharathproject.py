{
 "cells": [
  {
   "cell_type": "code",
   "execution_count": 1,
   "id": "35d58dd6",
   "metadata": {},
   "outputs": [
    {
     "name": "stdout",
     "output_type": "stream",
     "text": [
      "['d', 'i', 'l', 'i', 'p', ' ', 'i', 's', ' ', 'a', ' ', 'c', 'r', 'i', 'c', 'k', 'e', 't', 'e', 'r', ' ', 'a', 'n', 'd', ' ', 'h', 'i', 's', ' ', 'p', 'h', 'o', 'n', 'e', ' ', 'n', 'u', 'm', 'b', 'e', 'r', ' ', 'i', 's', ' ']\n"
     ]
    }
   ],
   "source": [
    "#regular expressions\n",
    "import re\n",
    "room=\"dilip is a cricketer and his phone number is 7200231723\"\n",
    "R=re.findall(r\"\\D\",room)\n",
    "print(R)"
   ]
  },
  {
   "cell_type": "code",
   "execution_count": 2,
   "id": "07a31219",
   "metadata": {},
   "outputs": [
    {
     "name": "stdout",
     "output_type": "stream",
     "text": [
      "['7', '2', '0', '0', '2', '3', '1', '7', '2', '3']\n"
     ]
    }
   ],
   "source": [
    "import re\n",
    "room =\"dilip is a fast bowler and his phone no is 7200231723\"\n",
    "R=re.findall(r\"\\d\",room)\n",
    "print(R)"
   ]
  },
  {
   "cell_type": "code",
   "execution_count": 13,
   "id": "76e89f4d",
   "metadata": {},
   "outputs": [
    {
     "name": "stdout",
     "output_type": "stream",
     "text": [
      "<re.Match object; span=(0, 1), match='D'>\n",
      "<re.Match object; span=(35, 36), match='9'>\n",
      "['9', '3', '4', '4', '0', '3', '9', '3', '5', '7']\n",
      "['Dilip', 'is', 'A', 'miser', 'and', 'his', 'mobile', 'no', '9344039357']\n",
      "Dilip*is*A*miser*and*his*mobile*no*9344039357\n"
     ]
    }
   ],
   "source": [
    "import re\n",
    "fita=\"Dilip is A miser and his mobile no 9344039357\"\n",
    "com=r\"\\w\"\n",
    "pattern=re.compile(com)\n",
    "res=pattern.match(fita)\n",
    "print(res)\n",
    "bi=re.search(r\"\\d\",fita)\n",
    "print(bi)\n",
    "res=re.findall(r\"\\d\",fita)\n",
    "print(res)\n",
    "res=re.split(r\"\\s\",fita)\n",
    "print(res)\n",
    "res=re.sub(r\"\\s\",\"*\",fita)\n",
    "print(res)"
   ]
  },
  {
   "cell_type": "code",
   "execution_count": null,
   "id": "0d3bfb78",
   "metadata": {},
   "outputs": [],
   "source": []
  },
  {
   "cell_type": "code",
   "execution_count": null,
   "id": "7b62f1d3",
   "metadata": {},
   "outputs": [],
   "source": []
  }
 ],
 "metadata": {
  "kernelspec": {
   "display_name": "Python 3 (ipykernel)",
   "language": "python",
   "name": "python3"
  },
  "language_info": {
   "codemirror_mode": {
    "name": "ipython",
    "version": 3
   },
   "file_extension": ".py",
   "mimetype": "text/x-python",
   "name": "python",
   "nbconvert_exporter": "python",
   "pygments_lexer": "ipython3",
   "version": "3.9.13"
  }
 },
 "nbformat": 4,
 "nbformat_minor": 5
}
