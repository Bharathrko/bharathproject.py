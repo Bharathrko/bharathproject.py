{
 "cells": [
  {
   "cell_type": "code",
   "execution_count": 1,
   "id": "c2939e01",
   "metadata": {},
   "outputs": [
    {
     "name": "stdout",
     "output_type": "stream",
     "text": [
      "this is playoff\n",
      "batter: yes bowler: no\n",
      "auction for 2023\n",
      "team: rcb members: 24\n",
      "this is cricket batting\n",
      "name: kholi age: 35\n"
     ]
    }
   ],
   "source": [
    "class Cricket:\n",
    "    def batting(self,name,age):\n",
    "        print(\"this is cricket batting\")\n",
    "        print(\"name:\",name,\"age:\",age)\n",
    "class Ipl:\n",
    "    def Csk(self,team_name,members):\n",
    "        print(\"auction for 2023\")\n",
    "        print(\"team:\",team_name,\"members:\",members)\n",
    "class team(Cricket,Ipl):\n",
    "    def playoff(self,bat,bowl):\n",
    "        print(\"this is playoff\")\n",
    "        print(\"batter:\",bat,\"bowler:\",bowl)\n",
    "T=team()\n",
    "T.playoff(\"yes\",\"no\")\n",
    "T.Csk(\"rcb\",24)\n",
    "T.batting(\"kholi\",35)\n",
    "    "
   ]
  },
  {
   "cell_type": "code",
   "execution_count": 3,
   "id": "8652d4fe",
   "metadata": {},
   "outputs": [
    {
     "name": "stdout",
     "output_type": "stream",
     "text": [
      "this is playoff\n",
      "batter: no bowler: yes\n",
      "auction for 2023\n",
      "team: rcb members: 24\n",
      "this is cricket batting\n",
      "name: dhoni age: 24\n",
      "auction for 2023\n",
      "team: rcb members: 25\n",
      "this is cricket batting\n",
      "name: rishab age: 28\n"
     ]
    }
   ],
   "source": [
    "class Cricket:\n",
    "     def batting(self,name,age):\n",
    "        print(\"this is cricket batting\")\n",
    "        print(\"name:\",name,\"age:\",age)\n",
    "class Ipl(Cricket):\n",
    "    def Csk(self,team_name,members):\n",
    "        print(\"auction for 2023\")\n",
    "        print(\"team:\",team_name,\"members:\",members)\n",
    "class team(Ipl):\n",
    "    def playoff(self,bat,bowl):\n",
    "        print(\"this is playoff\")\n",
    "        print(\"batter:\",bat,\"bowler:\",bowl)\n",
    "T=team()\n",
    "T.playoff(\"no\",\"yes\")\n",
    "T.Csk(\"rcb\",24)\n",
    "T.batting(\"dhoni\",24)\n",
    "\n",
    "I=Ipl()\n",
    "I.Csk(\"rcb\",25)\n",
    "I.batting(\"rishab\",28)\n",
    "    "
   ]
  },
  {
   "cell_type": "code",
   "execution_count": 10,
   "id": "b5a0f066",
   "metadata": {},
   "outputs": [
    {
     "name": "stdout",
     "output_type": "stream",
     "text": [
      "this is 2023 ipl match\n",
      "best team captain: dhoni age: 45\n",
      "this is csk team\n",
      "captain name: dhoni age: 40\n",
      "this is aust match\n",
      "t_name: aust role: <class '__main__.team'>\n",
      "this is 2023 ipl match\n",
      "best team captain: warner age: 25\n"
     ]
    }
   ],
   "source": [
    "class Cricket:\n",
    "    def batting(self,name,age):\n",
    "        print(\"this is 2023 ipl match\")\n",
    "        print(\"best team captain:\",name,\"age:\",age)\n",
    "class Ipl(Cricket):\n",
    "    def Csk(self,captain,age):\n",
    "        print(\"this is csk team\")\n",
    "        print(\"captain name:\",captain,\"age:\",age)\n",
    "class Bbl(Cricket):\n",
    "    def aust(self,t_name,role):\n",
    "        print(\"this is aust match\")\n",
    "        print(\"t_name:\",t_name,\"role:\",role)\n",
    "class t20(Cricket):\n",
    "    def india(self,captain,age):\n",
    "        print(\"this is india team\")\n",
    "        print(\"captain:\",captain,\"age:\",age)\n",
    "I=Ipl()\n",
    "I.batting(\"dhoni\",45)\n",
    "I.Csk(\"dhoni\",40)\n",
    "\n",
    "B=Bbl()\n",
    "B.aust(\"aust\",team)\n",
    "B.batting('warner',25)\n"
   ]
  },
  {
   "cell_type": "code",
   "execution_count": null,
   "id": "40806baf",
   "metadata": {},
   "outputs": [],
   "source": []
  }
 ],
 "metadata": {
  "kernelspec": {
   "display_name": "Python 3 (ipykernel)",
   "language": "python",
   "name": "python3"
  },
  "language_info": {
   "codemirror_mode": {
    "name": "ipython",
    "version": 3
   },
   "file_extension": ".py",
   "mimetype": "text/x-python",
   "name": "python",
   "nbconvert_exporter": "python",
   "pygments_lexer": "ipython3",
   "version": "3.9.13"
  }
 },
 "nbformat": 4,
 "nbformat_minor": 5
}
