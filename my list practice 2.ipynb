{
 "cells": [
  {
   "cell_type": "code",
   "execution_count": 1,
   "id": "6432e927",
   "metadata": {},
   "outputs": [
    {
     "name": "stdout",
     "output_type": "stream",
     "text": [
      "[1, 4, 5, 6, 7, 8]\n",
      "<class 'list'>\n"
     ]
    }
   ],
   "source": [
    "#list\n",
    "mylist=[1,4,5,6,7,8]\n",
    "mylist1=[]\n",
    "print(mylist)\n",
    "print(type(mylist1))"
   ]
  },
  {
   "cell_type": "code",
   "execution_count": 2,
   "id": "3d4c8161-b703-4f53-b0a5-18204463aed2",
   "metadata": {},
   "outputs": [
    {
     "name": "stdout",
     "output_type": "stream",
     "text": [
      "[5, 12.5, 'bharath', 'dilip']\n"
     ]
    }
   ],
   "source": [
    "mylist2=[5,12.5,\"bharath\",\"dilip\"]\n",
    "print(mylist2)"
   ]
  },
  {
   "cell_type": "code",
   "execution_count": 3,
   "id": "67d5727c",
   "metadata": {},
   "outputs": [
    {
     "name": "stdout",
     "output_type": "stream",
     "text": [
      "[5, 4, 6, ['bharath', 'suresh'], 12.5, 'dilip']\n"
     ]
    }
   ],
   "source": [
    "mylist3=[5,4,6,[\"bharath\",\"suresh\"],12.5,\"dilip\"]\n",
    "print(mylist3)"
   ]
  },
  {
   "cell_type": "code",
   "execution_count": 4,
   "id": "3f291833",
   "metadata": {},
   "outputs": [
    {
     "name": "stdout",
     "output_type": "stream",
     "text": [
      "6\n",
      "12.5\n",
      "dilip\n",
      "12.5\n",
      "suresh\n"
     ]
    }
   ],
   "source": [
    "print(mylist[3])\n",
    "print(mylist2[1])\n",
    "print(mylist2[-1])\n",
    "print(mylist3[-2])\n",
    "print(mylist3[3][1])\n"
   ]
  },
  {
   "cell_type": "code",
   "execution_count": 5,
   "id": "7993f943",
   "metadata": {},
   "outputs": [
    {
     "name": "stdout",
     "output_type": "stream",
     "text": [
      "['bharath', 'suresh']\n"
     ]
    }
   ],
   "source": [
    "print(mylist3[3])"
   ]
  },
  {
   "cell_type": "code",
   "execution_count": 6,
   "id": "2b10a13b-1702-41d1-a680-2d467756e158",
   "metadata": {},
   "outputs": [
    {
     "name": "stdout",
     "output_type": "stream",
     "text": [
      "[\"bharath\",\"pavithra\"]\n",
      "['[\"bharath\",\"pavithra\"]']\n"
     ]
    }
   ],
   "source": [
    "mylist4=input()\n",
    "conli=mylist4.split()\n",
    "print(conli)"
   ]
  },
  {
   "cell_type": "code",
   "execution_count": 8,
   "id": "1f78249b-a0c8-4cfa-a2ff-0b6b966d7abf",
   "metadata": {},
   "outputs": [
    {
     "name": "stdout",
     "output_type": "stream",
     "text": [
      "6\n",
      "4\n",
      "6\n"
     ]
    }
   ],
   "source": [
    "print(len(mylist))\n",
    "print(len(mylist2))\n",
    "print(len(mylist3))"
   ]
  },
  {
   "cell_type": "code",
   "execution_count": 13,
   "id": "ee793342-7f0c-4a07-957b-3b4fd5379c6c",
   "metadata": {},
   "outputs": [
    {
     "name": "stdout",
     "output_type": "stream",
     "text": [
      "[1, 4, 5, 6, 7, 8, 50, 50, 50, 50, 50]\n",
      "[]\n"
     ]
    }
   ],
   "source": [
    "mylist.append(50)\n",
    "mylist3.append(\"pavithra\")\n",
    "print(mylist)\n",
    "print(mylist1)"
   ]
  },
  {
   "cell_type": "code",
   "execution_count": 16,
   "id": "58beca77-b317-45f9-a90d-fd7e864988de",
   "metadata": {},
   "outputs": [
    {
     "name": "stdout",
     "output_type": "stream",
     "text": [
      "[1, 4, 10.77, 10.77, 5, 6, 7, 8, 50, 50, 50, 50, 50]\n"
     ]
    }
   ],
   "source": [
    "mylist.insert(2,10.77)\n",
    "print(mylist)"
   ]
  },
  {
   "cell_type": "code",
   "execution_count": 17,
   "id": "8c5bad8a-886f-4249-8eea-53c0bc81a95d",
   "metadata": {},
   "outputs": [
    {
     "name": "stdout",
     "output_type": "stream",
     "text": [
      "[1, 4, 10.77, 10.77, 5, 6, 7, 8, 50, 50, 50, 50, 50, 'bharath', 'poornima']\n"
     ]
    }
   ],
   "source": [
    "mylist.extend([\"bharath\",\"poornima\"])\n",
    "print(mylist)"
   ]
  },
  {
   "cell_type": "code",
   "execution_count": 18,
   "id": "c73760fb-d260-4014-b280-e1da97028d68",
   "metadata": {},
   "outputs": [
    {
     "name": "stdout",
     "output_type": "stream",
     "text": [
      "['poornima', 'bharath', 50, 50, 50, 50, 50, 8, 7, 6, 5, 10.77, 10.77, 4, 1]\n"
     ]
    }
   ],
   "source": [
    "mylist5=mylist\n",
    "mylist5.reverse()\n",
    "print(mylist5)\n"
   ]
  },
  {
   "cell_type": "code",
   "execution_count": 19,
   "id": "638c69f5-2eb2-4e82-a7e4-2b28bec26a01",
   "metadata": {},
   "outputs": [
    {
     "name": "stdout",
     "output_type": "stream",
     "text": [
      "['poornima', 'bharath', 50, 50, 50, 50, 8, 7, 6, 5, 10.77, 10.77, 4, 1]\n"
     ]
    }
   ],
   "source": [
    "mylist.remove(50)\n",
    "print(mylist)"
   ]
  },
  {
   "cell_type": "code",
   "execution_count": 20,
   "id": "f128245f-8420-4de9-a920-f4eee5e608d7",
   "metadata": {},
   "outputs": [
    {
     "name": "stdout",
     "output_type": "stream",
     "text": [
      "[5, 12.5, 'bharath', 'dilip']\n"
     ]
    }
   ],
   "source": [
    "mylist2.pop()\n",
    "print(mylist2)"
   ]
  },
  {
   "cell_type": "code",
   "execution_count": 25,
   "id": "045c4a76-e163-4456-99b8-c0090ae9bdf1",
   "metadata": {},
   "outputs": [
    {
     "name": "stdout",
     "output_type": "stream",
     "text": [
      "['bharath', 50, 50, 50, 50, 8, 7, 6, 5, 10.77, 10.77, 4, 1]\n",
      "['poornima']\n",
      "[10.77, 4, 1]\n"
     ]
    }
   ],
   "source": [
    "print(mylist[1:])\n",
    "print(mylist[:1])\n",
    "print(mylist[-3:])"
   ]
  },
  {
   "cell_type": "code",
   "execution_count": 26,
   "id": "314bc377",
   "metadata": {},
   "outputs": [
    {
     "name": "stdout",
     "output_type": "stream",
     "text": [
      "['poornima', 'bharath', 50, 50, 50, 50, 8, 7, 6, 5, 10.77, 10.77, 4, 1, 5, 12.5, 'bharath', 'dilip']\n"
     ]
    }
   ],
   "source": [
    "mylist6=mylist+mylist2\n",
    "print(mylist6)"
   ]
  },
  {
   "cell_type": "code",
   "execution_count": 27,
   "id": "9593e414",
   "metadata": {},
   "outputs": [
    {
     "name": "stdout",
     "output_type": "stream",
     "text": [
      "True\n"
     ]
    }
   ],
   "source": [
    "print(\"bharath\" in mylist)"
   ]
  },
  {
   "cell_type": "code",
   "execution_count": 28,
   "id": "2328ab95",
   "metadata": {},
   "outputs": [
    {
     "name": "stdout",
     "output_type": "stream",
     "text": [
      "[]\n"
     ]
    }
   ],
   "source": [
    "mylist.clear()\n",
    "print(mylist)"
   ]
  },
  {
   "cell_type": "code",
   "execution_count": 30,
   "id": "88087c85",
   "metadata": {},
   "outputs": [
    {
     "ename": "NameError",
     "evalue": "name 'mylist' is not defined",
     "output_type": "error",
     "traceback": [
      "\u001b[1;31m---------------------------------------------------------------------------\u001b[0m",
      "\u001b[1;31mNameError\u001b[0m                                 Traceback (most recent call last)",
      "\u001b[1;32m~\\AppData\\Local\\Temp\\ipykernel_13744\\657438502.py\u001b[0m in \u001b[0;36m<module>\u001b[1;34m\u001b[0m\n\u001b[1;32m----> 1\u001b[1;33m \u001b[1;32mdel\u001b[0m \u001b[0mmylist\u001b[0m\u001b[1;33m\u001b[0m\u001b[1;33m\u001b[0m\u001b[0m\n\u001b[0m",
      "\u001b[1;31mNameError\u001b[0m: name 'mylist' is not defined"
     ]
    }
   ],
   "source": [
    "del mylist\n"
   ]
  },
  {
   "cell_type": "code",
   "execution_count": null,
   "id": "2b3d8742",
   "metadata": {},
   "outputs": [],
   "source": []
  }
 ],
 "metadata": {
  "kernelspec": {
   "display_name": "Python 3 (ipykernel)",
   "language": "python",
   "name": "python3"
  },
  "language_info": {
   "codemirror_mode": {
    "name": "ipython",
    "version": 3
   },
   "file_extension": ".py",
   "mimetype": "text/x-python",
   "name": "python",
   "nbconvert_exporter": "python",
   "pygments_lexer": "ipython3",
   "version": "3.9.13"
  }
 },
 "nbformat": 4,
 "nbformat_minor": 5
}
